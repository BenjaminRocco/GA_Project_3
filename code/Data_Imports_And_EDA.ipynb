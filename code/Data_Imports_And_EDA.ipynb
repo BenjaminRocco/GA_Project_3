{
 "cells": [
  {
   "cell_type": "code",
   "execution_count": 634,
   "id": "1da6edc3-c0d5-4ea5-9463-5d2bd3583bb3",
   "metadata": {},
   "outputs": [],
   "source": [
    "#README FIRST: Data Cleaning, Munging and EDA File for Project Three\n",
    "import os\n",
    "import pandas as pd\n",
    "import numpy as np\n",
    "import re\n",
    "pd.set_option('display.max_rows', 5) #Ensure this is here to avoiding elongating the file"
   ]
  },
  {
   "cell_type": "markdown",
   "id": "dc50fc9d-2146-43f0-b8da-de8d86da2ae8",
   "metadata": {},
   "source": [
    "### Loading in All Data"
   ]
  },
  {
   "cell_type": "code",
   "execution_count": 635,
   "id": "7f14831e-e816-40c7-9914-d07ddcfff992",
   "metadata": {},
   "outputs": [],
   "source": [
    "# Directory path\n",
    "directory_path = '../data'\n",
    "\n",
    "# Create an empty list to store DataFrames\n",
    "dfs_list = []\n",
    "\n",
    "# Loop through list\n",
    "for i in range(1, 53):\n",
    "    # Construct the file path based on the pattern\n",
    "    file_path = os.path.join(directory_path, f'df_d{i}.csv')\n",
    "    \n",
    "    # Check if the file exists before attempting to read it\n",
    "    if os.path.exists(file_path):\n",
    "        # Read CSV into DataFrame\n",
    "        df = pd.read_csv(file_path)\n",
    "        # Append DataFrame to the list\n",
    "        dfs_list.append(df)\n",
    "\n",
    "# Concatenate DataFrames in the list\n",
    "df_dem = pd.concat(dfs_list).reset_index(drop=True)\n",
    "\n",
    "# Create an empty list to store DataFrames\n",
    "dfs_list_rep = []\n",
    "\n",
    "# Loop through list\n",
    "for i in range(1, 53):\n",
    "    # Construct the file path based on the pattern\n",
    "    file_path_r = os.path.join(directory_path, f'df_r{i}.csv')\n",
    "    \n",
    "    # Check if the file exists before attempting to read it\n",
    "    if os.path.exists(file_path_r):\n",
    "        # Read CSV into DataFrame\n",
    "        df_rep = pd.read_csv(file_path_r)\n",
    "        # Append DataFrame to the list\n",
    "        dfs_list_rep.append(df_rep)\n",
    "\n",
    "# Concatenate DataFrames in the list\n",
    "df_rep = pd.concat(dfs_list_rep).reset_index(drop=True)"
   ]
  },
  {
   "cell_type": "markdown",
   "id": "870be30c-2e4e-4af5-b682-05bbbb1f02a2",
   "metadata": {},
   "source": [
    "#### NOTE:  The drop_duplicates() method removes duplicate rows. Use the subset parameter if only some specified columns should be considered when looking for duplicates.\n"
   ]
  },
  {
   "cell_type": "markdown",
   "id": "171bd141",
   "metadata": {},
   "source": [
    "### Drop duplicates"
   ]
  },
  {
   "cell_type": "code",
   "execution_count": 636,
   "id": "c82e0d53-3730-4ef0-ab79-0e8879175911",
   "metadata": {},
   "outputs": [],
   "source": [
    "df_dem = df_dem.drop_duplicates(inplace=False, ignore_index=True)"
   ]
  },
  {
   "cell_type": "code",
   "execution_count": 637,
   "id": "192ad02e-e089-42cf-821a-8b996f0ae393",
   "metadata": {},
   "outputs": [],
   "source": [
    "df_rep = df_rep.drop_duplicates(inplace=False, ignore_index=True)"
   ]
  },
  {
   "cell_type": "markdown",
   "id": "652017fe",
   "metadata": {},
   "source": [
    "### Drop Superfluous Columns"
   ]
  },
  {
   "cell_type": "code",
   "execution_count": 638,
   "id": "a4532ff2-cc86-48ac-a1bc-13b1b63c29b3",
   "metadata": {},
   "outputs": [],
   "source": [
    "columns_to_drop = ['selftext', 'created_utc','name','0']\n",
    "\n",
    "# for df_dem\n",
    "df_dem = df_dem.drop(columns=columns_to_drop)\n",
    "\n",
    "# for df_rep\n",
    "df_rep = df_rep.drop(columns=columns_to_drop)"
   ]
  },
  {
   "cell_type": "markdown",
   "id": "d1cd305b-48de-48f4-a2cf-44a0285e77be",
   "metadata": {},
   "source": [
    "### Visual inspection"
   ]
  },
  {
   "cell_type": "code",
   "execution_count": 639,
   "id": "e2bb387a-6956-4d80-a52d-5b667f5f6a5b",
   "metadata": {},
   "outputs": [
    {
     "data": {
      "text/html": [
       "<div>\n",
       "<style scoped>\n",
       "    .dataframe tbody tr th:only-of-type {\n",
       "        vertical-align: middle;\n",
       "    }\n",
       "\n",
       "    .dataframe tbody tr th {\n",
       "        vertical-align: top;\n",
       "    }\n",
       "\n",
       "    .dataframe thead th {\n",
       "        text-align: right;\n",
       "    }\n",
       "</style>\n",
       "<table border=\"1\" class=\"dataframe\">\n",
       "  <thead>\n",
       "    <tr style=\"text-align: right;\">\n",
       "      <th></th>\n",
       "      <th>title</th>\n",
       "      <th>subreddit</th>\n",
       "      <th>comments</th>\n",
       "    </tr>\n",
       "  </thead>\n",
       "  <tbody>\n",
       "    <tr>\n",
       "      <th>0</th>\n",
       "      <td>Georgia Prosecutors Had Tense Exchange on Raci...</td>\n",
       "      <td>democrats</td>\n",
       "      <td>NaN</td>\n",
       "    </tr>\n",
       "    <tr>\n",
       "      <th>1</th>\n",
       "      <td>Biden's campaign pushes abortion rights in bat...</td>\n",
       "      <td>democrats</td>\n",
       "      <td>NaN</td>\n",
       "    </tr>\n",
       "    <tr>\n",
       "      <th>...</th>\n",
       "      <td>...</td>\n",
       "      <td>...</td>\n",
       "      <td>...</td>\n",
       "    </tr>\n",
       "    <tr>\n",
       "      <th>2783</th>\n",
       "      <td>WHAT JOE BIDEN HAS DONE</td>\n",
       "      <td>democrats</td>\n",
       "      <td>NaN</td>\n",
       "    </tr>\n",
       "    <tr>\n",
       "      <th>2784</th>\n",
       "      <td>Calls for southern states to mobilize troops t...</td>\n",
       "      <td>democrats</td>\n",
       "      <td>NaN</td>\n",
       "    </tr>\n",
       "  </tbody>\n",
       "</table>\n",
       "<p>2785 rows × 3 columns</p>\n",
       "</div>"
      ],
      "text/plain": [
       "                                                  title  subreddit comments\n",
       "0     Georgia Prosecutors Had Tense Exchange on Raci...  democrats      NaN\n",
       "1     Biden's campaign pushes abortion rights in bat...  democrats      NaN\n",
       "...                                                 ...        ...      ...\n",
       "2783                            WHAT JOE BIDEN HAS DONE  democrats      NaN\n",
       "2784  Calls for southern states to mobilize troops t...  democrats      NaN\n",
       "\n",
       "[2785 rows x 3 columns]"
      ]
     },
     "execution_count": 639,
     "metadata": {},
     "output_type": "execute_result"
    }
   ],
   "source": [
    "df_dem"
   ]
  },
  {
   "cell_type": "code",
   "execution_count": 640,
   "id": "c0502896-4529-449f-9ad7-810319e13c18",
   "metadata": {},
   "outputs": [
    {
     "data": {
      "text/html": [
       "<div>\n",
       "<style scoped>\n",
       "    .dataframe tbody tr th:only-of-type {\n",
       "        vertical-align: middle;\n",
       "    }\n",
       "\n",
       "    .dataframe tbody tr th {\n",
       "        vertical-align: top;\n",
       "    }\n",
       "\n",
       "    .dataframe thead th {\n",
       "        text-align: right;\n",
       "    }\n",
       "</style>\n",
       "<table border=\"1\" class=\"dataframe\">\n",
       "  <thead>\n",
       "    <tr style=\"text-align: right;\">\n",
       "      <th></th>\n",
       "      <th>title</th>\n",
       "      <th>subreddit</th>\n",
       "    </tr>\n",
       "  </thead>\n",
       "  <tbody>\n",
       "    <tr>\n",
       "      <th>0</th>\n",
       "      <td>Texas Refuses To Comply With Federal Governmen...</td>\n",
       "      <td>Republican</td>\n",
       "    </tr>\n",
       "    <tr>\n",
       "      <th>1</th>\n",
       "      <td>Florida Bans State, Federal Funding For DEI At...</td>\n",
       "      <td>Republican</td>\n",
       "    </tr>\n",
       "    <tr>\n",
       "      <th>...</th>\n",
       "      <td>...</td>\n",
       "      <td>...</td>\n",
       "    </tr>\n",
       "    <tr>\n",
       "      <th>2635</th>\n",
       "      <td>Pro Palestinian radical caught mid tirade verb...</td>\n",
       "      <td>Republican</td>\n",
       "    </tr>\n",
       "    <tr>\n",
       "      <th>2636</th>\n",
       "      <td>Texas AG is “saying the Department of Homeland...</td>\n",
       "      <td>Republican</td>\n",
       "    </tr>\n",
       "  </tbody>\n",
       "</table>\n",
       "<p>2637 rows × 2 columns</p>\n",
       "</div>"
      ],
      "text/plain": [
       "                                                  title   subreddit\n",
       "0     Texas Refuses To Comply With Federal Governmen...  Republican\n",
       "1     Florida Bans State, Federal Funding For DEI At...  Republican\n",
       "...                                                 ...         ...\n",
       "2635  Pro Palestinian radical caught mid tirade verb...  Republican\n",
       "2636  Texas AG is “saying the Department of Homeland...  Republican\n",
       "\n",
       "[2637 rows x 2 columns]"
      ]
     },
     "execution_count": 640,
     "metadata": {},
     "output_type": "execute_result"
    }
   ],
   "source": [
    "df_rep"
   ]
  },
  {
   "cell_type": "markdown",
   "id": "a696c2df-1c8c-48b2-94f7-290be55a5a19",
   "metadata": {},
   "source": [
    "### Combining Dataframes "
   ]
  },
  {
   "cell_type": "code",
   "execution_count": 641,
   "id": "802b4cb0-9e53-4267-8a22-b54d93ddbaa6",
   "metadata": {},
   "outputs": [
    {
     "data": {
      "text/html": [
       "<div>\n",
       "<style scoped>\n",
       "    .dataframe tbody tr th:only-of-type {\n",
       "        vertical-align: middle;\n",
       "    }\n",
       "\n",
       "    .dataframe tbody tr th {\n",
       "        vertical-align: top;\n",
       "    }\n",
       "\n",
       "    .dataframe thead th {\n",
       "        text-align: right;\n",
       "    }\n",
       "</style>\n",
       "<table border=\"1\" class=\"dataframe\">\n",
       "  <thead>\n",
       "    <tr style=\"text-align: right;\">\n",
       "      <th></th>\n",
       "      <th>title</th>\n",
       "      <th>subreddit</th>\n",
       "      <th>comments</th>\n",
       "    </tr>\n",
       "  </thead>\n",
       "  <tbody>\n",
       "    <tr>\n",
       "      <th>0</th>\n",
       "      <td>Georgia Prosecutors Had Tense Exchange on Raci...</td>\n",
       "      <td>democrats</td>\n",
       "      <td>NaN</td>\n",
       "    </tr>\n",
       "    <tr>\n",
       "      <th>1</th>\n",
       "      <td>Biden's campaign pushes abortion rights in bat...</td>\n",
       "      <td>democrats</td>\n",
       "      <td>NaN</td>\n",
       "    </tr>\n",
       "    <tr>\n",
       "      <th>...</th>\n",
       "      <td>...</td>\n",
       "      <td>...</td>\n",
       "      <td>...</td>\n",
       "    </tr>\n",
       "    <tr>\n",
       "      <th>5420</th>\n",
       "      <td>Pro Palestinian radical caught mid tirade verb...</td>\n",
       "      <td>Republican</td>\n",
       "      <td>NaN</td>\n",
       "    </tr>\n",
       "    <tr>\n",
       "      <th>5421</th>\n",
       "      <td>Texas AG is “saying the Department of Homeland...</td>\n",
       "      <td>Republican</td>\n",
       "      <td>NaN</td>\n",
       "    </tr>\n",
       "  </tbody>\n",
       "</table>\n",
       "<p>5422 rows × 3 columns</p>\n",
       "</div>"
      ],
      "text/plain": [
       "                                                  title   subreddit comments\n",
       "0     Georgia Prosecutors Had Tense Exchange on Raci...   democrats      NaN\n",
       "1     Biden's campaign pushes abortion rights in bat...   democrats      NaN\n",
       "...                                                 ...         ...      ...\n",
       "5420  Pro Palestinian radical caught mid tirade verb...  Republican      NaN\n",
       "5421  Texas AG is “saying the Department of Homeland...  Republican      NaN\n",
       "\n",
       "[5422 rows x 3 columns]"
      ]
     },
     "execution_count": 641,
     "metadata": {},
     "output_type": "execute_result"
    }
   ],
   "source": [
    "df_both = pd.concat([df_dem, df_rep]).reset_index(drop=True)\n",
    "df_both"
   ]
  },
  {
   "cell_type": "markdown",
   "id": "bc914605-159a-4664-b73b-32f1d181a492",
   "metadata": {},
   "source": [
    "### Dummifying the `subreddit` Column"
   ]
  },
  {
   "cell_type": "code",
   "execution_count": 642,
   "id": "5cd0fdf0-4a32-4a6f-a40e-43125c72ba71",
   "metadata": {},
   "outputs": [],
   "source": [
    "# Democrats, denoted 1, are taken to be the positive class \n",
    "\n",
    "df_both['subreddit'] = np.where(df_both['subreddit'] == 'democrats', 1, 0)"
   ]
  },
  {
   "cell_type": "code",
   "execution_count": 643,
   "id": "d03db2e3-d900-4c31-a0b1-2fae54ce5085",
   "metadata": {},
   "outputs": [
    {
     "data": {
      "text/html": [
       "<div>\n",
       "<style scoped>\n",
       "    .dataframe tbody tr th:only-of-type {\n",
       "        vertical-align: middle;\n",
       "    }\n",
       "\n",
       "    .dataframe tbody tr th {\n",
       "        vertical-align: top;\n",
       "    }\n",
       "\n",
       "    .dataframe thead th {\n",
       "        text-align: right;\n",
       "    }\n",
       "</style>\n",
       "<table border=\"1\" class=\"dataframe\">\n",
       "  <thead>\n",
       "    <tr style=\"text-align: right;\">\n",
       "      <th></th>\n",
       "      <th>title</th>\n",
       "      <th>subreddit</th>\n",
       "      <th>comments</th>\n",
       "    </tr>\n",
       "  </thead>\n",
       "  <tbody>\n",
       "    <tr>\n",
       "      <th>0</th>\n",
       "      <td>Georgia Prosecutors Had Tense Exchange on Raci...</td>\n",
       "      <td>1</td>\n",
       "      <td>NaN</td>\n",
       "    </tr>\n",
       "    <tr>\n",
       "      <th>1</th>\n",
       "      <td>Biden's campaign pushes abortion rights in bat...</td>\n",
       "      <td>1</td>\n",
       "      <td>NaN</td>\n",
       "    </tr>\n",
       "    <tr>\n",
       "      <th>...</th>\n",
       "      <td>...</td>\n",
       "      <td>...</td>\n",
       "      <td>...</td>\n",
       "    </tr>\n",
       "    <tr>\n",
       "      <th>5420</th>\n",
       "      <td>Pro Palestinian radical caught mid tirade verb...</td>\n",
       "      <td>0</td>\n",
       "      <td>NaN</td>\n",
       "    </tr>\n",
       "    <tr>\n",
       "      <th>5421</th>\n",
       "      <td>Texas AG is “saying the Department of Homeland...</td>\n",
       "      <td>0</td>\n",
       "      <td>NaN</td>\n",
       "    </tr>\n",
       "  </tbody>\n",
       "</table>\n",
       "<p>5422 rows × 3 columns</p>\n",
       "</div>"
      ],
      "text/plain": [
       "                                                  title  subreddit comments\n",
       "0     Georgia Prosecutors Had Tense Exchange on Raci...          1      NaN\n",
       "1     Biden's campaign pushes abortion rights in bat...          1      NaN\n",
       "...                                                 ...        ...      ...\n",
       "5420  Pro Palestinian radical caught mid tirade verb...          0      NaN\n",
       "5421  Texas AG is “saying the Department of Homeland...          0      NaN\n",
       "\n",
       "[5422 rows x 3 columns]"
      ]
     },
     "execution_count": 643,
     "metadata": {},
     "output_type": "execute_result"
    }
   ],
   "source": [
    "# pd.set_option('display.max_rows', None)\n",
    "df_both"
   ]
  },
  {
   "cell_type": "code",
   "execution_count": 644,
   "id": "8e3e018c-dfdc-4180-8d72-b7613d31d5d3",
   "metadata": {},
   "outputs": [],
   "source": [
    "# Used for moving comments to titles"
   ]
  },
  {
   "cell_type": "markdown",
   "id": "dfb95e51",
   "metadata": {},
   "source": [
    "#### The following steps are to remove comments from these dataframes after a few previous attempts at including them within the data gathering process. "
   ]
  },
  {
   "cell_type": "code",
   "execution_count": 645,
   "id": "9e6cd97b-543d-4729-9840-10b1994e7f9a",
   "metadata": {},
   "outputs": [
    {
     "data": {
      "text/html": [
       "<div>\n",
       "<style scoped>\n",
       "    .dataframe tbody tr th:only-of-type {\n",
       "        vertical-align: middle;\n",
       "    }\n",
       "\n",
       "    .dataframe tbody tr th {\n",
       "        vertical-align: top;\n",
       "    }\n",
       "\n",
       "    .dataframe thead th {\n",
       "        text-align: right;\n",
       "    }\n",
       "</style>\n",
       "<table border=\"1\" class=\"dataframe\">\n",
       "  <thead>\n",
       "    <tr style=\"text-align: right;\">\n",
       "      <th></th>\n",
       "      <th>title</th>\n",
       "      <th>subreddit</th>\n",
       "      <th>comments</th>\n",
       "    </tr>\n",
       "  </thead>\n",
       "  <tbody>\n",
       "    <tr>\n",
       "      <th>0</th>\n",
       "      <td>Georgia Prosecutors Had Tense Exchange on Raci...</td>\n",
       "      <td>1</td>\n",
       "      <td></td>\n",
       "    </tr>\n",
       "    <tr>\n",
       "      <th>1</th>\n",
       "      <td>Biden's campaign pushes abortion rights in bat...</td>\n",
       "      <td>1</td>\n",
       "      <td></td>\n",
       "    </tr>\n",
       "    <tr>\n",
       "      <th>...</th>\n",
       "      <td>...</td>\n",
       "      <td>...</td>\n",
       "      <td>...</td>\n",
       "    </tr>\n",
       "    <tr>\n",
       "      <th>5420</th>\n",
       "      <td>Pro Palestinian radical caught mid tirade verb...</td>\n",
       "      <td>0</td>\n",
       "      <td></td>\n",
       "    </tr>\n",
       "    <tr>\n",
       "      <th>5421</th>\n",
       "      <td>Texas AG is “saying the Department of Homeland...</td>\n",
       "      <td>0</td>\n",
       "      <td></td>\n",
       "    </tr>\n",
       "  </tbody>\n",
       "</table>\n",
       "<p>5422 rows × 3 columns</p>\n",
       "</div>"
      ],
      "text/plain": [
       "                                                  title  subreddit comments\n",
       "0     Georgia Prosecutors Had Tense Exchange on Raci...          1         \n",
       "1     Biden's campaign pushes abortion rights in bat...          1         \n",
       "...                                                 ...        ...      ...\n",
       "5420  Pro Palestinian radical caught mid tirade verb...          0         \n",
       "5421  Texas AG is “saying the Department of Homeland...          0         \n",
       "\n",
       "[5422 rows x 3 columns]"
      ]
     },
     "execution_count": 645,
     "metadata": {},
     "output_type": "execute_result"
    }
   ],
   "source": [
    "# Step 1: Create a mask for rows where both 'title' and 'comments' are occupied\n",
    "mask = (pd.notna(df_both['title'])) & (pd.notna(df_both['comments']))\n",
    "\n",
    "# Step 2: Replace 'title' with 'comments' for the selected rows\n",
    "df_both.loc[mask, 'title'] = df_both.loc[mask, 'comments']\n",
    "\n",
    "# Step 3: Optional - Empty the 'comments' column\n",
    "df_both['comments'] = ''\n",
    "\n",
    "# Display the DataFrame\n",
    "df_both\n"
   ]
  },
  {
   "cell_type": "markdown",
   "id": "cb25ddeb",
   "metadata": {},
   "source": [
    "### Must drop the moderator autogenerated rows."
   ]
  },
  {
   "cell_type": "code",
   "execution_count": 646,
   "id": "19a794e4",
   "metadata": {},
   "outputs": [],
   "source": [
    "# Create a mask to identify rows with the moderator text blanking the comment\n",
    "mask = df_both['title'].str.contains(\"This is a place for Republicans to discuss issues with other Republicans.\")\n",
    "\n",
    "# Replace NaN values in the mask with False\n",
    "mask = mask.fillna(False)\n",
    "\n",
    "# Use the boolean mask to select rows that meet the condition\n",
    "df_filtered = df_both[~mask]\n",
    "\n",
    "# Drop rows with NaN values in the 'title' column\n",
    "df_filtered.dropna(subset=['title'], inplace=True)\n",
    "\n",
    "# Reset index if needed\n",
    "df_filtered.reset_index(drop=True, inplace=True)"
   ]
  },
  {
   "cell_type": "code",
   "execution_count": 647,
   "id": "3da94410",
   "metadata": {},
   "outputs": [
    {
     "data": {
      "text/html": [
       "<div>\n",
       "<style scoped>\n",
       "    .dataframe tbody tr th:only-of-type {\n",
       "        vertical-align: middle;\n",
       "    }\n",
       "\n",
       "    .dataframe tbody tr th {\n",
       "        vertical-align: top;\n",
       "    }\n",
       "\n",
       "    .dataframe thead th {\n",
       "        text-align: right;\n",
       "    }\n",
       "</style>\n",
       "<table border=\"1\" class=\"dataframe\">\n",
       "  <thead>\n",
       "    <tr style=\"text-align: right;\">\n",
       "      <th></th>\n",
       "      <th>title</th>\n",
       "      <th>subreddit</th>\n",
       "      <th>comments</th>\n",
       "    </tr>\n",
       "  </thead>\n",
       "  <tbody>\n",
       "    <tr>\n",
       "      <th>0</th>\n",
       "      <td>Georgia Prosecutors Had Tense Exchange on Raci...</td>\n",
       "      <td>1</td>\n",
       "      <td></td>\n",
       "    </tr>\n",
       "    <tr>\n",
       "      <th>1</th>\n",
       "      <td>Biden's campaign pushes abortion rights in bat...</td>\n",
       "      <td>1</td>\n",
       "      <td></td>\n",
       "    </tr>\n",
       "    <tr>\n",
       "      <th>...</th>\n",
       "      <td>...</td>\n",
       "      <td>...</td>\n",
       "      <td>...</td>\n",
       "    </tr>\n",
       "    <tr>\n",
       "      <th>4227</th>\n",
       "      <td>Pro Palestinian radical caught mid tirade verb...</td>\n",
       "      <td>0</td>\n",
       "      <td></td>\n",
       "    </tr>\n",
       "    <tr>\n",
       "      <th>4228</th>\n",
       "      <td>Texas AG is “saying the Department of Homeland...</td>\n",
       "      <td>0</td>\n",
       "      <td></td>\n",
       "    </tr>\n",
       "  </tbody>\n",
       "</table>\n",
       "<p>4229 rows × 3 columns</p>\n",
       "</div>"
      ],
      "text/plain": [
       "                                                  title  subreddit comments\n",
       "0     Georgia Prosecutors Had Tense Exchange on Raci...          1         \n",
       "1     Biden's campaign pushes abortion rights in bat...          1         \n",
       "...                                                 ...        ...      ...\n",
       "4227  Pro Palestinian radical caught mid tirade verb...          0         \n",
       "4228  Texas AG is “saying the Department of Homeland...          0         \n",
       "\n",
       "[4229 rows x 3 columns]"
      ]
     },
     "execution_count": 647,
     "metadata": {},
     "output_type": "execute_result"
    }
   ],
   "source": [
    "# Display the resulting DataFrame\n",
    "df_filtered"
   ]
  },
  {
   "cell_type": "code",
   "execution_count": 648,
   "id": "04954339",
   "metadata": {},
   "outputs": [],
   "source": [
    "# Drop NaN values in the 'title' column\n",
    "# df_both['title'].dropna(inplace=True)\n",
    "\n",
    "# mask = df_both['title'].str.contains(\"This is a place for Republicans to discuss issues with other Republicans.\")\n",
    "\n",
    "# # Use the boolean mask to drop rows that meet the condition\n",
    "# df_both = df_both[~mask]\n",
    "\n",
    "# # Reset index if needed\n",
    "# df_both.reset_index(drop=True, inplace=True)"
   ]
  },
  {
   "cell_type": "code",
   "execution_count": 649,
   "id": "ff7e6a7e",
   "metadata": {},
   "outputs": [
    {
     "data": {
      "text/html": [
       "<div>\n",
       "<style scoped>\n",
       "    .dataframe tbody tr th:only-of-type {\n",
       "        vertical-align: middle;\n",
       "    }\n",
       "\n",
       "    .dataframe tbody tr th {\n",
       "        vertical-align: top;\n",
       "    }\n",
       "\n",
       "    .dataframe thead th {\n",
       "        text-align: right;\n",
       "    }\n",
       "</style>\n",
       "<table border=\"1\" class=\"dataframe\">\n",
       "  <thead>\n",
       "    <tr style=\"text-align: right;\">\n",
       "      <th></th>\n",
       "      <th>title</th>\n",
       "      <th>subreddit</th>\n",
       "      <th>comments</th>\n",
       "    </tr>\n",
       "  </thead>\n",
       "  <tbody>\n",
       "    <tr>\n",
       "      <th>0</th>\n",
       "      <td>Georgia Prosecutors Had Tense Exchange on Raci...</td>\n",
       "      <td>1</td>\n",
       "      <td></td>\n",
       "    </tr>\n",
       "    <tr>\n",
       "      <th>1</th>\n",
       "      <td>Biden's campaign pushes abortion rights in bat...</td>\n",
       "      <td>1</td>\n",
       "      <td></td>\n",
       "    </tr>\n",
       "    <tr>\n",
       "      <th>...</th>\n",
       "      <td>...</td>\n",
       "      <td>...</td>\n",
       "      <td>...</td>\n",
       "    </tr>\n",
       "    <tr>\n",
       "      <th>5420</th>\n",
       "      <td>Pro Palestinian radical caught mid tirade verb...</td>\n",
       "      <td>0</td>\n",
       "      <td></td>\n",
       "    </tr>\n",
       "    <tr>\n",
       "      <th>5421</th>\n",
       "      <td>Texas AG is “saying the Department of Homeland...</td>\n",
       "      <td>0</td>\n",
       "      <td></td>\n",
       "    </tr>\n",
       "  </tbody>\n",
       "</table>\n",
       "<p>5422 rows × 3 columns</p>\n",
       "</div>"
      ],
      "text/plain": [
       "                                                  title  subreddit comments\n",
       "0     Georgia Prosecutors Had Tense Exchange on Raci...          1         \n",
       "1     Biden's campaign pushes abortion rights in bat...          1         \n",
       "...                                                 ...        ...      ...\n",
       "5420  Pro Palestinian radical caught mid tirade verb...          0         \n",
       "5421  Texas AG is “saying the Department of Homeland...          0         \n",
       "\n",
       "[5422 rows x 3 columns]"
      ]
     },
     "execution_count": 649,
     "metadata": {},
     "output_type": "execute_result"
    }
   ],
   "source": [
    "df_both"
   ]
  },
  {
   "cell_type": "code",
   "execution_count": 650,
   "id": "c1bfa6ff",
   "metadata": {},
   "outputs": [],
   "source": [
    "# Remove the comments from `democrats` subreddit\n",
    "mask = df_filtered['title'].str.contains(\"{'body':\")\n",
    "\n",
    "# Invert the mask to select rows without the specified tag\n",
    "df_filtered = df_filtered[~mask]"
   ]
  },
  {
   "cell_type": "code",
   "execution_count": 651,
   "id": "0b27906a",
   "metadata": {},
   "outputs": [
    {
     "data": {
      "text/plain": [
       "(3478, 3)"
      ]
     },
     "execution_count": 651,
     "metadata": {},
     "output_type": "execute_result"
    }
   ],
   "source": [
    "df_filtered.shape"
   ]
  },
  {
   "cell_type": "code",
   "execution_count": 652,
   "id": "a422b6c1",
   "metadata": {},
   "outputs": [
    {
     "data": {
      "text/html": [
       "<div>\n",
       "<style scoped>\n",
       "    .dataframe tbody tr th:only-of-type {\n",
       "        vertical-align: middle;\n",
       "    }\n",
       "\n",
       "    .dataframe tbody tr th {\n",
       "        vertical-align: top;\n",
       "    }\n",
       "\n",
       "    .dataframe thead th {\n",
       "        text-align: right;\n",
       "    }\n",
       "</style>\n",
       "<table border=\"1\" class=\"dataframe\">\n",
       "  <thead>\n",
       "    <tr style=\"text-align: right;\">\n",
       "      <th></th>\n",
       "      <th>title</th>\n",
       "      <th>subreddit</th>\n",
       "      <th>comments</th>\n",
       "    </tr>\n",
       "  </thead>\n",
       "  <tbody>\n",
       "    <tr>\n",
       "      <th>0</th>\n",
       "      <td>Georgia Prosecutors Had Tense Exchange on Raci...</td>\n",
       "      <td>1</td>\n",
       "      <td></td>\n",
       "    </tr>\n",
       "    <tr>\n",
       "      <th>1</th>\n",
       "      <td>Biden's campaign pushes abortion rights in bat...</td>\n",
       "      <td>1</td>\n",
       "      <td></td>\n",
       "    </tr>\n",
       "    <tr>\n",
       "      <th>...</th>\n",
       "      <td>...</td>\n",
       "      <td>...</td>\n",
       "      <td>...</td>\n",
       "    </tr>\n",
       "    <tr>\n",
       "      <th>4227</th>\n",
       "      <td>Pro Palestinian radical caught mid tirade verb...</td>\n",
       "      <td>0</td>\n",
       "      <td></td>\n",
       "    </tr>\n",
       "    <tr>\n",
       "      <th>4228</th>\n",
       "      <td>Texas AG is “saying the Department of Homeland...</td>\n",
       "      <td>0</td>\n",
       "      <td></td>\n",
       "    </tr>\n",
       "  </tbody>\n",
       "</table>\n",
       "<p>3478 rows × 3 columns</p>\n",
       "</div>"
      ],
      "text/plain": [
       "                                                  title  subreddit comments\n",
       "0     Georgia Prosecutors Had Tense Exchange on Raci...          1         \n",
       "1     Biden's campaign pushes abortion rights in bat...          1         \n",
       "...                                                 ...        ...      ...\n",
       "4227  Pro Palestinian radical caught mid tirade verb...          0         \n",
       "4228  Texas AG is “saying the Department of Homeland...          0         \n",
       "\n",
       "[3478 rows x 3 columns]"
      ]
     },
     "execution_count": 652,
     "metadata": {},
     "output_type": "execute_result"
    }
   ],
   "source": [
    "df_filtered"
   ]
  },
  {
   "cell_type": "markdown",
   "id": "e7ef0716-4a98-4b77-ba37-a32494c9d157",
   "metadata": {},
   "source": [
    "### Export and save newly formatted Dataframe as `.csv` file"
   ]
  },
  {
   "cell_type": "markdown",
   "id": "26971833-842f-4cbe-a776-ff5bf4401f06",
   "metadata": {},
   "source": [
    "### As before in the previous file, change tag to reflect the scrapes being loaded "
   ]
  },
  {
   "cell_type": "code",
   "execution_count": 653,
   "id": "e8c2f36a-a099-45ee-b042-e7c26bacb5c2",
   "metadata": {},
   "outputs": [],
   "source": [
    "df_filtered.to_csv('../data/final_df_to53.csv', index=False) # includes 1-52"
   ]
  }
 ],
 "metadata": {
  "kernelspec": {
   "display_name": "Python 3 (ipykernel)",
   "language": "python",
   "name": "python3"
  },
  "language_info": {
   "codemirror_mode": {
    "name": "ipython",
    "version": 3
   },
   "file_extension": ".py",
   "mimetype": "text/x-python",
   "name": "python",
   "nbconvert_exporter": "python",
   "pygments_lexer": "ipython3",
   "version": "3.11.5"
  }
 },
 "nbformat": 4,
 "nbformat_minor": 5
}

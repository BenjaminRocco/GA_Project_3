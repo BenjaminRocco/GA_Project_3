{
 "cells": [
  {
   "cell_type": "code",
   "execution_count": 154,
   "id": "7c1c2f38-f36d-4dba-baa9-0545eea20965",
   "metadata": {},
   "outputs": [],
   "source": [
    "import pandas as pd\n",
    "import numpy as np\n",
    "import re\n",
    "from nltk.corpus import stopwords # Import the stop word list\n",
    "import matplotlib.pyplot as plt\n",
    "from sklearn.model_selection import train_test_split, GridSearchCV, cross_val_score\n",
    "from sklearn.linear_model import LogisticRegression\n",
    "from sklearn.metrics import confusion_matrix, ConfusionMatrixDisplay\n",
    "from sklearn.svm import SVC\n",
    "from sklearn.preprocessing import StandardScaler\n",
    "from imblearn.pipeline import make_pipeline\n",
    "from imblearn.over_sampling import RandomOverSampler\n",
    "\n",
    "# Import CountVectorizer and TFIDFVectorizer from feature_extraction.text.\n",
    "from sklearn.feature_extraction.text import CountVectorizer, TfidfVectorizer\n",
    "from sklearn.naive_bayes import MultinomialNB, BernoulliNB, GaussianNB\n",
    "\n",
    "from sklearn.compose import ColumnTransformer, make_column_transformer\n",
    "from sklearn.preprocessing import FunctionTransformer"
   ]
  },
  {
   "cell_type": "markdown",
   "id": "0aa30beb",
   "metadata": {},
   "source": [
    "# Data Inspection Section\n",
    "\n",
    "###  Purpose of this section: Ensure that data was loaded into the notebook properly. Examine dimensions of dataframe to verify new webscrapes were appended properly. "
   ]
  },
  {
   "cell_type": "markdown",
   "id": "51328f3f-c2e7-41e9-9678-bd5715672a51",
   "metadata": {},
   "source": [
    "#### Remove Null Values from Data"
   ]
  },
  {
   "cell_type": "code",
   "execution_count": 100,
   "id": "c0b3b45a-87a3-4f0f-9139-cfe37e0a6b89",
   "metadata": {},
   "outputs": [],
   "source": [
    "# Load CSV files into DataFrames\n",
    "censored_train_df = pd.read_csv('../data/censored_train.csv')\n",
    "y_train_df = pd.read_csv('../data/y_train.csv')\n",
    "\n",
    "# Find rows with NaN values in the train set\n",
    "nan_indices = censored_train_df.index[censored_train_df.isnull().any(axis=1)]\n",
    "\n",
    "# Remove rows with NaN values from the train set\n",
    "censored_train_df = censored_train_df.dropna()\n",
    "\n",
    "# Remove corresponding rows from the label data\n",
    "y_train_df = y_train_df.drop(nan_indices)\n",
    "\n",
    "# Convert DataFrame columns to lists or Series\n",
    "censored_posts_train = censored_train_df['posts'].tolist()\n",
    "y_train = y_train_df['label']\n",
    "\n",
    "# Convert y_train to Series if needed\n",
    "y_train = pd.Series(y_train)"
   ]
  },
  {
   "cell_type": "code",
   "execution_count": 101,
   "id": "e5fd7631-195a-4e2f-88f9-52092381857e",
   "metadata": {},
   "outputs": [],
   "source": [
    "# Load CSV files into DataFrames\n",
    "censored_test_df = pd.read_csv('../data/censored_test.csv')\n",
    "y_test_df = pd.read_csv('../data/y_test.csv')\n",
    "\n",
    "# Find rows with NaN values in the test set\n",
    "nan_indices_test = censored_test_df.index[censored_test_df.isnull().any(axis=1)]\n",
    "\n",
    "# Remove rows with NaN values from the test set\n",
    "censored_test_df = censored_test_df.dropna()\n",
    "\n",
    "# Remove corresponding rows from the label data for the test set\n",
    "y_test_df = y_test_df.drop(nan_indices_test)\n",
    "\n",
    "# Convert DataFrame columns to lists or Series for the test set\n",
    "censored_posts_test = censored_test_df['posts'].tolist()\n",
    "y_test = y_test_df['label']\n",
    "\n",
    "# Convert y_test to Series if needed\n",
    "y_test = pd.Series(y_test)"
   ]
  },
  {
   "cell_type": "markdown",
   "id": "ea174896-2722-4422-a220-3cc57dec8b59",
   "metadata": {},
   "source": [
    "#### Verify these were loaded and converted correctly"
   ]
  },
  {
   "cell_type": "code",
   "execution_count": 102,
   "id": "ef8293bc-c708-4b92-a257-c2e1f5e8bb9b",
   "metadata": {},
   "outputs": [
    {
     "data": {
      "text/plain": [
       "list"
      ]
     },
     "execution_count": 102,
     "metadata": {},
     "output_type": "execute_result"
    }
   ],
   "source": [
    "type(censored_posts_train)"
   ]
  },
  {
   "cell_type": "code",
   "execution_count": 103,
   "id": "ec25f21f-5dbd-4c62-a33e-e4bf1016be9b",
   "metadata": {},
   "outputs": [
    {
     "data": {
      "text/plain": [
       "list"
      ]
     },
     "execution_count": 103,
     "metadata": {},
     "output_type": "execute_result"
    }
   ],
   "source": [
    "type(censored_posts_test)"
   ]
  },
  {
   "cell_type": "code",
   "execution_count": 104,
   "id": "cf2acebf-c3cc-47dd-8943-db4f71170e24",
   "metadata": {},
   "outputs": [
    {
     "data": {
      "text/plain": [
       "pandas.core.series.Series"
      ]
     },
     "execution_count": 104,
     "metadata": {},
     "output_type": "execute_result"
    }
   ],
   "source": [
    "type(y_train)"
   ]
  },
  {
   "cell_type": "code",
   "execution_count": 105,
   "id": "4f24b703-31e1-44b1-a98b-6324fc46e162",
   "metadata": {},
   "outputs": [
    {
     "data": {
      "text/plain": [
       "pandas.core.series.Series"
      ]
     },
     "execution_count": 105,
     "metadata": {},
     "output_type": "execute_result"
    }
   ],
   "source": [
    "type(y_test)"
   ]
  },
  {
   "cell_type": "markdown",
   "id": "c3892fd7-086a-403e-9c82-7759d7c33a09",
   "metadata": {},
   "source": [
    "# Baseline accuracy\n",
    "Calculate baseline accuracy in order to tell if model is better than null model (predicting the plurality class)."
   ]
  },
  {
   "cell_type": "code",
   "execution_count": 106,
   "id": "5bd23a09-18c4-490c-bac8-e6667d609617",
   "metadata": {},
   "outputs": [],
   "source": [
    "df = pd.read_csv('../data/final_df_to48.csv')"
   ]
  },
  {
   "cell_type": "code",
   "execution_count": 107,
   "id": "51904273-26a0-4a0d-b1e4-dfcb9e33bda4",
   "metadata": {},
   "outputs": [
    {
     "data": {
      "text/plain": [
       "subreddit\n",
       "1    0.528996\n",
       "0    0.471004\n",
       "Name: proportion, dtype: float64"
      ]
     },
     "execution_count": 107,
     "metadata": {},
     "output_type": "execute_result"
    }
   ],
   "source": [
    "#null model dem 1 rep 0?\n",
    "df['subreddit'].value_counts(normalize=True)"
   ]
  },
  {
   "cell_type": "code",
   "execution_count": 108,
   "id": "d0927364-360b-4df5-a46c-e4c9e3ee6118",
   "metadata": {},
   "outputs": [
    {
     "data": {
      "text/plain": [
       "label\n",
       "1    0.511753\n",
       "0    0.488247\n",
       "Name: proportion, dtype: float64"
      ]
     },
     "execution_count": 108,
     "metadata": {},
     "output_type": "execute_result"
    }
   ],
   "source": [
    "# Baseline prediction dem 1 rep 0\n",
    "y_train.value_counts(normalize=True)"
   ]
  },
  {
   "cell_type": "code",
   "execution_count": 109,
   "id": "2cc5fc18-3417-46a7-a2da-74d1f3bf0a22",
   "metadata": {},
   "outputs": [
    {
     "name": "stdout",
     "output_type": "stream",
     "text": [
      "Difference metric | 0.01724\n"
     ]
    }
   ],
   "source": [
    "print(f\"Difference metric | {round(np.abs(np.mean(df['subreddit'])-np.mean(y_train)), 5)}\")"
   ]
  },
  {
   "cell_type": "markdown",
   "id": "afe2783d-c38a-4cd5-8238-0f9b09aca78c",
   "metadata": {},
   "source": [
    "Absolute difference: ($\\sim2\\%$). "
   ]
  },
  {
   "cell_type": "markdown",
   "id": "9938f8db-669a-42a5-9a7d-9bfdd4f79f4e",
   "metadata": {},
   "source": [
    "# Logistic Regression Section "
   ]
  },
  {
   "cell_type": "markdown",
   "id": "d1faa0e8-6329-4c38-a7b7-7336497fb948",
   "metadata": {},
   "source": [
    "### Proceeded with `GridSearchCV` and found some optimal choices for CVec then utilized these parameters in a well-defined function along with Logistic Regression fitting."
   ]
  },
  {
   "cell_type": "code",
   "execution_count": 111,
   "id": "ee2d3096",
   "metadata": {},
   "outputs": [
    {
     "name": "stderr",
     "output_type": "stream",
     "text": [
      "/Users/ben/miniforge3/lib/python3.10/site-packages/sklearn/model_selection/_validation.py:425: FitFailedWarning: \n",
      "450 fits failed out of a total of 1350.\n",
      "The score on these train-test partitions for these parameters will be set to nan.\n",
      "If these failures are not expected, you can try to debug them by setting error_score='raise'.\n",
      "\n",
      "Below are more details about the failures:\n",
      "--------------------------------------------------------------------------------\n",
      "450 fits failed with the following error:\n",
      "Traceback (most recent call last):\n",
      "  File \"/Users/ben/miniforge3/lib/python3.10/site-packages/sklearn/model_selection/_validation.py\", line 732, in _fit_and_score\n",
      "    estimator.fit(X_train, y_train, **fit_params)\n",
      "  File \"/Users/ben/miniforge3/lib/python3.10/site-packages/sklearn/base.py\", line 1151, in wrapper\n",
      "    return fit_method(estimator, *args, **kwargs)\n",
      "  File \"/Users/ben/miniforge3/lib/python3.10/site-packages/imblearn/pipeline.py\", line 322, in fit\n",
      "    Xt, yt = self._fit(X, y, routed_params)\n",
      "  File \"/Users/ben/miniforge3/lib/python3.10/site-packages/imblearn/pipeline.py\", line 248, in _fit\n",
      "    X, fitted_transformer = fit_transform_one_cached(\n",
      "  File \"/Users/ben/miniforge3/lib/python3.10/site-packages/joblib/memory.py\", line 349, in __call__\n",
      "    return self.func(*args, **kwargs)\n",
      "  File \"/Users/ben/miniforge3/lib/python3.10/site-packages/imblearn/pipeline.py\", line 1097, in _fit_transform_one\n",
      "    res = transformer.fit_transform(X, y, **params.get(\"fit_transform\", {}))\n",
      "  File \"/Users/ben/miniforge3/lib/python3.10/site-packages/sklearn/base.py\", line 1144, in wrapper\n",
      "    estimator._validate_params()\n",
      "  File \"/Users/ben/miniforge3/lib/python3.10/site-packages/sklearn/base.py\", line 637, in _validate_params\n",
      "    validate_parameter_constraints(\n",
      "  File \"/Users/ben/miniforge3/lib/python3.10/site-packages/sklearn/utils/_param_validation.py\", line 95, in validate_parameter_constraints\n",
      "    raise InvalidParameterError(\n",
      "sklearn.utils._param_validation.InvalidParameterError: The 'stop_words' parameter of CountVectorizer must be a str among {'english'}, an instance of 'list' or None. Got 'combined_stopwords' instead.\n",
      "\n",
      "  warnings.warn(some_fits_failed_message, FitFailedWarning)\n",
      "/Users/ben/miniforge3/lib/python3.10/site-packages/sklearn/model_selection/_search.py:976: UserWarning: One or more of the test scores are non-finite: [0.82739778 0.82874344        nan 0.82135243 0.82370819        nan\n",
      " 0.8190057  0.82068411        nan 0.82739778 0.82874344        nan\n",
      " 0.82135243 0.82370819        nan 0.8190057  0.82068411        nan\n",
      " 0.82739778 0.82874344        nan 0.82504935 0.82841013        nan\n",
      " 0.82101968 0.82538548        nan 0.82739778 0.82874344        nan\n",
      " 0.82504935 0.82841013        nan 0.82101968 0.82538548        nan\n",
      " 0.82739778 0.82874344        nan 0.82639219 0.83344256        nan\n",
      " 0.82202639 0.82840787        nan 0.82739778 0.82874344        nan\n",
      " 0.82639219 0.83344256        nan 0.82202639 0.82840787        nan\n",
      " 0.82739778 0.82874344        nan 0.83008291 0.83579268        nan\n",
      " 0.82504935 0.82908071        nan 0.82739778 0.82874344        nan\n",
      " 0.83008291 0.83579268        nan 0.82504935 0.82908071        nan\n",
      " 0.82739778 0.82874344        nan 0.83142744 0.83914895        nan\n",
      " 0.82572105 0.83277311        nan 0.82739778 0.82874344        nan\n",
      " 0.83142744 0.83914895        nan 0.82572105 0.83277311        nan\n",
      " 0.82739778 0.82874344        nan 0.82135243 0.82370819        nan\n",
      " 0.8190057  0.82068411        nan 0.82739778 0.82874344        nan\n",
      " 0.82135243 0.82370819        nan 0.8190057  0.82068411        nan\n",
      " 0.82739778 0.82874344        nan 0.82504935 0.82841013        nan\n",
      " 0.82101968 0.82538548        nan 0.82739778 0.82874344        nan\n",
      " 0.82504935 0.82841013        nan 0.82101968 0.82538548        nan\n",
      " 0.82739778 0.82874344        nan 0.82639219 0.83344256        nan\n",
      " 0.82202639 0.82840787        nan 0.82739778 0.82874344        nan\n",
      " 0.82639219 0.83344256        nan 0.82202639 0.82840787        nan\n",
      " 0.82739778 0.82874344        nan 0.83008291 0.83579268        nan\n",
      " 0.82504935 0.82908071        nan 0.82739778 0.82874344        nan\n",
      " 0.83008291 0.83579268        nan 0.82504935 0.82908071        nan\n",
      " 0.82739778 0.82874344        nan 0.83142744 0.83914895        nan\n",
      " 0.82572105 0.83277311        nan 0.82739778 0.82874344        nan\n",
      " 0.83142744 0.83914895        nan 0.82572105 0.83277311        nan\n",
      " 0.82739778 0.82874344        nan 0.82135243 0.82370819        nan\n",
      " 0.8190057  0.82068411        nan 0.82739778 0.82874344        nan\n",
      " 0.82135243 0.82370819        nan 0.8190057  0.82068411        nan\n",
      " 0.82739778 0.82874344        nan 0.82504935 0.82841013        nan\n",
      " 0.82101968 0.82538548        nan 0.82739778 0.82874344        nan\n",
      " 0.82504935 0.82841013        nan 0.82101968 0.82538548        nan\n",
      " 0.82739778 0.82874344        nan 0.82639219 0.83344256        nan\n",
      " 0.82202639 0.82840787        nan 0.82739778 0.82874344        nan\n",
      " 0.82639219 0.83344256        nan 0.82202639 0.82840787        nan\n",
      " 0.82739778 0.82874344        nan 0.83008291 0.83579268        nan\n",
      " 0.82504935 0.82908071        nan 0.82739778 0.82874344        nan\n",
      " 0.83008291 0.83579268        nan 0.82504935 0.82908071        nan\n",
      " 0.82739778 0.82874344        nan 0.83142744 0.83914895        nan\n",
      " 0.82572105 0.83277311        nan 0.82739778 0.82874344        nan\n",
      " 0.83142744 0.83914895        nan 0.82572105 0.83277311        nan]\n",
      "  warnings.warn(\n",
      "/Users/ben/miniforge3/lib/python3.10/site-packages/sklearn/model_selection/_validation.py:425: FitFailedWarning: \n",
      "450 fits failed out of a total of 1350.\n",
      "The score on these train-test partitions for these parameters will be set to nan.\n",
      "If these failures are not expected, you can try to debug them by setting error_score='raise'.\n",
      "\n",
      "Below are more details about the failures:\n",
      "--------------------------------------------------------------------------------\n",
      "450 fits failed with the following error:\n",
      "Traceback (most recent call last):\n",
      "  File \"/Users/ben/miniforge3/lib/python3.10/site-packages/sklearn/model_selection/_validation.py\", line 732, in _fit_and_score\n",
      "    estimator.fit(X_train, y_train, **fit_params)\n",
      "  File \"/Users/ben/miniforge3/lib/python3.10/site-packages/sklearn/base.py\", line 1151, in wrapper\n",
      "    return fit_method(estimator, *args, **kwargs)\n",
      "  File \"/Users/ben/miniforge3/lib/python3.10/site-packages/imblearn/pipeline.py\", line 322, in fit\n",
      "    Xt, yt = self._fit(X, y, routed_params)\n",
      "  File \"/Users/ben/miniforge3/lib/python3.10/site-packages/imblearn/pipeline.py\", line 248, in _fit\n",
      "    X, fitted_transformer = fit_transform_one_cached(\n",
      "  File \"/Users/ben/miniforge3/lib/python3.10/site-packages/joblib/memory.py\", line 349, in __call__\n",
      "    return self.func(*args, **kwargs)\n",
      "  File \"/Users/ben/miniforge3/lib/python3.10/site-packages/imblearn/pipeline.py\", line 1097, in _fit_transform_one\n",
      "    res = transformer.fit_transform(X, y, **params.get(\"fit_transform\", {}))\n",
      "  File \"/Users/ben/miniforge3/lib/python3.10/site-packages/sklearn/feature_extraction/text.py\", line 2126, in fit_transform\n",
      "    X = super().fit_transform(raw_documents)\n",
      "  File \"/Users/ben/miniforge3/lib/python3.10/site-packages/sklearn/base.py\", line 1144, in wrapper\n",
      "    estimator._validate_params()\n",
      "  File \"/Users/ben/miniforge3/lib/python3.10/site-packages/sklearn/base.py\", line 637, in _validate_params\n",
      "    validate_parameter_constraints(\n",
      "  File \"/Users/ben/miniforge3/lib/python3.10/site-packages/sklearn/utils/_param_validation.py\", line 95, in validate_parameter_constraints\n",
      "    raise InvalidParameterError(\n",
      "sklearn.utils._param_validation.InvalidParameterError: The 'stop_words' parameter of TfidfVectorizer must be a str among {'english'}, an instance of 'list' or None. Got 'combined_stopwords' instead.\n",
      "\n",
      "  warnings.warn(some_fits_failed_message, FitFailedWarning)\n",
      "/Users/ben/miniforge3/lib/python3.10/site-packages/sklearn/model_selection/_search.py:976: UserWarning: One or more of the test scores are non-finite: [0.81160679 0.81060346        nan 0.80690993 0.80791777        nan\n",
      " 0.80724832 0.80892843        nan 0.81160679 0.81060346        nan\n",
      " 0.80690993 0.80791777        nan 0.80724832 0.80892843        nan\n",
      " 0.81160679 0.81060346        nan 0.81093791 0.81396086        nan\n",
      " 0.80758389 0.80926231        nan 0.81160679 0.81060346        nan\n",
      " 0.81093791 0.81396086        nan 0.80758389 0.80926231        nan\n",
      " 0.81160679 0.81060346        nan 0.81194574 0.81429305        nan\n",
      " 0.81060403 0.8082556         nan 0.81160679 0.81060346        nan\n",
      " 0.81194574 0.81429305        nan 0.81060403 0.8082556         nan\n",
      " 0.81160679 0.81060346        nan 0.81832328 0.82268964        nan\n",
      " 0.80993345 0.81094129        nan 0.81160679 0.81060346        nan\n",
      " 0.81832328 0.82268964        nan 0.80993345 0.81094129        nan\n",
      " 0.81160679 0.81060346        nan 0.81865828 0.82201455        nan\n",
      " 0.81194631 0.81396312        nan 0.81160679 0.81060346        nan\n",
      " 0.81865828 0.82201455        nan 0.81194631 0.81396312        nan\n",
      " 0.81160679 0.81060346        nan 0.80690993 0.80791777        nan\n",
      " 0.80724832 0.80892843        nan 0.81160679 0.81060346        nan\n",
      " 0.80690993 0.80791777        nan 0.80724832 0.80892843        nan\n",
      " 0.81160679 0.81060346        nan 0.81093791 0.81396086        nan\n",
      " 0.80758389 0.80926231        nan 0.81160679 0.81060346        nan\n",
      " 0.81093791 0.81396086        nan 0.80758389 0.80926231        nan\n",
      " 0.81160679 0.81060346        nan 0.81194574 0.81429305        nan\n",
      " 0.81060403 0.8082556         nan 0.81160679 0.81060346        nan\n",
      " 0.81194574 0.81429305        nan 0.81060403 0.8082556         nan\n",
      " 0.81160679 0.81060346        nan 0.81832328 0.82268964        nan\n",
      " 0.80993345 0.81094129        nan 0.81160679 0.81060346        nan\n",
      " 0.81832328 0.82268964        nan 0.80993345 0.81094129        nan\n",
      " 0.81160679 0.81060346        nan 0.81865828 0.82201455        nan\n",
      " 0.81194631 0.81396312        nan 0.81160679 0.81060346        nan\n",
      " 0.81865828 0.82201455        nan 0.81194631 0.81396312        nan\n",
      " 0.81160679 0.81060346        nan 0.80690993 0.80791777        nan\n",
      " 0.80724832 0.80892843        nan 0.81160679 0.81060346        nan\n",
      " 0.80690993 0.80791777        nan 0.80724832 0.80892843        nan\n",
      " 0.81160679 0.81060346        nan 0.81093791 0.81396086        nan\n",
      " 0.80758389 0.80926231        nan 0.81160679 0.81060346        nan\n",
      " 0.81093791 0.81396086        nan 0.80758389 0.80926231        nan\n",
      " 0.81160679 0.81060346        nan 0.81194574 0.81429305        nan\n",
      " 0.81060403 0.8082556         nan 0.81160679 0.81060346        nan\n",
      " 0.81194574 0.81429305        nan 0.81060403 0.8082556         nan\n",
      " 0.81160679 0.81060346        nan 0.81832328 0.82268964        nan\n",
      " 0.80993345 0.81094129        nan 0.81160679 0.81060346        nan\n",
      " 0.81832328 0.82268964        nan 0.80993345 0.81094129        nan\n",
      " 0.81160679 0.81060346        nan 0.81865828 0.82201455        nan\n",
      " 0.81194631 0.81396312        nan 0.81160679 0.81060346        nan\n",
      " 0.81865828 0.82201455        nan 0.81194631 0.81396312        nan]\n",
      "  warnings.warn(\n"
     ]
    },
    {
     "data": {
      "text/html": [
       "<style>#sk-container-id-1 {color: black;}#sk-container-id-1 pre{padding: 0;}#sk-container-id-1 div.sk-toggleable {background-color: white;}#sk-container-id-1 label.sk-toggleable__label {cursor: pointer;display: block;width: 100%;margin-bottom: 0;padding: 0.3em;box-sizing: border-box;text-align: center;}#sk-container-id-1 label.sk-toggleable__label-arrow:before {content: \"▸\";float: left;margin-right: 0.25em;color: #696969;}#sk-container-id-1 label.sk-toggleable__label-arrow:hover:before {color: black;}#sk-container-id-1 div.sk-estimator:hover label.sk-toggleable__label-arrow:before {color: black;}#sk-container-id-1 div.sk-toggleable__content {max-height: 0;max-width: 0;overflow: hidden;text-align: left;background-color: #f0f8ff;}#sk-container-id-1 div.sk-toggleable__content pre {margin: 0.2em;color: black;border-radius: 0.25em;background-color: #f0f8ff;}#sk-container-id-1 input.sk-toggleable__control:checked~div.sk-toggleable__content {max-height: 200px;max-width: 100%;overflow: auto;}#sk-container-id-1 input.sk-toggleable__control:checked~label.sk-toggleable__label-arrow:before {content: \"▾\";}#sk-container-id-1 div.sk-estimator input.sk-toggleable__control:checked~label.sk-toggleable__label {background-color: #d4ebff;}#sk-container-id-1 div.sk-label input.sk-toggleable__control:checked~label.sk-toggleable__label {background-color: #d4ebff;}#sk-container-id-1 input.sk-hidden--visually {border: 0;clip: rect(1px 1px 1px 1px);clip: rect(1px, 1px, 1px, 1px);height: 1px;margin: -1px;overflow: hidden;padding: 0;position: absolute;width: 1px;}#sk-container-id-1 div.sk-estimator {font-family: monospace;background-color: #f0f8ff;border: 1px dotted black;border-radius: 0.25em;box-sizing: border-box;margin-bottom: 0.5em;}#sk-container-id-1 div.sk-estimator:hover {background-color: #d4ebff;}#sk-container-id-1 div.sk-parallel-item::after {content: \"\";width: 100%;border-bottom: 1px solid gray;flex-grow: 1;}#sk-container-id-1 div.sk-label:hover label.sk-toggleable__label {background-color: #d4ebff;}#sk-container-id-1 div.sk-serial::before {content: \"\";position: absolute;border-left: 1px solid gray;box-sizing: border-box;top: 0;bottom: 0;left: 50%;z-index: 0;}#sk-container-id-1 div.sk-serial {display: flex;flex-direction: column;align-items: center;background-color: white;padding-right: 0.2em;padding-left: 0.2em;position: relative;}#sk-container-id-1 div.sk-item {position: relative;z-index: 1;}#sk-container-id-1 div.sk-parallel {display: flex;align-items: stretch;justify-content: center;background-color: white;position: relative;}#sk-container-id-1 div.sk-item::before, #sk-container-id-1 div.sk-parallel-item::before {content: \"\";position: absolute;border-left: 1px solid gray;box-sizing: border-box;top: 0;bottom: 0;left: 50%;z-index: -1;}#sk-container-id-1 div.sk-parallel-item {display: flex;flex-direction: column;z-index: 1;position: relative;background-color: white;}#sk-container-id-1 div.sk-parallel-item:first-child::after {align-self: flex-end;width: 50%;}#sk-container-id-1 div.sk-parallel-item:last-child::after {align-self: flex-start;width: 50%;}#sk-container-id-1 div.sk-parallel-item:only-child::after {width: 0;}#sk-container-id-1 div.sk-dashed-wrapped {border: 1px dashed gray;margin: 0 0.4em 0.5em 0.4em;box-sizing: border-box;padding-bottom: 0.4em;background-color: white;}#sk-container-id-1 div.sk-label label {font-family: monospace;font-weight: bold;display: inline-block;line-height: 1.2em;}#sk-container-id-1 div.sk-label-container {text-align: center;}#sk-container-id-1 div.sk-container {/* jupyter's `normalize.less` sets `[hidden] { display: none; }` but bootstrap.min.css set `[hidden] { display: none !important; }` so we also need the `!important` here to be able to override the default hidden behavior on the sphinx rendered scikit-learn.org. See: https://github.com/scikit-learn/scikit-learn/issues/21755 */display: inline-block !important;position: relative;}#sk-container-id-1 div.sk-text-repr-fallback {display: none;}</style><div id=\"sk-container-id-1\" class=\"sk-top-container\"><div class=\"sk-text-repr-fallback\"><pre>GridSearchCV(cv=5,\n",
       "             estimator=Pipeline(steps=[(&#x27;tvec&#x27;, TfidfVectorizer()),\n",
       "                                       (&#x27;lr&#x27;, LogisticRegression())]),\n",
       "             param_grid={&#x27;tvec__max_df&#x27;: [0.6, 0.65, 0.7],\n",
       "                         &#x27;tvec__max_features&#x27;: [5000, 6000, 7000, 8000, 9000],\n",
       "                         &#x27;tvec__min_df&#x27;: [5e-05, 0.0001],\n",
       "                         &#x27;tvec__ngram_range&#x27;: [(1, 1), (1, 2), (1, 3)],\n",
       "                         &#x27;tvec__stop_words&#x27;: [None, &#x27;english&#x27;,\n",
       "                                              &#x27;combined_stopwords&#x27;]})</pre><b>In a Jupyter environment, please rerun this cell to show the HTML representation or trust the notebook. <br />On GitHub, the HTML representation is unable to render, please try loading this page with nbviewer.org.</b></div><div class=\"sk-container\" hidden><div class=\"sk-item sk-dashed-wrapped\"><div class=\"sk-label-container\"><div class=\"sk-label sk-toggleable\"><input class=\"sk-toggleable__control sk-hidden--visually\" id=\"sk-estimator-id-1\" type=\"checkbox\" ><label for=\"sk-estimator-id-1\" class=\"sk-toggleable__label sk-toggleable__label-arrow\">GridSearchCV</label><div class=\"sk-toggleable__content\"><pre>GridSearchCV(cv=5,\n",
       "             estimator=Pipeline(steps=[(&#x27;tvec&#x27;, TfidfVectorizer()),\n",
       "                                       (&#x27;lr&#x27;, LogisticRegression())]),\n",
       "             param_grid={&#x27;tvec__max_df&#x27;: [0.6, 0.65, 0.7],\n",
       "                         &#x27;tvec__max_features&#x27;: [5000, 6000, 7000, 8000, 9000],\n",
       "                         &#x27;tvec__min_df&#x27;: [5e-05, 0.0001],\n",
       "                         &#x27;tvec__ngram_range&#x27;: [(1, 1), (1, 2), (1, 3)],\n",
       "                         &#x27;tvec__stop_words&#x27;: [None, &#x27;english&#x27;,\n",
       "                                              &#x27;combined_stopwords&#x27;]})</pre></div></div></div><div class=\"sk-parallel\"><div class=\"sk-parallel-item\"><div class=\"sk-item\"><div class=\"sk-label-container\"><div class=\"sk-label sk-toggleable\"><input class=\"sk-toggleable__control sk-hidden--visually\" id=\"sk-estimator-id-2\" type=\"checkbox\" ><label for=\"sk-estimator-id-2\" class=\"sk-toggleable__label sk-toggleable__label-arrow\">estimator: Pipeline</label><div class=\"sk-toggleable__content\"><pre>Pipeline(steps=[(&#x27;tvec&#x27;, TfidfVectorizer()), (&#x27;lr&#x27;, LogisticRegression())])</pre></div></div></div><div class=\"sk-serial\"><div class=\"sk-item\"><div class=\"sk-serial\"><div class=\"sk-item\"><div class=\"sk-estimator sk-toggleable\"><input class=\"sk-toggleable__control sk-hidden--visually\" id=\"sk-estimator-id-3\" type=\"checkbox\" ><label for=\"sk-estimator-id-3\" class=\"sk-toggleable__label sk-toggleable__label-arrow\">TfidfVectorizer</label><div class=\"sk-toggleable__content\"><pre>TfidfVectorizer()</pre></div></div></div><div class=\"sk-item\"><div class=\"sk-estimator sk-toggleable\"><input class=\"sk-toggleable__control sk-hidden--visually\" id=\"sk-estimator-id-4\" type=\"checkbox\" ><label for=\"sk-estimator-id-4\" class=\"sk-toggleable__label sk-toggleable__label-arrow\">LogisticRegression</label><div class=\"sk-toggleable__content\"><pre>LogisticRegression()</pre></div></div></div></div></div></div></div></div></div></div></div></div>"
      ],
      "text/plain": [
       "GridSearchCV(cv=5,\n",
       "             estimator=Pipeline(steps=[('tvec', TfidfVectorizer()),\n",
       "                                       ('lr', LogisticRegression())]),\n",
       "             param_grid={'tvec__max_df': [0.6, 0.65, 0.7],\n",
       "                         'tvec__max_features': [5000, 6000, 7000, 8000, 9000],\n",
       "                         'tvec__min_df': [5e-05, 0.0001],\n",
       "                         'tvec__ngram_range': [(1, 1), (1, 2), (1, 3)],\n",
       "                         'tvec__stop_words': [None, 'english',\n",
       "                                              'combined_stopwords']})"
      ]
     },
     "execution_count": 111,
     "metadata": {},
     "output_type": "execute_result"
    }
   ],
   "source": [
    "# Example pipeline \n",
    "\n",
    "pipe1 = Pipeline([\n",
    "    ('cvec', CountVectorizer()),\n",
    "    ('lr',LogisticRegression())\n",
    "])\n",
    "\n",
    "pipe2 = Pipeline([\n",
    "    ('tvec', TfidfVectorizer()),\n",
    "    ('lr',LogisticRegression())\n",
    "])\n",
    "\n",
    "pipe_params1 = {'cvec__max_features': list(np.arange(5000, 10000, 1000)),\n",
    "               'cvec__ngram_range': [(1,1), (1,2), (1,3)],\n",
    "                'cvec__min_df': [0.00005, 0.0001],\n",
    "                'cvec__max_df': [0.6,0.65,0.7],\n",
    "               'cvec__stop_words': [None, 'english','combined_stopwords']\n",
    "              }\n",
    "\n",
    "pipe_params2 = {'tvec__max_features' : list(np.arange(5000, 10000, 1000)),\n",
    "               'tvec__ngram_range' : [(1, 1), (1, 2), (1,3)],\n",
    "                'tvec__min_df': [0.00005, 0.0001],\n",
    "                'tvec__max_df': [0.6,0.65,0.7],\n",
    "                'tvec__stop_words': [None, 'english','combined_stopwords']\n",
    "              }\n",
    "\n",
    "# Instantiate GridSearchCV.\n",
    "\n",
    "gs1 = GridSearchCV(pipe3, # what object are we optimizing?\n",
    "                  param_grid=pipe_params3, # what parameters values are we searching?\n",
    "                  cv=5) # 5-fold cross-validation.\n",
    "\n",
    "gs2 = GridSearchCV(pipe4, # what object are we optimizing?\n",
    "                  param_grid=pipe_params4, # what parameters values are we searching?\n",
    "                  cv=5) # 5-fold cross-validation.\n",
    "\n",
    "gs1.fit(censored_posts_train, y_train)\n",
    "\n",
    "gs2.fit(censored_posts_train, y_train)"
   ]
  },
  {
   "cell_type": "markdown",
   "id": "c7dd113c",
   "metadata": {},
   "source": [
    "#### Performed a `GridSearch` to find optimal features to create the best-performing CVEC, as this performed better than TVec in conjunction to the logistic regression during accuracy comparisons between test and train scores."
   ]
  },
  {
   "cell_type": "code",
   "execution_count": 112,
   "id": "32cd97a8",
   "metadata": {},
   "outputs": [],
   "source": [
    "best_cvec = CountVectorizer(\n",
    "    max_df=0.6, \n",
    "    max_features=9000, \n",
    "    min_df=5e-05, # The optimal value is 5e05\n",
    "    ngram_range=(1, 2), \n",
    "    stop_words = None # The optimal parameter is None\n",
    ")"
   ]
  },
  {
   "cell_type": "markdown",
   "id": "fa14ef1a",
   "metadata": {},
   "source": [
    "During `GridSearch` it was revealed that optimal stopwords parameter was `None`, thus, the custom list of stopwords were not utilized. "
   ]
  },
  {
   "cell_type": "markdown",
   "id": "d6ada006",
   "metadata": {},
   "source": [
    "#### Transform the censored posts using the best performing CountVectorizer."
   ]
  },
  {
   "cell_type": "code",
   "execution_count": 113,
   "id": "fb3e0e44",
   "metadata": {},
   "outputs": [],
   "source": [
    "X_train_cvec = best_cvec.fit_transform(censored_posts_train)\n",
    "X_test_cvec =  best_cvec.transform(censored_posts_test)"
   ]
  },
  {
   "cell_type": "markdown",
   "id": "143a8cf8",
   "metadata": {},
   "source": [
    "### Scale data"
   ]
  },
  {
   "cell_type": "code",
   "execution_count": 114,
   "id": "fb5e3bee",
   "metadata": {},
   "outputs": [],
   "source": [
    "ss = StandardScaler(with_mean=False)\n",
    "\n",
    "X_train_ss = ss.fit_transform(X_train_cvec)\n",
    "X_test_ss = ss.transform(X_test_cvec)\n"
   ]
  },
  {
   "cell_type": "markdown",
   "id": "466ed812",
   "metadata": {},
   "source": [
    "## Optimize Logistic Regression by utilizing a GridSearch Algorithm"
   ]
  },
  {
   "cell_type": "markdown",
   "id": "ea762f6f",
   "metadata": {},
   "source": [
    "### Search for a better $C$ value, where $C$ is the inverse of regularization strength $\\alpha$; inverse of regularization strength. A Higher $C$ value means lower regularization. Smaller $C$ value means higher regularization. Increase regularization because increasing regularization is a better technique than reducing the number of features to overcome the overfitting problem."
   ]
  },
  {
   "cell_type": "code",
   "execution_count": 115,
   "id": "e789a3ff",
   "metadata": {},
   "outputs": [
    {
     "name": "stdout",
     "output_type": "stream",
     "text": [
      "Best parameters:  {'C': 0.1}\n"
     ]
    }
   ],
   "source": [
    "from sklearn.model_selection import GridSearchCV\n",
    "param_grid = {'C': [0.001, 0.01, 0.1, 1, 10, 100]}\n",
    "grid_search = GridSearchCV(LogisticRegression(max_iter=10000, penalty='l1', solver='liblinear'), param_grid, cv=5)\n",
    "grid_search.fit(X_train_ss, y_train)\n",
    "\n",
    "print(\"Best parameters: \", grid_search.best_params_)"
   ]
  },
  {
   "cell_type": "markdown",
   "id": "f4c46da7",
   "metadata": {},
   "source": [
    "### Print out Train and Test Scores"
   ]
  },
  {
   "cell_type": "code",
   "execution_count": 118,
   "id": "16212f76",
   "metadata": {},
   "outputs": [
    {
     "name": "stdout",
     "output_type": "stream",
     "text": [
      "Train Accuracy Score | 0.987\n",
      "Test Accuracy Score | 0.897\n"
     ]
    }
   ],
   "source": [
    "print(f\"Train Accuracy Score | {round(grid_search.score(X_train_ss, y_train),3)}\")\n",
    "print(f\"Test Accuracy Score | {round(grid_search.score(X_test_ss, y_test),3)}\")"
   ]
  },
  {
   "cell_type": "code",
   "execution_count": 119,
   "id": "091b84ea-05c4-47a8-906e-e8c3a70f279b",
   "metadata": {},
   "outputs": [
    {
     "name": "stdout",
     "output_type": "stream",
     "text": [
      "TN: 126\n",
      "FP: 19\n",
      "FN: 15\n",
      "TP: 170\n"
     ]
    },
    {
     "data": {
      "image/png": "[encoded data removed]",
      "text/plain": [
       "<Figure size 640x480 with 2 Axes>"
      ]
     },
     "metadata": {},
     "output_type": "display_data"
    }
   ],
   "source": [
    "# Get predictions from optimal LR model\n",
    "preds = grid_search.predict(X_test_ss)\n",
    "# Save confusion matrix values\n",
    "tn, fp, fn, tp = confusion_matrix(y_test, preds).ravel()\n",
    "\n",
    "# Generate values of confusion matrix for reference\n",
    "def find_cm(y_test, preds):\n",
    "    tn, fp, fn, tp = confusion_matrix(y_test, preds).ravel()\n",
    "    \n",
    "    return f\"TN: {tn}\\nFP: {fp}\\nFN: {fn}\\nTP: {tp}\" \n",
    "    \n",
    "# View confusion matrix\n",
    "ConfusionMatrixDisplay.from_estimator(grid_search, X_test_ss, y_test, cmap='Blues');\n",
    "plt.title('Confusion Matrix for the Logistic Regression Predictions',fontsize=16, loc='center');\n",
    "\n",
    "print(find_cm(y_test, preds))"
   ]
  },
  {
   "cell_type": "code",
   "execution_count": 180,
   "id": "b7542575-423b-4d7f-bb66-f44428f2d4f7",
   "metadata": {},
   "outputs": [
    {
     "name": "stdout",
     "output_type": "stream",
     "text": [
      "Values being correctly classified: 170 democrat posts, 126 republican posts.\n",
      "Values being incorrectly classified: 15 democrat posts being predicted as republican posts, 19 republican posts being predicted as democrat posts.\n"
     ]
    }
   ],
   "source": [
    "print(f\"Values being correctly classified: {tp} democrat posts, {tn} republican posts.\")\n",
    "print(f\"Values being incorrectly classified: {fn} democrat posts being predicted as republican posts, {fp} republican posts being predicted as democrat posts.\")"
   ]
  },
  {
   "cell_type": "markdown",
   "id": "aaba9621",
   "metadata": {},
   "source": [
    "### These figures will inform how the classification metrics results will materialize"
   ]
  },
  {
   "cell_type": "code",
   "execution_count": 120,
   "id": "d62d3e5c",
   "metadata": {},
   "outputs": [
    {
     "name": "stdout",
     "output_type": "stream",
     "text": [
      "Sensitivity | 0.919\n",
      "Specificity | 0.869\n",
      "Accuracy | 0.897\n",
      "Precision | 0.899\n",
      "Miscalculation Rate | 0.103\n"
     ]
    }
   ],
   "source": [
    "# Calculate Sensitivity\n",
    "print(f\"Sensitivity | {round(tp/(tp+fn),3)}\")\n",
    "# Calculate the Specificity\n",
    "print(f\"Specificity | {round(tn/(tn+fp),3)}\")\n",
    "# Calculate Accuracy\n",
    "print(f\"Accuracy | {round((tp+tn)/(tp+fp+tn+fn),3)}\")\n",
    "# Calculate Precision\n",
    "print(f\"Precision | {round(tp/(tp+fp),3)}\")\n",
    "# Calculate Miscalculation Rate\n",
    "print(f\"Miscalculation Rate | {round((fp+fn)/(tp+fp+tn+fn),3)}\")"
   ]
  },
  {
   "cell_type": "markdown",
   "id": "0a25ef99",
   "metadata": {},
   "source": [
    "### Since the goal of the model is to prioritize sensitivity, this result is desired. \n",
    "\n",
    "In other words, the positive class is whether the post belonged to the `democrats` subreddit class, denoted by a $1$, therefore, the goal is the achieve a result that yields a high probability of correctly predicting an \"actual\" positive example. \n",
    "\n",
    "Precision is also also high, that is, the probability that the model is correct when it predicts an example to be in the positive class. In this value, a desired result is accomplished."
   ]
  },
  {
   "cell_type": "markdown",
   "id": "928e85dd-c4d1-45cb-a337-0eeaeff0e724",
   "metadata": {},
   "source": [
    "# Support Vector Machine (SVM) Section\n",
    "\n",
    "### Disclaimer: This model performed well, and outperformed $\\textit{Naive Bayes}$ statistical models and $\\textit{logistic regression}$, with train in upper 90s and test in low 90s. The other models, aside from $\\textit{logistic regression}$, have been excluded for brevity.  "
   ]
  },
  {
   "cell_type": "markdown",
   "id": "83460579",
   "metadata": {},
   "source": [
    "#### Performed a `GridSearch` (not shown) to find optimal features to create the best-performing TVEC, as this performed better than CVec in conjunction to the SVM during accuracy comparisons between test and train scores (not shown)."
   ]
  },
  {
   "cell_type": "code",
   "execution_count": 121,
   "id": "247eb308",
   "metadata": {},
   "outputs": [
    {
     "name": "stderr",
     "output_type": "stream",
     "text": [
      "/Users/ben/miniforge3/lib/python3.10/site-packages/sklearn/model_selection/_validation.py:425: FitFailedWarning: \n",
      "450 fits failed out of a total of 1350.\n",
      "The score on these train-test partitions for these parameters will be set to nan.\n",
      "If these failures are not expected, you can try to debug them by setting error_score='raise'.\n",
      "\n",
      "Below are more details about the failures:\n",
      "--------------------------------------------------------------------------------\n",
      "450 fits failed with the following error:\n",
      "Traceback (most recent call last):\n",
      "  File \"/Users/ben/miniforge3/lib/python3.10/site-packages/sklearn/model_selection/_validation.py\", line 732, in _fit_and_score\n",
      "    estimator.fit(X_train, y_train, **fit_params)\n",
      "  File \"/Users/ben/miniforge3/lib/python3.10/site-packages/sklearn/base.py\", line 1151, in wrapper\n",
      "    return fit_method(estimator, *args, **kwargs)\n",
      "  File \"/Users/ben/miniforge3/lib/python3.10/site-packages/imblearn/pipeline.py\", line 322, in fit\n",
      "    Xt, yt = self._fit(X, y, routed_params)\n",
      "  File \"/Users/ben/miniforge3/lib/python3.10/site-packages/imblearn/pipeline.py\", line 248, in _fit\n",
      "    X, fitted_transformer = fit_transform_one_cached(\n",
      "  File \"/Users/ben/miniforge3/lib/python3.10/site-packages/joblib/memory.py\", line 349, in __call__\n",
      "    return self.func(*args, **kwargs)\n",
      "  File \"/Users/ben/miniforge3/lib/python3.10/site-packages/imblearn/pipeline.py\", line 1097, in _fit_transform_one\n",
      "    res = transformer.fit_transform(X, y, **params.get(\"fit_transform\", {}))\n",
      "  File \"/Users/ben/miniforge3/lib/python3.10/site-packages/sklearn/base.py\", line 1144, in wrapper\n",
      "    estimator._validate_params()\n",
      "  File \"/Users/ben/miniforge3/lib/python3.10/site-packages/sklearn/base.py\", line 637, in _validate_params\n",
      "    validate_parameter_constraints(\n",
      "  File \"/Users/ben/miniforge3/lib/python3.10/site-packages/sklearn/utils/_param_validation.py\", line 95, in validate_parameter_constraints\n",
      "    raise InvalidParameterError(\n",
      "sklearn.utils._param_validation.InvalidParameterError: The 'stop_words' parameter of CountVectorizer must be a str among {'english'}, an instance of 'list' or None. Got 'combined_stopwords' instead.\n",
      "\n",
      "  warnings.warn(some_fits_failed_message, FitFailedWarning)\n",
      "/Users/ben/miniforge3/lib/python3.10/site-packages/sklearn/model_selection/_search.py:976: UserWarning: One or more of the test scores are non-finite: [0.82000846 0.81799447        nan 0.80993401 0.80556934        nan\n",
      " 0.80859173 0.80489482        nan 0.82000846 0.81799447        nan\n",
      " 0.80993401 0.80556934        nan 0.80859173 0.80489482        nan\n",
      " 0.82000846 0.81799447        nan 0.80825673 0.81026902        nan\n",
      " 0.80389093 0.80456037        nan 0.82000846 0.81799447        nan\n",
      " 0.80825673 0.81026902        nan 0.80389093 0.80456037        nan\n",
      " 0.82000846 0.81799447        nan 0.80624161 0.80791946        nan\n",
      " 0.80221138 0.80590548        nan 0.82000846 0.81799447        nan\n",
      " 0.80624161 0.80791946        nan 0.80221138 0.80590548        nan\n",
      " 0.82000846 0.81799447        nan 0.81060459 0.80892505        nan\n",
      " 0.80288591 0.80422706        nan 0.82000846 0.81799447        nan\n",
      " 0.81060459 0.80892505        nan 0.80288591 0.80422706        nan\n",
      " 0.82000846 0.81799447        nan 0.81093903 0.80489538        nan\n",
      " 0.80288591 0.80355423        nan 0.82000846 0.81799447        nan\n",
      " 0.81093903 0.80489538        nan 0.80288591 0.80355423        nan\n",
      " 0.82000846 0.81799447        nan 0.80993401 0.80556934        nan\n",
      " 0.80859173 0.80489482        nan 0.82000846 0.81799447        nan\n",
      " 0.80993401 0.80556934        nan 0.80859173 0.80489482        nan\n",
      " 0.82000846 0.81799447        nan 0.80825673 0.81026902        nan\n",
      " 0.80389093 0.80456037        nan 0.82000846 0.81799447        nan\n",
      " 0.80825673 0.81026902        nan 0.80389093 0.80456037        nan\n",
      " 0.82000846 0.81799447        nan 0.80624161 0.80791946        nan\n",
      " 0.80221138 0.80590548        nan 0.82000846 0.81799447        nan\n",
      " 0.80624161 0.80791946        nan 0.80221138 0.80590548        nan\n",
      " 0.82000846 0.81799447        nan 0.81060459 0.80892505        nan\n",
      " 0.80288591 0.80422706        nan 0.82000846 0.81799447        nan\n",
      " 0.81060459 0.80892505        nan 0.80288591 0.80422706        nan\n",
      " 0.82000846 0.81799447        nan 0.81093903 0.80489538        nan\n",
      " 0.80288591 0.80355423        nan 0.82000846 0.81799447        nan\n",
      " 0.81093903 0.80489538        nan 0.80288591 0.80355423        nan\n",
      " 0.82000846 0.81799447        nan 0.80993401 0.80556934        nan\n",
      " 0.80859173 0.80489482        nan 0.82000846 0.81799447        nan\n",
      " 0.80993401 0.80556934        nan 0.80859173 0.80489482        nan\n",
      " 0.82000846 0.81799447        nan 0.80825673 0.81026902        nan\n",
      " 0.80389093 0.80456037        nan 0.82000846 0.81799447        nan\n",
      " 0.80825673 0.81026902        nan 0.80389093 0.80456037        nan\n",
      " 0.82000846 0.81799447        nan 0.80624161 0.80791946        nan\n",
      " 0.80221138 0.80590548        nan 0.82000846 0.81799447        nan\n",
      " 0.80624161 0.80791946        nan 0.80221138 0.80590548        nan\n",
      " 0.82000846 0.81799447        nan 0.81060459 0.80892505        nan\n",
      " 0.80288591 0.80422706        nan 0.82000846 0.81799447        nan\n",
      " 0.81060459 0.80892505        nan 0.80288591 0.80422706        nan\n",
      " 0.82000846 0.81799447        nan 0.81093903 0.80489538        nan\n",
      " 0.80288591 0.80355423        nan 0.82000846 0.81799447        nan\n",
      " 0.81093903 0.80489538        nan 0.80288591 0.80355423        nan]\n",
      "  warnings.warn(\n",
      "/Users/ben/miniforge3/lib/python3.10/site-packages/sklearn/model_selection/_validation.py:425: FitFailedWarning: \n",
      "450 fits failed out of a total of 1350.\n",
      "The score on these train-test partitions for these parameters will be set to nan.\n",
      "If these failures are not expected, you can try to debug them by setting error_score='raise'.\n",
      "\n",
      "Below are more details about the failures:\n",
      "--------------------------------------------------------------------------------\n",
      "450 fits failed with the following error:\n",
      "Traceback (most recent call last):\n",
      "  File \"/Users/ben/miniforge3/lib/python3.10/site-packages/sklearn/model_selection/_validation.py\", line 732, in _fit_and_score\n",
      "    estimator.fit(X_train, y_train, **fit_params)\n",
      "  File \"/Users/ben/miniforge3/lib/python3.10/site-packages/sklearn/base.py\", line 1151, in wrapper\n",
      "    return fit_method(estimator, *args, **kwargs)\n",
      "  File \"/Users/ben/miniforge3/lib/python3.10/site-packages/imblearn/pipeline.py\", line 322, in fit\n",
      "    Xt, yt = self._fit(X, y, routed_params)\n",
      "  File \"/Users/ben/miniforge3/lib/python3.10/site-packages/imblearn/pipeline.py\", line 248, in _fit\n",
      "    X, fitted_transformer = fit_transform_one_cached(\n",
      "  File \"/Users/ben/miniforge3/lib/python3.10/site-packages/joblib/memory.py\", line 349, in __call__\n",
      "    return self.func(*args, **kwargs)\n",
      "  File \"/Users/ben/miniforge3/lib/python3.10/site-packages/imblearn/pipeline.py\", line 1097, in _fit_transform_one\n",
      "    res = transformer.fit_transform(X, y, **params.get(\"fit_transform\", {}))\n",
      "  File \"/Users/ben/miniforge3/lib/python3.10/site-packages/sklearn/feature_extraction/text.py\", line 2126, in fit_transform\n",
      "    X = super().fit_transform(raw_documents)\n",
      "  File \"/Users/ben/miniforge3/lib/python3.10/site-packages/sklearn/base.py\", line 1144, in wrapper\n",
      "    estimator._validate_params()\n",
      "  File \"/Users/ben/miniforge3/lib/python3.10/site-packages/sklearn/base.py\", line 637, in _validate_params\n",
      "    validate_parameter_constraints(\n",
      "  File \"/Users/ben/miniforge3/lib/python3.10/site-packages/sklearn/utils/_param_validation.py\", line 95, in validate_parameter_constraints\n",
      "    raise InvalidParameterError(\n",
      "sklearn.utils._param_validation.InvalidParameterError: The 'stop_words' parameter of TfidfVectorizer must be a str among {'english'}, an instance of 'list' or None. Got 'combined_stopwords' instead.\n",
      "\n",
      "  warnings.warn(some_fits_failed_message, FitFailedWarning)\n",
      "/Users/ben/miniforge3/lib/python3.10/site-packages/sklearn/model_selection/_search.py:976: UserWarning: One or more of the test scores are non-finite: [0.83377305 0.83377587        nan 0.83478371 0.83914951        nan\n",
      " 0.8347871  0.83680277        nan 0.83377305 0.83377587        nan\n",
      " 0.83478371 0.83914951        nan 0.8347871  0.83680277        nan\n",
      " 0.83377305 0.83377587        nan 0.83579099 0.83914838        nan\n",
      " 0.83847781 0.83713722        nan 0.83377305 0.83377587        nan\n",
      " 0.83579099 0.83914838        nan 0.83847781 0.83713722        nan\n",
      " 0.83377305 0.83377587        nan 0.83713158 0.84317185        nan\n",
      " 0.83713496 0.83579155        nan 0.83377305 0.83377587        nan\n",
      " 0.83713158 0.84317185        nan 0.83713496 0.83579155        nan\n",
      " 0.83377305 0.83377587        nan 0.83981501 0.84283571        nan\n",
      " 0.83545598 0.84015622        nan 0.83377305 0.83377587        nan\n",
      " 0.83981501 0.84283571        nan 0.83545598 0.84015622        nan\n",
      " 0.83377305 0.83377587        nan 0.84384524 0.84350572        nan\n",
      " 0.83814054 0.84284079        nan 0.83377305 0.83377587        nan\n",
      " 0.84384524 0.84350572        nan 0.83814054 0.84284079        nan\n",
      " 0.83377305 0.83377587        nan 0.83478371 0.83914951        nan\n",
      " 0.8347871  0.83680277        nan 0.83377305 0.83377587        nan\n",
      " 0.83478371 0.83914951        nan 0.8347871  0.83680277        nan\n",
      " 0.83377305 0.83377587        nan 0.83579099 0.83914838        nan\n",
      " 0.83847781 0.83713722        nan 0.83377305 0.83377587        nan\n",
      " 0.83579099 0.83914838        nan 0.83847781 0.83713722        nan\n",
      " 0.83377305 0.83377587        nan 0.83713158 0.84317185        nan\n",
      " 0.83713496 0.83579155        nan 0.83377305 0.83377587        nan\n",
      " 0.83713158 0.84317185        nan 0.83713496 0.83579155        nan\n",
      " 0.83377305 0.83377587        nan 0.83981501 0.84283571        nan\n",
      " 0.83545598 0.84015622        nan 0.83377305 0.83377587        nan\n",
      " 0.83981501 0.84283571        nan 0.83545598 0.84015622        nan\n",
      " 0.83377305 0.83377587        nan 0.84384524 0.84350572        nan\n",
      " 0.83814054 0.84284079        nan 0.83377305 0.83377587        nan\n",
      " 0.84384524 0.84350572        nan 0.83814054 0.84284079        nan\n",
      " 0.83377305 0.83377587        nan 0.83478371 0.83914951        nan\n",
      " 0.8347871  0.83680277        nan 0.83377305 0.83377587        nan\n",
      " 0.83478371 0.83914951        nan 0.8347871  0.83680277        nan\n",
      " 0.83377305 0.83377587        nan 0.83579099 0.83914838        nan\n",
      " 0.83847781 0.83713722        nan 0.83377305 0.83377587        nan\n",
      " 0.83579099 0.83914838        nan 0.83847781 0.83713722        nan\n",
      " 0.83377305 0.83377587        nan 0.83713158 0.84317185        nan\n",
      " 0.83713496 0.83579155        nan 0.83377305 0.83377587        nan\n",
      " 0.83713158 0.84317185        nan 0.83713496 0.83579155        nan\n",
      " 0.83377305 0.83377587        nan 0.83981501 0.84283571        nan\n",
      " 0.83545598 0.84015622        nan 0.83377305 0.83377587        nan\n",
      " 0.83981501 0.84283571        nan 0.83545598 0.84015622        nan\n",
      " 0.83377305 0.83377587        nan 0.84384524 0.84350572        nan\n",
      " 0.83814054 0.84284079        nan 0.83377305 0.83377587        nan\n",
      " 0.84384524 0.84350572        nan 0.83814054 0.84284079        nan]\n",
      "  warnings.warn(\n"
     ]
    },
    {
     "data": {
      "text/html": [
       "<style>#sk-container-id-2 {color: black;}#sk-container-id-2 pre{padding: 0;}#sk-container-id-2 div.sk-toggleable {background-color: white;}#sk-container-id-2 label.sk-toggleable__label {cursor: pointer;display: block;width: 100%;margin-bottom: 0;padding: 0.3em;box-sizing: border-box;text-align: center;}#sk-container-id-2 label.sk-toggleable__label-arrow:before {content: \"▸\";float: left;margin-right: 0.25em;color: #696969;}#sk-container-id-2 label.sk-toggleable__label-arrow:hover:before {color: black;}#sk-container-id-2 div.sk-estimator:hover label.sk-toggleable__label-arrow:before {color: black;}#sk-container-id-2 div.sk-toggleable__content {max-height: 0;max-width: 0;overflow: hidden;text-align: left;background-color: #f0f8ff;}#sk-container-id-2 div.sk-toggleable__content pre {margin: 0.2em;color: black;border-radius: 0.25em;background-color: #f0f8ff;}#sk-container-id-2 input.sk-toggleable__control:checked~div.sk-toggleable__content {max-height: 200px;max-width: 100%;overflow: auto;}#sk-container-id-2 input.sk-toggleable__control:checked~label.sk-toggleable__label-arrow:before {content: \"▾\";}#sk-container-id-2 div.sk-estimator input.sk-toggleable__control:checked~label.sk-toggleable__label {background-color: #d4ebff;}#sk-container-id-2 div.sk-label input.sk-toggleable__control:checked~label.sk-toggleable__label {background-color: #d4ebff;}#sk-container-id-2 input.sk-hidden--visually {border: 0;clip: rect(1px 1px 1px 1px);clip: rect(1px, 1px, 1px, 1px);height: 1px;margin: -1px;overflow: hidden;padding: 0;position: absolute;width: 1px;}#sk-container-id-2 div.sk-estimator {font-family: monospace;background-color: #f0f8ff;border: 1px dotted black;border-radius: 0.25em;box-sizing: border-box;margin-bottom: 0.5em;}#sk-container-id-2 div.sk-estimator:hover {background-color: #d4ebff;}#sk-container-id-2 div.sk-parallel-item::after {content: \"\";width: 100%;border-bottom: 1px solid gray;flex-grow: 1;}#sk-container-id-2 div.sk-label:hover label.sk-toggleable__label {background-color: #d4ebff;}#sk-container-id-2 div.sk-serial::before {content: \"\";position: absolute;border-left: 1px solid gray;box-sizing: border-box;top: 0;bottom: 0;left: 50%;z-index: 0;}#sk-container-id-2 div.sk-serial {display: flex;flex-direction: column;align-items: center;background-color: white;padding-right: 0.2em;padding-left: 0.2em;position: relative;}#sk-container-id-2 div.sk-item {position: relative;z-index: 1;}#sk-container-id-2 div.sk-parallel {display: flex;align-items: stretch;justify-content: center;background-color: white;position: relative;}#sk-container-id-2 div.sk-item::before, #sk-container-id-2 div.sk-parallel-item::before {content: \"\";position: absolute;border-left: 1px solid gray;box-sizing: border-box;top: 0;bottom: 0;left: 50%;z-index: -1;}#sk-container-id-2 div.sk-parallel-item {display: flex;flex-direction: column;z-index: 1;position: relative;background-color: white;}#sk-container-id-2 div.sk-parallel-item:first-child::after {align-self: flex-end;width: 50%;}#sk-container-id-2 div.sk-parallel-item:last-child::after {align-self: flex-start;width: 50%;}#sk-container-id-2 div.sk-parallel-item:only-child::after {width: 0;}#sk-container-id-2 div.sk-dashed-wrapped {border: 1px dashed gray;margin: 0 0.4em 0.5em 0.4em;box-sizing: border-box;padding-bottom: 0.4em;background-color: white;}#sk-container-id-2 div.sk-label label {font-family: monospace;font-weight: bold;display: inline-block;line-height: 1.2em;}#sk-container-id-2 div.sk-label-container {text-align: center;}#sk-container-id-2 div.sk-container {/* jupyter's `normalize.less` sets `[hidden] { display: none; }` but bootstrap.min.css set `[hidden] { display: none !important; }` so we also need the `!important` here to be able to override the default hidden behavior on the sphinx rendered scikit-learn.org. See: https://github.com/scikit-learn/scikit-learn/issues/21755 */display: inline-block !important;position: relative;}#sk-container-id-2 div.sk-text-repr-fallback {display: none;}</style><div id=\"sk-container-id-2\" class=\"sk-top-container\"><div class=\"sk-text-repr-fallback\"><pre>GridSearchCV(cv=5,\n",
       "             estimator=Pipeline(steps=[(&#x27;tvec&#x27;, TfidfVectorizer()),\n",
       "                                       (&#x27;svm&#x27;, SVC())]),\n",
       "             param_grid={&#x27;tvec__max_df&#x27;: [0.6, 0.65, 0.7],\n",
       "                         &#x27;tvec__max_features&#x27;: [5000, 6000, 7000, 8000, 9000],\n",
       "                         &#x27;tvec__min_df&#x27;: [5e-05, 0.0001],\n",
       "                         &#x27;tvec__ngram_range&#x27;: [(1, 1), (1, 2), (1, 3)],\n",
       "                         &#x27;tvec__stop_words&#x27;: [None, &#x27;english&#x27;,\n",
       "                                              &#x27;combined_stopwords&#x27;]})</pre><b>In a Jupyter environment, please rerun this cell to show the HTML representation or trust the notebook. <br />On GitHub, the HTML representation is unable to render, please try loading this page with nbviewer.org.</b></div><div class=\"sk-container\" hidden><div class=\"sk-item sk-dashed-wrapped\"><div class=\"sk-label-container\"><div class=\"sk-label sk-toggleable\"><input class=\"sk-toggleable__control sk-hidden--visually\" id=\"sk-estimator-id-5\" type=\"checkbox\" ><label for=\"sk-estimator-id-5\" class=\"sk-toggleable__label sk-toggleable__label-arrow\">GridSearchCV</label><div class=\"sk-toggleable__content\"><pre>GridSearchCV(cv=5,\n",
       "             estimator=Pipeline(steps=[(&#x27;tvec&#x27;, TfidfVectorizer()),\n",
       "                                       (&#x27;svm&#x27;, SVC())]),\n",
       "             param_grid={&#x27;tvec__max_df&#x27;: [0.6, 0.65, 0.7],\n",
       "                         &#x27;tvec__max_features&#x27;: [5000, 6000, 7000, 8000, 9000],\n",
       "                         &#x27;tvec__min_df&#x27;: [5e-05, 0.0001],\n",
       "                         &#x27;tvec__ngram_range&#x27;: [(1, 1), (1, 2), (1, 3)],\n",
       "                         &#x27;tvec__stop_words&#x27;: [None, &#x27;english&#x27;,\n",
       "                                              &#x27;combined_stopwords&#x27;]})</pre></div></div></div><div class=\"sk-parallel\"><div class=\"sk-parallel-item\"><div class=\"sk-item\"><div class=\"sk-label-container\"><div class=\"sk-label sk-toggleable\"><input class=\"sk-toggleable__control sk-hidden--visually\" id=\"sk-estimator-id-6\" type=\"checkbox\" ><label for=\"sk-estimator-id-6\" class=\"sk-toggleable__label sk-toggleable__label-arrow\">estimator: Pipeline</label><div class=\"sk-toggleable__content\"><pre>Pipeline(steps=[(&#x27;tvec&#x27;, TfidfVectorizer()), (&#x27;svm&#x27;, SVC())])</pre></div></div></div><div class=\"sk-serial\"><div class=\"sk-item\"><div class=\"sk-serial\"><div class=\"sk-item\"><div class=\"sk-estimator sk-toggleable\"><input class=\"sk-toggleable__control sk-hidden--visually\" id=\"sk-estimator-id-7\" type=\"checkbox\" ><label for=\"sk-estimator-id-7\" class=\"sk-toggleable__label sk-toggleable__label-arrow\">TfidfVectorizer</label><div class=\"sk-toggleable__content\"><pre>TfidfVectorizer()</pre></div></div></div><div class=\"sk-item\"><div class=\"sk-estimator sk-toggleable\"><input class=\"sk-toggleable__control sk-hidden--visually\" id=\"sk-estimator-id-8\" type=\"checkbox\" ><label for=\"sk-estimator-id-8\" class=\"sk-toggleable__label sk-toggleable__label-arrow\">SVC</label><div class=\"sk-toggleable__content\"><pre>SVC()</pre></div></div></div></div></div></div></div></div></div></div></div></div>"
      ],
      "text/plain": [
       "GridSearchCV(cv=5,\n",
       "             estimator=Pipeline(steps=[('tvec', TfidfVectorizer()),\n",
       "                                       ('svm', SVC())]),\n",
       "             param_grid={'tvec__max_df': [0.6, 0.65, 0.7],\n",
       "                         'tvec__max_features': [5000, 6000, 7000, 8000, 9000],\n",
       "                         'tvec__min_df': [5e-05, 0.0001],\n",
       "                         'tvec__ngram_range': [(1, 1), (1, 2), (1, 3)],\n",
       "                         'tvec__stop_words': [None, 'english',\n",
       "                                              'combined_stopwords']})"
      ]
     },
     "execution_count": 121,
     "metadata": {},
     "output_type": "execute_result"
    }
   ],
   "source": [
    "# Example pipeline \n",
    "\n",
    "pipe3 = Pipeline([\n",
    "    ('cvec', CountVectorizer()),\n",
    "    ('svm',SVC())\n",
    "])\n",
    "\n",
    "pipe4 = Pipeline([\n",
    "    ('tvec', TfidfVectorizer()),\n",
    "    ('svm',SVC())\n",
    "])\n",
    "\n",
    "pipe_params3 = {'cvec__max_features': list(np.arange(5000, 10000, 1000)),\n",
    "               'cvec__ngram_range': [(1,1), (1,2), (1,3)],\n",
    "                'cvec__min_df': [0.00005, 0.0001],\n",
    "                'cvec__max_df': [0.6,0.65,0.7],\n",
    "               'cvec__stop_words': [None, 'english','combined_stopwords']\n",
    "              }\n",
    "\n",
    "pipe_params4 = {'tvec__max_features' : list(np.arange(5000, 10000, 1000)),\n",
    "               'tvec__ngram_range' : [(1, 1), (1, 2), (1,3)],\n",
    "                'tvec__min_df': [0.00005, 0.0001],\n",
    "                'tvec__max_df': [0.6,0.65,0.7],\n",
    "                'tvec__stop_words': [None, 'english','combined_stopwords']\n",
    "              }\n",
    "\n",
    "# Instantiate GridSearchCV.\n",
    "\n",
    "gs3 = GridSearchCV(pipe3, # what object are we optimizing?\n",
    "                  param_grid=pipe_params3, # what parameters values are we searching?\n",
    "                  cv=5) # 5-fold cross-validation.\n",
    "\n",
    "gs4 = GridSearchCV(pipe4, # what object are we optimizing?\n",
    "                  param_grid=pipe_params4, # what parameters values are we searching?\n",
    "                  cv=5) # 5-fold cross-validation.\n",
    "\n",
    "gs3.fit(censored_posts_train, y_train)\n",
    "\n",
    "gs4.fit(censored_posts_train, y_train)"
   ]
  },
  {
   "cell_type": "code",
   "execution_count": 122,
   "id": "41e88fce",
   "metadata": {},
   "outputs": [],
   "source": [
    "best_tvec = TfidfVectorizer(\n",
    "    max_df=0.6, \n",
    "    max_features=8000, \n",
    "    min_df=5e-05,\n",
    "    ngram_range=(1, 2), \n",
    "    stop_words = 'english'\n",
    ")"
   ]
  },
  {
   "cell_type": "markdown",
   "id": "33baff11",
   "metadata": {},
   "source": [
    "#### Transform the censored posts using the best performing TFIDFVectorizer."
   ]
  },
  {
   "cell_type": "code",
   "execution_count": 123,
   "id": "6665ba17",
   "metadata": {},
   "outputs": [],
   "source": [
    "X_train_tvec = best_tvec.fit_transform(censored_posts_train)\n",
    "X_test_tvec =  best_tvec.transform(censored_posts_test)"
   ]
  },
  {
   "cell_type": "code",
   "execution_count": 125,
   "id": "932a6ee4",
   "metadata": {},
   "outputs": [
    {
     "name": "stdout",
     "output_type": "stream",
     "text": [
      "Best parameters:  {'C': 0.1}\n"
     ]
    }
   ],
   "source": [
    "# Define a parameter grid\n",
    "param_grid = {\n",
    "    'C': [0.001, 0.01, 0.1, 1, 10, 100],\n",
    "    'kernel': ['linear', 'rbf', 'poly'],\n",
    "    'degree': [2, 3, 4],  # Only applicable for 'poly' kernel\n",
    "}\n",
    "\n",
    "# Create the grid search\n",
    "grid_search_svm = GridSearchCV(SVC(), param_grid, cv=5)\n",
    "grid_search_svm.fit(X_train_tvec, y_train)\n",
    "\n",
    "# Print the best parameters\n",
    "print(\"Best parameters: \", grid_search.best_params_)"
   ]
  },
  {
   "cell_type": "markdown",
   "id": "e86fc376",
   "metadata": {},
   "source": [
    "### Optimize with RandomOverSampler \n",
    "#### It performed poorly compared with regular gridsearch so keep grid_search_svm"
   ]
  },
  {
   "cell_type": "code",
   "execution_count": 126,
   "id": "3bcb6019",
   "metadata": {},
   "outputs": [
    {
     "name": "stdout",
     "output_type": "stream",
     "text": [
      "Best parameters for SVC:  {'C': 1, 'degree': 2, 'kernel': 'poly'}\n"
     ]
    }
   ],
   "source": [
    "# Define a parameter grid for SVC\n",
    "param_grid_svm = {\n",
    "    'C': [0.001, 0.01, 0.1, 1, 10, 100],\n",
    "    'kernel': ['linear', 'rbf', 'poly'],\n",
    "    'degree': [2, 3, 4],  # Only applicable for 'poly' kernel\n",
    "}\n",
    "\n",
    "# Create the pipeline with RandomOverSampler and GridSearchCV for SVC\n",
    "pipe_svm = make_pipeline(\n",
    "    RandomOverSampler(sampling_strategy=\"all\", random_state=42),\n",
    "    GridSearchCV(SVC(), param_grid_svm, cv=5)\n",
    ")\n",
    "\n",
    "# Fit the pipeline\n",
    "pipe_svm.fit(X_train_tvec, y_train)\n",
    "\n",
    "# Access the best parameters found by GridSearchCV for SVC\n",
    "print(\"Best parameters for SVC: \", pipe_svm.named_steps['gridsearchcv'].best_params_)"
   ]
  },
  {
   "cell_type": "code",
   "execution_count": 127,
   "id": "28b97724",
   "metadata": {},
   "outputs": [
    {
     "name": "stdout",
     "output_type": "stream",
     "text": [
      "Train score for SVM Tvec: 0.9929482874412358\n",
      "Test score for SVM Tvec: 0.9090909090909091\n"
     ]
    }
   ],
   "source": [
    "print(f\"Train score for SVM Tvec: {pipe_svm.score(X_train_tvec,y_train)}\")\n",
    "print(f\"Test score for SVM Tvec: {pipe_svm.score(X_test_tvec,y_test)}\")"
   ]
  },
  {
   "cell_type": "code",
   "execution_count": 128,
   "id": "f71f6f88",
   "metadata": {},
   "outputs": [
    {
     "name": "stdout",
     "output_type": "stream",
     "text": [
      "Train Accuracy Score | 0.993\n",
      "Test Accuracy Score | 0.909\n"
     ]
    }
   ],
   "source": [
    "print(f\"Train Accuracy Score | {round(grid_search_svm.score(X_train_tvec, y_train),3)}\")\n",
    "print(f\"Test Accuracy Score | {round(grid_search_svm.score(X_test_tvec, y_test),3)}\")"
   ]
  },
  {
   "cell_type": "markdown",
   "id": "cf858f06",
   "metadata": {},
   "source": [
    "### These figures will inform how the classification metrics results will materialize"
   ]
  },
  {
   "cell_type": "code",
   "execution_count": 210,
   "id": "9093d6df-8c11-40b8-91e0-7685593a034f",
   "metadata": {},
   "outputs": [
    {
     "name": "stdout",
     "output_type": "stream",
     "text": [
      "TN: 130\n",
      "FP: 15\n",
      "FN: 15\n",
      "TP: 170\n"
     ]
    },
    {
     "data": {
      "image/png": "[encoded data removed]",
      "text/plain": [
       "<Figure size 640x480 with 2 Axes>"
      ]
     },
     "metadata": {},
     "output_type": "display_data"
    }
   ],
   "source": [
    "# Get predictions svm\n",
    "preds_svm = grid_search_svm.predict(X_test_tvec)\n",
    "\n",
    "# Save confusion matrix values\n",
    "tn2, fp2, fn2, tp2 = confusion_matrix(y_test, preds_svm).ravel()\n",
    "\n",
    "# View confusion matrix\n",
    "ConfusionMatrixDisplay.from_estimator(grid_search_svm, X_test_tvec, y_test, cmap='Reds');\n",
    "plt.title('Confusion Matrix for the Support Vector Machines Predictions', fontsize=16, loc='center');\n",
    "\n",
    "# Generate values of confusion matrix for reference\n",
    "print(find_cm(y_test, preds_svm))"
   ]
  },
  {
   "cell_type": "code",
   "execution_count": 181,
   "id": "cae6c828-10e6-440b-8a79-5c07e69ee016",
   "metadata": {},
   "outputs": [
    {
     "name": "stdout",
     "output_type": "stream",
     "text": [
      "Values being correctly classified: 170 democrat posts, 130 republican posts.\n",
      "Values being incorrectly classified: 15 democrat posts being predicted as republican posts, 15 republican posts being predicted as democrat posts.\n"
     ]
    }
   ],
   "source": [
    "print(f\"Values being correctly classified: {tp_svm} democrat posts, {tn_svm} republican posts.\")\n",
    "print(f\"Values being incorrectly classified: {fn_svm} democrat posts being predicted as republican posts, {fp_svm} republican posts being predicted as democrat posts.\")"
   ]
  },
  {
   "cell_type": "code",
   "execution_count": 211,
   "id": "32092fbb",
   "metadata": {},
   "outputs": [
    {
     "name": "stdout",
     "output_type": "stream",
     "text": [
      "Sensitivity | 0.919\n",
      "Specificity | 0.897\n",
      "Accuracy | 0.909\n",
      "Precision | 0.919\n",
      "Miscalculation Rate | 0.091\n"
     ]
    }
   ],
   "source": [
    "# Calculate Sensitivity\n",
    "print(f\"Sensitivity | {round(tp2/(tp2+fn2),3)}\")\n",
    "# Calculate the Specificity\n",
    "print(f\"Specificity | {round(tn2/(tn2+fp2),3)}\")\n",
    "# Calculate Accuracy\n",
    "print(f\"Accuracy | {round((tp2+tn2)/(tp2+fp2+tn2+fn2),3)}\")\n",
    "# Calculate Precision\n",
    "print(f\"Precision | {round(tp2/(tp2+fp2),3)}\")\n",
    "# Calculate Miscalculation Rate\n",
    "print(f\"Miscalculation Rate | {round((fp2+fn2)/(tp2+fp2+tn2+fn2),3)}\")"
   ]
  },
  {
   "cell_type": "markdown",
   "id": "05f61f35",
   "metadata": {},
   "source": [
    "### Since the goal of the model is to prioritize sensitivity, this result is desired. \n",
    "\n",
    "In other words, the positive class is whether the post belonged to the `democrats` subreddit class, denoted by a $1$, therefore, the goal is to achieve a result that yields a high probability of correctly predicting an \"actual\" positive example. \n",
    "\n",
    "Precision is also high, that is, the probability that the model is correct when it predicts an example to be in the positive class. For this value, a desired outcome is accomplished.\n",
    "\n",
    "Accuracy, the percentage of observations correctly predicted within the test class, has peaked at $90\\%$, so another highly appealing result has been achieved. \n",
    "\n",
    "Here, $\\textit{SVM}$ has outperformed $\\textit{logistic regression}$ in nearly all of the aforementioned classification metrics; thus $\\textit{SVM}$ is the optimal model at differentiating between the two subreddit classes. "
   ]
  },
  {
   "cell_type": "markdown",
   "id": "37c73246-7b21-4b66-a697-686fa135d643",
   "metadata": {},
   "source": [
    "### Naive Bayes Models"
   ]
  },
  {
   "cell_type": "code",
   "execution_count": 133,
   "id": "07b20c10-80b9-4982-8aea-d7df9d788bd7",
   "metadata": {},
   "outputs": [],
   "source": [
    "pipe3 = Pipeline([\n",
    "    ('cvec', CountVectorizer()),\n",
    "    ('bnb',BernoulliNB())\n",
    "])\n",
    "\n",
    "pipe4 = Pipeline([\n",
    "    ('tvec', TfidfVectorizer()),\n",
    "    ('bnb',BernoulliNB())\n",
    "])"
   ]
  },
  {
   "cell_type": "code",
   "execution_count": 134,
   "id": "5f9a5a22-0285-4171-9e99-a1500782eb58",
   "metadata": {},
   "outputs": [],
   "source": [
    "pipe_params3 = {'cvec__max_features': list(np.arange(5000, 10000, 1000)),\n",
    "               'cvec__ngram_range': [(1,1), (1,2), (1,3)],\n",
    "                'cvec__min_df': [0.00005, 0.0001],\n",
    "                'cvec__max_df': [0.6,0.65,0.7],\n",
    "               'cvec__stop_words': [None, 'english']\n",
    "              }\n",
    "\n",
    "pipe_params4 = {'tvec__max_features' : list(np.arange(5000, 10000, 1000)),\n",
    "               'tvec__ngram_range' : [(1, 1), (1, 2), (1,3)],\n",
    "                'tvec__min_df': [0.00005, 0.0001],\n",
    "                'tvec__max_df': [0.6,0.65,0.7],\n",
    "                'tvec__stop_words': [None, 'english']\n",
    "              }"
   ]
  },
  {
   "cell_type": "code",
   "execution_count": 135,
   "id": "c0aa17df-136c-42bd-8b1a-42973730b283",
   "metadata": {},
   "outputs": [],
   "source": [
    "# Instantiate GridSearchCV.\n",
    "\n",
    "gs3 = GridSearchCV(pipe3, # what object are we optimizing?\n",
    "                  param_grid=pipe_params3, # what parameters values are we searching?\n",
    "                  cv=5) # 5-fold cross-validation.\n",
    "\n",
    "gs4 = GridSearchCV(pipe4, # what object are we optimizing?\n",
    "                  param_grid=pipe_params4, # what parameters values are we searching?\n",
    "                  cv=5) # 5-fold cross-validation."
   ]
  },
  {
   "cell_type": "code",
   "execution_count": 136,
   "id": "86158bd2-d6c3-45e9-96ef-75175a7b28fc",
   "metadata": {},
   "outputs": [
    {
     "data": {
      "text/html": [
       "<style>#sk-container-id-3 {color: black;}#sk-container-id-3 pre{padding: 0;}#sk-container-id-3 div.sk-toggleable {background-color: white;}#sk-container-id-3 label.sk-toggleable__label {cursor: pointer;display: block;width: 100%;margin-bottom: 0;padding: 0.3em;box-sizing: border-box;text-align: center;}#sk-container-id-3 label.sk-toggleable__label-arrow:before {content: \"▸\";float: left;margin-right: 0.25em;color: #696969;}#sk-container-id-3 label.sk-toggleable__label-arrow:hover:before {color: black;}#sk-container-id-3 div.sk-estimator:hover label.sk-toggleable__label-arrow:before {color: black;}#sk-container-id-3 div.sk-toggleable__content {max-height: 0;max-width: 0;overflow: hidden;text-align: left;background-color: #f0f8ff;}#sk-container-id-3 div.sk-toggleable__content pre {margin: 0.2em;color: black;border-radius: 0.25em;background-color: #f0f8ff;}#sk-container-id-3 input.sk-toggleable__control:checked~div.sk-toggleable__content {max-height: 200px;max-width: 100%;overflow: auto;}#sk-container-id-3 input.sk-toggleable__control:checked~label.sk-toggleable__label-arrow:before {content: \"▾\";}#sk-container-id-3 div.sk-estimator input.sk-toggleable__control:checked~label.sk-toggleable__label {background-color: #d4ebff;}#sk-container-id-3 div.sk-label input.sk-toggleable__control:checked~label.sk-toggleable__label {background-color: #d4ebff;}#sk-container-id-3 input.sk-hidden--visually {border: 0;clip: rect(1px 1px 1px 1px);clip: rect(1px, 1px, 1px, 1px);height: 1px;margin: -1px;overflow: hidden;padding: 0;position: absolute;width: 1px;}#sk-container-id-3 div.sk-estimator {font-family: monospace;background-color: #f0f8ff;border: 1px dotted black;border-radius: 0.25em;box-sizing: border-box;margin-bottom: 0.5em;}#sk-container-id-3 div.sk-estimator:hover {background-color: #d4ebff;}#sk-container-id-3 div.sk-parallel-item::after {content: \"\";width: 100%;border-bottom: 1px solid gray;flex-grow: 1;}#sk-container-id-3 div.sk-label:hover label.sk-toggleable__label {background-color: #d4ebff;}#sk-container-id-3 div.sk-serial::before {content: \"\";position: absolute;border-left: 1px solid gray;box-sizing: border-box;top: 0;bottom: 0;left: 50%;z-index: 0;}#sk-container-id-3 div.sk-serial {display: flex;flex-direction: column;align-items: center;background-color: white;padding-right: 0.2em;padding-left: 0.2em;position: relative;}#sk-container-id-3 div.sk-item {position: relative;z-index: 1;}#sk-container-id-3 div.sk-parallel {display: flex;align-items: stretch;justify-content: center;background-color: white;position: relative;}#sk-container-id-3 div.sk-item::before, #sk-container-id-3 div.sk-parallel-item::before {content: \"\";position: absolute;border-left: 1px solid gray;box-sizing: border-box;top: 0;bottom: 0;left: 50%;z-index: -1;}#sk-container-id-3 div.sk-parallel-item {display: flex;flex-direction: column;z-index: 1;position: relative;background-color: white;}#sk-container-id-3 div.sk-parallel-item:first-child::after {align-self: flex-end;width: 50%;}#sk-container-id-3 div.sk-parallel-item:last-child::after {align-self: flex-start;width: 50%;}#sk-container-id-3 div.sk-parallel-item:only-child::after {width: 0;}#sk-container-id-3 div.sk-dashed-wrapped {border: 1px dashed gray;margin: 0 0.4em 0.5em 0.4em;box-sizing: border-box;padding-bottom: 0.4em;background-color: white;}#sk-container-id-3 div.sk-label label {font-family: monospace;font-weight: bold;display: inline-block;line-height: 1.2em;}#sk-container-id-3 div.sk-label-container {text-align: center;}#sk-container-id-3 div.sk-container {/* jupyter's `normalize.less` sets `[hidden] { display: none; }` but bootstrap.min.css set `[hidden] { display: none !important; }` so we also need the `!important` here to be able to override the default hidden behavior on the sphinx rendered scikit-learn.org. See: https://github.com/scikit-learn/scikit-learn/issues/21755 */display: inline-block !important;position: relative;}#sk-container-id-3 div.sk-text-repr-fallback {display: none;}</style><div id=\"sk-container-id-3\" class=\"sk-top-container\"><div class=\"sk-text-repr-fallback\"><pre>GridSearchCV(cv=5,\n",
       "             estimator=Pipeline(steps=[(&#x27;tvec&#x27;, TfidfVectorizer()),\n",
       "                                       (&#x27;bnb&#x27;, BernoulliNB())]),\n",
       "             param_grid={&#x27;tvec__max_df&#x27;: [0.6, 0.65, 0.7],\n",
       "                         &#x27;tvec__max_features&#x27;: [5000, 6000, 7000, 8000, 9000],\n",
       "                         &#x27;tvec__min_df&#x27;: [5e-05, 0.0001],\n",
       "                         &#x27;tvec__ngram_range&#x27;: [(1, 1), (1, 2), (1, 3)],\n",
       "                         &#x27;tvec__stop_words&#x27;: [None, &#x27;english&#x27;]})</pre><b>In a Jupyter environment, please rerun this cell to show the HTML representation or trust the notebook. <br />On GitHub, the HTML representation is unable to render, please try loading this page with nbviewer.org.</b></div><div class=\"sk-container\" hidden><div class=\"sk-item sk-dashed-wrapped\"><div class=\"sk-label-container\"><div class=\"sk-label sk-toggleable\"><input class=\"sk-toggleable__control sk-hidden--visually\" id=\"sk-estimator-id-9\" type=\"checkbox\" ><label for=\"sk-estimator-id-9\" class=\"sk-toggleable__label sk-toggleable__label-arrow\">GridSearchCV</label><div class=\"sk-toggleable__content\"><pre>GridSearchCV(cv=5,\n",
       "             estimator=Pipeline(steps=[(&#x27;tvec&#x27;, TfidfVectorizer()),\n",
       "                                       (&#x27;bnb&#x27;, BernoulliNB())]),\n",
       "             param_grid={&#x27;tvec__max_df&#x27;: [0.6, 0.65, 0.7],\n",
       "                         &#x27;tvec__max_features&#x27;: [5000, 6000, 7000, 8000, 9000],\n",
       "                         &#x27;tvec__min_df&#x27;: [5e-05, 0.0001],\n",
       "                         &#x27;tvec__ngram_range&#x27;: [(1, 1), (1, 2), (1, 3)],\n",
       "                         &#x27;tvec__stop_words&#x27;: [None, &#x27;english&#x27;]})</pre></div></div></div><div class=\"sk-parallel\"><div class=\"sk-parallel-item\"><div class=\"sk-item\"><div class=\"sk-label-container\"><div class=\"sk-label sk-toggleable\"><input class=\"sk-toggleable__control sk-hidden--visually\" id=\"sk-estimator-id-10\" type=\"checkbox\" ><label for=\"sk-estimator-id-10\" class=\"sk-toggleable__label sk-toggleable__label-arrow\">estimator: Pipeline</label><div class=\"sk-toggleable__content\"><pre>Pipeline(steps=[(&#x27;tvec&#x27;, TfidfVectorizer()), (&#x27;bnb&#x27;, BernoulliNB())])</pre></div></div></div><div class=\"sk-serial\"><div class=\"sk-item\"><div class=\"sk-serial\"><div class=\"sk-item\"><div class=\"sk-estimator sk-toggleable\"><input class=\"sk-toggleable__control sk-hidden--visually\" id=\"sk-estimator-id-11\" type=\"checkbox\" ><label for=\"sk-estimator-id-11\" class=\"sk-toggleable__label sk-toggleable__label-arrow\">TfidfVectorizer</label><div class=\"sk-toggleable__content\"><pre>TfidfVectorizer()</pre></div></div></div><div class=\"sk-item\"><div class=\"sk-estimator sk-toggleable\"><input class=\"sk-toggleable__control sk-hidden--visually\" id=\"sk-estimator-id-12\" type=\"checkbox\" ><label for=\"sk-estimator-id-12\" class=\"sk-toggleable__label sk-toggleable__label-arrow\">BernoulliNB</label><div class=\"sk-toggleable__content\"><pre>BernoulliNB()</pre></div></div></div></div></div></div></div></div></div></div></div></div>"
      ],
      "text/plain": [
       "GridSearchCV(cv=5,\n",
       "             estimator=Pipeline(steps=[('tvec', TfidfVectorizer()),\n",
       "                                       ('bnb', BernoulliNB())]),\n",
       "             param_grid={'tvec__max_df': [0.6, 0.65, 0.7],\n",
       "                         'tvec__max_features': [5000, 6000, 7000, 8000, 9000],\n",
       "                         'tvec__min_df': [5e-05, 0.0001],\n",
       "                         'tvec__ngram_range': [(1, 1), (1, 2), (1, 3)],\n",
       "                         'tvec__stop_words': [None, 'english']})"
      ]
     },
     "execution_count": 136,
     "metadata": {},
     "output_type": "execute_result"
    }
   ],
   "source": [
    "gs3.fit(censored_posts_train, y_train)\n",
    "\n",
    "gs4.fit(censored_posts_train, y_train)"
   ]
  },
  {
   "cell_type": "code",
   "execution_count": 137,
   "id": "2dd57312-8a86-48f6-9132-aa3506f1da24",
   "metadata": {},
   "outputs": [
    {
     "name": "stdout",
     "output_type": "stream",
     "text": [
      "Train score for Bern CountVec: 0.9375419744795165\n",
      "Test score for Bern CountVec: 0.8545454545454545\n"
     ]
    }
   ],
   "source": [
    "print(f\"Train score for Bern CountVec: {gs3.score(censored_posts_train, y_train)}\")\n",
    "print(f\"Test score for Bern CountVec: {gs3.score(censored_posts_test, y_test)}\")"
   ]
  },
  {
   "cell_type": "code",
   "execution_count": 138,
   "id": "130dc2ae-abfa-41c2-96c0-4c20e058fa38",
   "metadata": {},
   "outputs": [
    {
     "name": "stdout",
     "output_type": "stream",
     "text": [
      "Train score for Bern TfidfVec: 0.9375419744795165\n",
      "Test score for Bern TfidfVec: 0.8545454545454545\n"
     ]
    }
   ],
   "source": [
    "print(f\"Train score for Bern TfidfVec: {gs4.score(censored_posts_train, y_train)}\")\n",
    "print(f\"Test score for Bern TfidfVec: {gs4.score(censored_posts_test, y_test)}\")"
   ]
  },
  {
   "cell_type": "code",
   "execution_count": 139,
   "id": "335568cb-4e58-4a14-a252-354dc9c20048",
   "metadata": {},
   "outputs": [
    {
     "name": "stdout",
     "output_type": "stream",
     "text": [
      "{'cvec__max_df': 0.6, 'cvec__max_features': 5000, 'cvec__min_df': 5e-05, 'cvec__ngram_range': (1, 1), 'cvec__stop_words': None}\n",
      "{'tvec__max_df': 0.6, 'tvec__max_features': 5000, 'tvec__min_df': 5e-05, 'tvec__ngram_range': (1, 1), 'tvec__stop_words': None}\n"
     ]
    }
   ],
   "source": [
    "print(gs3.best_params_)\n",
    "print(gs4.best_params_)"
   ]
  },
  {
   "cell_type": "code",
   "execution_count": 175,
   "id": "2e44ee11-9b21-44d6-89ca-11fdf2f58514",
   "metadata": {},
   "outputs": [
    {
     "name": "stdout",
     "output_type": "stream",
     "text": [
      "Specificity | 0.8275862068965517\n",
      "Sensitivity | 0.8756756756756757\n",
      "Accuracy | 0.855\n",
      "Precision | 0.866\n",
      "Miscalculation Rate | 0.145\n"
     ]
    },
    {
     "data": {
      "image/png": "[encoded data removed]",
      "text/plain": [
       "<Figure size 640x480 with 2 Axes>"
      ]
     },
     "metadata": {},
     "output_type": "display_data"
    }
   ],
   "source": [
    "# Get predictions gs1\n",
    "preds3 = gs3.predict(censored_posts_test)\n",
    "# Save confusion matrix values\n",
    "tn3, fp3, fn3, tp3 = confusion_matrix(y_test, preds3).ravel()\n",
    "\n",
    "# Get predictions gs2\n",
    "preds4 = gs4.predict(censored_posts_test)\n",
    "# Save confusion matrix values\n",
    "tn4, fp4, fn4, tp4 = confusion_matrix(y_test, preds4).ravel()\n",
    "\n",
    "# View confusion matrix\n",
    "ConfusionMatrixDisplay.from_estimator(gs3, censored_posts_test, y_test, cmap='Blues');\n",
    "\n",
    "# Calculate the specificity\n",
    "print(f\"Specificity | {tn3/(tn3+fp3)}\")\n",
    "\n",
    "# Calculate sensitivity\n",
    "print(f\"Sensitivity | {tp3/(tp3+fn3)}\")\n",
    "# Calculate Accuracy\n",
    "print(f\"Accuracy | {round((tp3+tn3)/(tp3+fp3+tn3+fn3),3)}\")\n",
    "# Calculate Precision\n",
    "print(f\"Precision | {round(tp3/(tp3+fp3),3)}\")\n",
    "# Calculate Miscalculation Rate\n",
    "print(f\"Miscalculation Rate | {round((fp3+fn3)/(tp3+fp3+tn3+fn3),3)}\")"
   ]
  },
  {
   "cell_type": "code",
   "execution_count": 182,
   "id": "4765e476-f662-4207-ab32-0237249d56c6",
   "metadata": {},
   "outputs": [
    {
     "name": "stdout",
     "output_type": "stream",
     "text": [
      "Values being correctly classified: 162 democrat posts, 120 republican posts.\n",
      "Values being incorrectly classified: 23 democrat posts being predicted as republican posts, 25 republican posts being predicted as democrat posts.\n"
     ]
    }
   ],
   "source": [
    "print(f\"Values being correctly classified: {tp3} democrat posts, {tn3} republican posts.\")\n",
    "print(f\"Values being incorrectly classified: {fn3} democrat posts being predicted as republican posts, {fp3} republican posts being predicted as democrat posts.\")"
   ]
  },
  {
   "cell_type": "code",
   "execution_count": 174,
   "id": "cb892f02-1433-40e2-a9d7-d14138c83d95",
   "metadata": {},
   "outputs": [
    {
     "name": "stdout",
     "output_type": "stream",
     "text": [
      "Specificity | 0.8275862068965517\n",
      "Sensitivity | 0.8756756756756757\n",
      "Accuracy | 0.855\n",
      "Precision | 0.866\n",
      "Miscalculation Rate | 0.145\n"
     ]
    },
    {
     "data": {
      "image/png": "[encoded data removed]",
      "text/plain": [
       "<Figure size 640x480 with 2 Axes>"
      ]
     },
     "metadata": {},
     "output_type": "display_data"
    }
   ],
   "source": [
    "# View confusion matrix\n",
    "ConfusionMatrixDisplay.from_estimator(gs4, censored_posts_test, y_test, cmap='Blues');\n",
    "\n",
    "# Calculate the specificity\n",
    "print(f\"Specificity | {tn4/(tn4+fp4)}\")\n",
    "\n",
    "# Calculate sensitivity\n",
    "print(f\"Sensitivity | {tp4/(tp4+fn4)}\")\n",
    "# Calculate Accuracy\n",
    "print(f\"Accuracy | {round((tp4+tn4)/(tp4+fp4+tn4+fn4),3)}\")\n",
    "# Calculate Precision\n",
    "print(f\"Precision | {round(tp4/(tp4+fp4),3)}\")\n",
    "# Calculate Miscalculation Rate\n",
    "print(f\"Miscalculation Rate | {round((fp4+fn4)/(tp4+fp4+tn4+fn4),3)}\")"
   ]
  },
  {
   "cell_type": "code",
   "execution_count": 183,
   "id": "97b63264-3a77-46e5-bfce-995dd52f368e",
   "metadata": {},
   "outputs": [
    {
     "name": "stdout",
     "output_type": "stream",
     "text": [
      "Values being correctly classified: 162 democrat posts, 120 republican posts.\n",
      "Values being incorrectly classified: 23 democrat posts being predicted as republican posts, 25 republican posts being predicted as democrat posts.\n"
     ]
    }
   ],
   "source": [
    "print(f\"Values being correctly classified: {tp4} democrat posts, {tn4} republican posts.\")\n",
    "print(f\"Values being incorrectly classified: {fn4} democrat posts being predicted as republican posts, {fp4} republican posts being predicted as democrat posts.\")"
   ]
  },
  {
   "cell_type": "code",
   "execution_count": 142,
   "id": "14e67d53-d3a0-4a1a-ab61-e82d6acd5518",
   "metadata": {},
   "outputs": [],
   "source": [
    "pipe5 = Pipeline([\n",
    "    ('cvec', CountVectorizer()),\n",
    "    ('mlt',MultinomialNB())\n",
    "])\n",
    "\n",
    "pipe6 = Pipeline([\n",
    "    ('tvec', TfidfVectorizer()),\n",
    "    ('mlt',MultinomialNB())\n",
    "])"
   ]
  },
  {
   "cell_type": "code",
   "execution_count": 143,
   "id": "ea498bde-943a-46c4-939a-96a5360b8125",
   "metadata": {},
   "outputs": [],
   "source": [
    "pipe_params5 = {'cvec__max_features': list(np.arange(5000, 10000, 1000)),\n",
    "               'cvec__ngram_range': [(1,1), (1,2), (1,3)],\n",
    "                'cvec__min_df': [0.00005, 0.0001],\n",
    "                'cvec__max_df': [0.6,0.65,0.7],\n",
    "               'cvec__stop_words': [None, 'english']\n",
    "              }\n",
    "\n",
    "pipe_params6 = {'tvec__max_features' : list(np.arange(5000, 10000, 1000)),\n",
    "               'tvec__ngram_range' : [(1, 1), (1, 2), (1,3)],\n",
    "                'tvec__min_df': [0.00005, 0.0001],\n",
    "                'tvec__max_df': [0.6,0.65,0.7],\n",
    "                'tvec__stop_words': [None, 'english']\n",
    "              }"
   ]
  },
  {
   "cell_type": "code",
   "execution_count": 144,
   "id": "eb1c3da7-2098-4544-b828-5789c7bdac33",
   "metadata": {},
   "outputs": [],
   "source": [
    "# Instantiate GridSearchCV.\n",
    "\n",
    "gs5 = GridSearchCV(pipe5, # what object are we optimizing?\n",
    "                  param_grid=pipe_params5, # what parameters values are we searching?\n",
    "                  cv=5) # 5-fold cross-validation.\n",
    "\n",
    "gs6 = GridSearchCV(pipe6, # what object are we optimizing?\n",
    "                  param_grid=pipe_params6, # what parameters values are we searching?\n",
    "                  cv=5) # 5-fold cross-validation."
   ]
  },
  {
   "cell_type": "code",
   "execution_count": 145,
   "id": "b9384acb-88e9-4480-9ef5-04c6fd40e42a",
   "metadata": {},
   "outputs": [
    {
     "data": {
      "text/html": [
       "<style>#sk-container-id-4 {color: black;}#sk-container-id-4 pre{padding: 0;}#sk-container-id-4 div.sk-toggleable {background-color: white;}#sk-container-id-4 label.sk-toggleable__label {cursor: pointer;display: block;width: 100%;margin-bottom: 0;padding: 0.3em;box-sizing: border-box;text-align: center;}#sk-container-id-4 label.sk-toggleable__label-arrow:before {content: \"▸\";float: left;margin-right: 0.25em;color: #696969;}#sk-container-id-4 label.sk-toggleable__label-arrow:hover:before {color: black;}#sk-container-id-4 div.sk-estimator:hover label.sk-toggleable__label-arrow:before {color: black;}#sk-container-id-4 div.sk-toggleable__content {max-height: 0;max-width: 0;overflow: hidden;text-align: left;background-color: #f0f8ff;}#sk-container-id-4 div.sk-toggleable__content pre {margin: 0.2em;color: black;border-radius: 0.25em;background-color: #f0f8ff;}#sk-container-id-4 input.sk-toggleable__control:checked~div.sk-toggleable__content {max-height: 200px;max-width: 100%;overflow: auto;}#sk-container-id-4 input.sk-toggleable__control:checked~label.sk-toggleable__label-arrow:before {content: \"▾\";}#sk-container-id-4 div.sk-estimator input.sk-toggleable__control:checked~label.sk-toggleable__label {background-color: #d4ebff;}#sk-container-id-4 div.sk-label input.sk-toggleable__control:checked~label.sk-toggleable__label {background-color: #d4ebff;}#sk-container-id-4 input.sk-hidden--visually {border: 0;clip: rect(1px 1px 1px 1px);clip: rect(1px, 1px, 1px, 1px);height: 1px;margin: -1px;overflow: hidden;padding: 0;position: absolute;width: 1px;}#sk-container-id-4 div.sk-estimator {font-family: monospace;background-color: #f0f8ff;border: 1px dotted black;border-radius: 0.25em;box-sizing: border-box;margin-bottom: 0.5em;}#sk-container-id-4 div.sk-estimator:hover {background-color: #d4ebff;}#sk-container-id-4 div.sk-parallel-item::after {content: \"\";width: 100%;border-bottom: 1px solid gray;flex-grow: 1;}#sk-container-id-4 div.sk-label:hover label.sk-toggleable__label {background-color: #d4ebff;}#sk-container-id-4 div.sk-serial::before {content: \"\";position: absolute;border-left: 1px solid gray;box-sizing: border-box;top: 0;bottom: 0;left: 50%;z-index: 0;}#sk-container-id-4 div.sk-serial {display: flex;flex-direction: column;align-items: center;background-color: white;padding-right: 0.2em;padding-left: 0.2em;position: relative;}#sk-container-id-4 div.sk-item {position: relative;z-index: 1;}#sk-container-id-4 div.sk-parallel {display: flex;align-items: stretch;justify-content: center;background-color: white;position: relative;}#sk-container-id-4 div.sk-item::before, #sk-container-id-4 div.sk-parallel-item::before {content: \"\";position: absolute;border-left: 1px solid gray;box-sizing: border-box;top: 0;bottom: 0;left: 50%;z-index: -1;}#sk-container-id-4 div.sk-parallel-item {display: flex;flex-direction: column;z-index: 1;position: relative;background-color: white;}#sk-container-id-4 div.sk-parallel-item:first-child::after {align-self: flex-end;width: 50%;}#sk-container-id-4 div.sk-parallel-item:last-child::after {align-self: flex-start;width: 50%;}#sk-container-id-4 div.sk-parallel-item:only-child::after {width: 0;}#sk-container-id-4 div.sk-dashed-wrapped {border: 1px dashed gray;margin: 0 0.4em 0.5em 0.4em;box-sizing: border-box;padding-bottom: 0.4em;background-color: white;}#sk-container-id-4 div.sk-label label {font-family: monospace;font-weight: bold;display: inline-block;line-height: 1.2em;}#sk-container-id-4 div.sk-label-container {text-align: center;}#sk-container-id-4 div.sk-container {/* jupyter's `normalize.less` sets `[hidden] { display: none; }` but bootstrap.min.css set `[hidden] { display: none !important; }` so we also need the `!important` here to be able to override the default hidden behavior on the sphinx rendered scikit-learn.org. See: https://github.com/scikit-learn/scikit-learn/issues/21755 */display: inline-block !important;position: relative;}#sk-container-id-4 div.sk-text-repr-fallback {display: none;}</style><div id=\"sk-container-id-4\" class=\"sk-top-container\"><div class=\"sk-text-repr-fallback\"><pre>GridSearchCV(cv=5,\n",
       "             estimator=Pipeline(steps=[(&#x27;tvec&#x27;, TfidfVectorizer()),\n",
       "                                       (&#x27;mlt&#x27;, MultinomialNB())]),\n",
       "             param_grid={&#x27;tvec__max_df&#x27;: [0.6, 0.65, 0.7],\n",
       "                         &#x27;tvec__max_features&#x27;: [5000, 6000, 7000, 8000, 9000],\n",
       "                         &#x27;tvec__min_df&#x27;: [5e-05, 0.0001],\n",
       "                         &#x27;tvec__ngram_range&#x27;: [(1, 1), (1, 2), (1, 3)],\n",
       "                         &#x27;tvec__stop_words&#x27;: [None, &#x27;english&#x27;]})</pre><b>In a Jupyter environment, please rerun this cell to show the HTML representation or trust the notebook. <br />On GitHub, the HTML representation is unable to render, please try loading this page with nbviewer.org.</b></div><div class=\"sk-container\" hidden><div class=\"sk-item sk-dashed-wrapped\"><div class=\"sk-label-container\"><div class=\"sk-label sk-toggleable\"><input class=\"sk-toggleable__control sk-hidden--visually\" id=\"sk-estimator-id-13\" type=\"checkbox\" ><label for=\"sk-estimator-id-13\" class=\"sk-toggleable__label sk-toggleable__label-arrow\">GridSearchCV</label><div class=\"sk-toggleable__content\"><pre>GridSearchCV(cv=5,\n",
       "             estimator=Pipeline(steps=[(&#x27;tvec&#x27;, TfidfVectorizer()),\n",
       "                                       (&#x27;mlt&#x27;, MultinomialNB())]),\n",
       "             param_grid={&#x27;tvec__max_df&#x27;: [0.6, 0.65, 0.7],\n",
       "                         &#x27;tvec__max_features&#x27;: [5000, 6000, 7000, 8000, 9000],\n",
       "                         &#x27;tvec__min_df&#x27;: [5e-05, 0.0001],\n",
       "                         &#x27;tvec__ngram_range&#x27;: [(1, 1), (1, 2), (1, 3)],\n",
       "                         &#x27;tvec__stop_words&#x27;: [None, &#x27;english&#x27;]})</pre></div></div></div><div class=\"sk-parallel\"><div class=\"sk-parallel-item\"><div class=\"sk-item\"><div class=\"sk-label-container\"><div class=\"sk-label sk-toggleable\"><input class=\"sk-toggleable__control sk-hidden--visually\" id=\"sk-estimator-id-14\" type=\"checkbox\" ><label for=\"sk-estimator-id-14\" class=\"sk-toggleable__label sk-toggleable__label-arrow\">estimator: Pipeline</label><div class=\"sk-toggleable__content\"><pre>Pipeline(steps=[(&#x27;tvec&#x27;, TfidfVectorizer()), (&#x27;mlt&#x27;, MultinomialNB())])</pre></div></div></div><div class=\"sk-serial\"><div class=\"sk-item\"><div class=\"sk-serial\"><div class=\"sk-item\"><div class=\"sk-estimator sk-toggleable\"><input class=\"sk-toggleable__control sk-hidden--visually\" id=\"sk-estimator-id-15\" type=\"checkbox\" ><label for=\"sk-estimator-id-15\" class=\"sk-toggleable__label sk-toggleable__label-arrow\">TfidfVectorizer</label><div class=\"sk-toggleable__content\"><pre>TfidfVectorizer()</pre></div></div></div><div class=\"sk-item\"><div class=\"sk-estimator sk-toggleable\"><input class=\"sk-toggleable__control sk-hidden--visually\" id=\"sk-estimator-id-16\" type=\"checkbox\" ><label for=\"sk-estimator-id-16\" class=\"sk-toggleable__label sk-toggleable__label-arrow\">MultinomialNB</label><div class=\"sk-toggleable__content\"><pre>MultinomialNB()</pre></div></div></div></div></div></div></div></div></div></div></div></div>"
      ],
      "text/plain": [
       "GridSearchCV(cv=5,\n",
       "             estimator=Pipeline(steps=[('tvec', TfidfVectorizer()),\n",
       "                                       ('mlt', MultinomialNB())]),\n",
       "             param_grid={'tvec__max_df': [0.6, 0.65, 0.7],\n",
       "                         'tvec__max_features': [5000, 6000, 7000, 8000, 9000],\n",
       "                         'tvec__min_df': [5e-05, 0.0001],\n",
       "                         'tvec__ngram_range': [(1, 1), (1, 2), (1, 3)],\n",
       "                         'tvec__stop_words': [None, 'english']})"
      ]
     },
     "execution_count": 145,
     "metadata": {},
     "output_type": "execute_result"
    }
   ],
   "source": [
    "gs5.fit(censored_posts_train, y_train)\n",
    "\n",
    "gs6.fit(censored_posts_train, y_train)"
   ]
  },
  {
   "cell_type": "code",
   "execution_count": 146,
   "id": "8b4fd74a-bfcd-4dd7-a5da-96c45d247c67",
   "metadata": {},
   "outputs": [
    {
     "name": "stdout",
     "output_type": "stream",
     "text": [
      "Train score for Multi CountVec: 0.9378777703156481\n",
      "Test score for Multi CountVec: 0.8454545454545455\n"
     ]
    }
   ],
   "source": [
    "print(f\"Train score for Multi CountVec: {gs5.score(censored_posts_train, y_train)}\")\n",
    "print(f\"Test score for Multi CountVec: {gs5.score(censored_posts_test, y_test)}\")"
   ]
  },
  {
   "cell_type": "code",
   "execution_count": 147,
   "id": "23f4e5da-9d22-4e56-8509-b40f159f3752",
   "metadata": {},
   "outputs": [
    {
     "name": "stdout",
     "output_type": "stream",
     "text": [
      "Train score for Multi TfidfVec: 0.9519811954331766\n",
      "Test score for Multi TfidfVec: 0.8545454545454545\n"
     ]
    }
   ],
   "source": [
    "print(f\"Train score for Multi TfidfVec: {gs6.score(censored_posts_train, y_train)}\")\n",
    "print(f\"Test score for Multi TfidfVec: {gs6.score(censored_posts_test, y_test)}\")"
   ]
  },
  {
   "cell_type": "code",
   "execution_count": 148,
   "id": "66d2ee0a-24d3-45f0-8d9a-3eba9b6081c5",
   "metadata": {},
   "outputs": [
    {
     "name": "stdout",
     "output_type": "stream",
     "text": [
      "{'cvec__max_df': 0.6, 'cvec__max_features': 5000, 'cvec__min_df': 5e-05, 'cvec__ngram_range': (1, 1), 'cvec__stop_words': 'english'}\n",
      "{'tvec__max_df': 0.6, 'tvec__max_features': 9000, 'tvec__min_df': 5e-05, 'tvec__ngram_range': (1, 2), 'tvec__stop_words': None}\n"
     ]
    }
   ],
   "source": [
    "print(gs5.best_params_)\n",
    "print(gs6.best_params_)"
   ]
  },
  {
   "cell_type": "code",
   "execution_count": 176,
   "id": "e317f6a0-d4ff-4d1c-acb2-9252537172f4",
   "metadata": {},
   "outputs": [
    {
     "name": "stdout",
     "output_type": "stream",
     "text": [
      "Specificity | 0.8344827586206897\n",
      "Sensitivity | 0.8540540540540541\n",
      "Accuracy | 0.845\n",
      "Precision | 0.868\n",
      "Miscalculation Rate | 0.155\n"
     ]
    },
    {
     "data": {
      "image/png": "[encoded data removed]",
      "text/plain": [
       "<Figure size 640x480 with 2 Axes>"
      ]
     },
     "metadata": {},
     "output_type": "display_data"
    }
   ],
   "source": [
    "# Get predictions gs1\n",
    "preds5 = gs5.predict(censored_posts_test)\n",
    "# Save confusion matrix values\n",
    "tn5, fp5, fn5, tp5 = confusion_matrix(y_test, preds5).ravel()\n",
    "\n",
    "# Get predictions gs2\n",
    "preds6 = gs6.predict(censored_posts_test)\n",
    "# Save confusion matrix values\n",
    "tn6, fp6, fn6, tp6 = confusion_matrix(y_test, preds6).ravel()\n",
    "\n",
    "# View confusion matrix\n",
    "ConfusionMatrixDisplay.from_estimator(gs5, censored_posts_test, y_test, cmap='Blues');\n",
    "\n",
    "# Calculate the specificity\n",
    "print(f\"Specificity | {tn5/(tn5+fp5)}\")\n",
    "\n",
    "# Calculate sensitivity\n",
    "print(f\"Sensitivity | {tp5/(tp5+fn5)}\")\n",
    "# Calculate Accuracy\n",
    "print(f\"Accuracy | {round((tp5+tn5)/(tp5+fp5+tn5+fn5),3)}\")\n",
    "# Calculate Precision\n",
    "print(f\"Precision | {round(tp5/(tp5+fp5),3)}\")\n",
    "# Calculate Miscalculation Rate\n",
    "print(f\"Miscalculation Rate | {round((fp5+fn5)/(tp5+fp5+tn5+fn5),3)}\")"
   ]
  },
  {
   "cell_type": "code",
   "execution_count": 184,
   "id": "3995b946-ee42-48e6-9268-92ac62a5d978",
   "metadata": {},
   "outputs": [
    {
     "name": "stdout",
     "output_type": "stream",
     "text": [
      "Values being correctly classified: 158 democrat posts, 121 republican posts.\n",
      "Values being incorrectly classified: 27 democrat posts being predicted as republican posts, 24 republican posts being predicted as democrat posts.\n"
     ]
    }
   ],
   "source": [
    "print(f\"Values being correctly classified: {tp5} democrat posts, {tn5} republican posts.\")\n",
    "print(f\"Values being incorrectly classified: {fn5} democrat posts being predicted as republican posts, {fp5} republican posts being predicted as democrat posts.\")"
   ]
  },
  {
   "cell_type": "code",
   "execution_count": 177,
   "id": "902dc367-d6a1-4fc1-80a7-6598bc82c06b",
   "metadata": {},
   "outputs": [
    {
     "name": "stdout",
     "output_type": "stream",
     "text": [
      "Specificity | 0.8758620689655172\n",
      "Sensitivity | 0.8378378378378378\n",
      "Accuracy | 0.855\n",
      "Precision | 0.896\n",
      "Miscalculation Rate | 0.145\n"
     ]
    },
    {
     "data": {
      "image/png": "[encoded data removed]",
      "text/plain": [
       "<Figure size 640x480 with 2 Axes>"
      ]
     },
     "metadata": {},
     "output_type": "display_data"
    }
   ],
   "source": [
    "# View confusion matrix\n",
    "ConfusionMatrixDisplay.from_estimator(gs6, censored_posts_test, y_test, cmap='Blues');\n",
    "\n",
    "# Calculate the specificity\n",
    "print(f\"Specificity | {tn6/(tn6+fp6)}\")\n",
    "\n",
    "# Calculate sensitivity\n",
    "print(f\"Sensitivity | {tp6/(tp6+fn6)}\")\n",
    "# Calculate Accuracy\n",
    "print(f\"Accuracy | {round((tp6+tn6)/(tp6+fp6+tn6+fn6),3)}\")\n",
    "# Calculate Precision\n",
    "print(f\"Precision | {round(tp6/(tp6+fp6),3)}\")\n",
    "# Calculate Miscalculation Rate\n",
    "print(f\"Miscalculation Rate | {round((fp6+fn6)/(tp6+fp6+tn6+fn6),3)}\")"
   ]
  },
  {
   "cell_type": "code",
   "execution_count": 185,
   "id": "0d062d74-f023-45c0-b0e2-4d94cd9c782d",
   "metadata": {},
   "outputs": [
    {
     "name": "stdout",
     "output_type": "stream",
     "text": [
      "Values being correctly classified: 155 democrat posts, 127 republican posts.\n",
      "Values being incorrectly classified: 30 democrat posts being predicted as republican posts, 18 republican posts being predicted as democrat posts.\n"
     ]
    }
   ],
   "source": [
    "print(f\"Values being correctly classified: {tp6} democrat posts, {tn6} republican posts.\")\n",
    "print(f\"Values being incorrectly classified: {fn6} democrat posts being predicted as republican posts, {fp6} republican posts being predicted as democrat posts.\")"
   ]
  },
  {
   "cell_type": "markdown",
   "id": "9c701b9b-4c1f-4986-a362-6eec81634884",
   "metadata": {},
   "source": [
    "### Gaussian Naive - Bayes (LONG RUNTIME)"
   ]
  },
  {
   "cell_type": "code",
   "execution_count": 155,
   "id": "866203da-6b2e-4d7e-9efc-4fda94216318",
   "metadata": {},
   "outputs": [],
   "source": [
    "def convert_to_dense(X):\n",
    "    return X.toarray()\n",
    "\n",
    "pipe7 = Pipeline([\n",
    "    ('cvec', CountVectorizer()),\n",
    "    ('to_dense', FunctionTransformer(convert_to_dense, accept_sparse=True)),\n",
    "    ('gss',GaussianNB())\n",
    "])\n",
    "\n",
    "pipe8 = Pipeline([\n",
    "    ('tvec', TfidfVectorizer()),\n",
    "    ('to_dense', FunctionTransformer(convert_to_dense, accept_sparse=True)),\n",
    "    ('gss',GaussianNB())\n",
    "])"
   ]
  },
  {
   "cell_type": "code",
   "execution_count": 156,
   "id": "dc5ec64b-cac5-4cf1-9e57-5afa380a7351",
   "metadata": {},
   "outputs": [],
   "source": [
    "pipe_params7 = {'cvec__max_features': list(np.arange(5000, 10000, 1000)),\n",
    "                'cvec__ngram_range' : [(1, 1), (1, 2), (1,3)],\n",
    "                'cvec__min_df': [0.00005, 0.0001],\n",
    "                'cvec__max_df': [0.6,0.65,0.7],\n",
    "               'cvec__stop_words': [None, 'english']\n",
    "              }\n",
    "\n",
    "pipe_params8 = {'tvec__max_features' : list(np.arange(5000, 10000, 1000)),\n",
    "                'tvec__ngram_range' : [(1, 1), (1, 2), (1,3)],\n",
    "                'tvec__min_df': [0.00005, 0.0001],\n",
    "                'tvec__max_df': [0.6,0.65,0.7],\n",
    "                'tvec__stop_words': [None, 'english']\n",
    "              }"
   ]
  },
  {
   "cell_type": "code",
   "execution_count": 158,
   "id": "264b7d59-baa4-460f-b6e5-72481066a6f3",
   "metadata": {},
   "outputs": [],
   "source": [
    "# Instantiate GridSearchCV.\n",
    "\n",
    "gs7 = GridSearchCV(pipe7, # what object are we optimizing?\n",
    "                  param_grid=pipe_params7, # what parameters values are we searching?\n",
    "                  cv=5) # 5-fold cross-validation.\n",
    "\n",
    "gs8 = GridSearchCV(pipe8, # what object are we optimizing?\n",
    "                  param_grid=pipe_params8, # what parameters values are we searching?\n",
    "                  cv=5) # 5-fold cross-validation."
   ]
  },
  {
   "cell_type": "code",
   "execution_count": 159,
   "id": "bedb66f9-fae4-4381-affc-92b6a188db09",
   "metadata": {},
   "outputs": [
    {
     "data": {
      "text/html": [
       "<style>#sk-container-id-5 {color: black;}#sk-container-id-5 pre{padding: 0;}#sk-container-id-5 div.sk-toggleable {background-color: white;}#sk-container-id-5 label.sk-toggleable__label {cursor: pointer;display: block;width: 100%;margin-bottom: 0;padding: 0.3em;box-sizing: border-box;text-align: center;}#sk-container-id-5 label.sk-toggleable__label-arrow:before {content: \"▸\";float: left;margin-right: 0.25em;color: #696969;}#sk-container-id-5 label.sk-toggleable__label-arrow:hover:before {color: black;}#sk-container-id-5 div.sk-estimator:hover label.sk-toggleable__label-arrow:before {color: black;}#sk-container-id-5 div.sk-toggleable__content {max-height: 0;max-width: 0;overflow: hidden;text-align: left;background-color: #f0f8ff;}#sk-container-id-5 div.sk-toggleable__content pre {margin: 0.2em;color: black;border-radius: 0.25em;background-color: #f0f8ff;}#sk-container-id-5 input.sk-toggleable__control:checked~div.sk-toggleable__content {max-height: 200px;max-width: 100%;overflow: auto;}#sk-container-id-5 input.sk-toggleable__control:checked~label.sk-toggleable__label-arrow:before {content: \"▾\";}#sk-container-id-5 div.sk-estimator input.sk-toggleable__control:checked~label.sk-toggleable__label {background-color: #d4ebff;}#sk-container-id-5 div.sk-label input.sk-toggleable__control:checked~label.sk-toggleable__label {background-color: #d4ebff;}#sk-container-id-5 input.sk-hidden--visually {border: 0;clip: rect(1px 1px 1px 1px);clip: rect(1px, 1px, 1px, 1px);height: 1px;margin: -1px;overflow: hidden;padding: 0;position: absolute;width: 1px;}#sk-container-id-5 div.sk-estimator {font-family: monospace;background-color: #f0f8ff;border: 1px dotted black;border-radius: 0.25em;box-sizing: border-box;margin-bottom: 0.5em;}#sk-container-id-5 div.sk-estimator:hover {background-color: #d4ebff;}#sk-container-id-5 div.sk-parallel-item::after {content: \"\";width: 100%;border-bottom: 1px solid gray;flex-grow: 1;}#sk-container-id-5 div.sk-label:hover label.sk-toggleable__label {background-color: #d4ebff;}#sk-container-id-5 div.sk-serial::before {content: \"\";position: absolute;border-left: 1px solid gray;box-sizing: border-box;top: 0;bottom: 0;left: 50%;z-index: 0;}#sk-container-id-5 div.sk-serial {display: flex;flex-direction: column;align-items: center;background-color: white;padding-right: 0.2em;padding-left: 0.2em;position: relative;}#sk-container-id-5 div.sk-item {position: relative;z-index: 1;}#sk-container-id-5 div.sk-parallel {display: flex;align-items: stretch;justify-content: center;background-color: white;position: relative;}#sk-container-id-5 div.sk-item::before, #sk-container-id-5 div.sk-parallel-item::before {content: \"\";position: absolute;border-left: 1px solid gray;box-sizing: border-box;top: 0;bottom: 0;left: 50%;z-index: -1;}#sk-container-id-5 div.sk-parallel-item {display: flex;flex-direction: column;z-index: 1;position: relative;background-color: white;}#sk-container-id-5 div.sk-parallel-item:first-child::after {align-self: flex-end;width: 50%;}#sk-container-id-5 div.sk-parallel-item:last-child::after {align-self: flex-start;width: 50%;}#sk-container-id-5 div.sk-parallel-item:only-child::after {width: 0;}#sk-container-id-5 div.sk-dashed-wrapped {border: 1px dashed gray;margin: 0 0.4em 0.5em 0.4em;box-sizing: border-box;padding-bottom: 0.4em;background-color: white;}#sk-container-id-5 div.sk-label label {font-family: monospace;font-weight: bold;display: inline-block;line-height: 1.2em;}#sk-container-id-5 div.sk-label-container {text-align: center;}#sk-container-id-5 div.sk-container {/* jupyter's `normalize.less` sets `[hidden] { display: none; }` but bootstrap.min.css set `[hidden] { display: none !important; }` so we also need the `!important` here to be able to override the default hidden behavior on the sphinx rendered scikit-learn.org. See: https://github.com/scikit-learn/scikit-learn/issues/21755 */display: inline-block !important;position: relative;}#sk-container-id-5 div.sk-text-repr-fallback {display: none;}</style><div id=\"sk-container-id-5\" class=\"sk-top-container\"><div class=\"sk-text-repr-fallback\"><pre>GridSearchCV(cv=5,\n",
       "             estimator=Pipeline(steps=[(&#x27;tvec&#x27;, TfidfVectorizer()),\n",
       "                                       (&#x27;to_dense&#x27;,\n",
       "                                        FunctionTransformer(accept_sparse=True,\n",
       "                                                            func=&lt;function convert_to_dense at 0x145bc3520&gt;)),\n",
       "                                       (&#x27;gss&#x27;, GaussianNB())]),\n",
       "             param_grid={&#x27;tvec__max_df&#x27;: [0.6, 0.65, 0.7],\n",
       "                         &#x27;tvec__max_features&#x27;: [5000, 6000, 7000, 8000, 9000],\n",
       "                         &#x27;tvec__min_df&#x27;: [5e-05, 0.0001],\n",
       "                         &#x27;tvec__ngram_range&#x27;: [(1, 1), (1, 2), (1, 3)],\n",
       "                         &#x27;tvec__stop_words&#x27;: [None, &#x27;english&#x27;]})</pre><b>In a Jupyter environment, please rerun this cell to show the HTML representation or trust the notebook. <br />On GitHub, the HTML representation is unable to render, please try loading this page with nbviewer.org.</b></div><div class=\"sk-container\" hidden><div class=\"sk-item sk-dashed-wrapped\"><div class=\"sk-label-container\"><div class=\"sk-label sk-toggleable\"><input class=\"sk-toggleable__control sk-hidden--visually\" id=\"sk-estimator-id-17\" type=\"checkbox\" ><label for=\"sk-estimator-id-17\" class=\"sk-toggleable__label sk-toggleable__label-arrow\">GridSearchCV</label><div class=\"sk-toggleable__content\"><pre>GridSearchCV(cv=5,\n",
       "             estimator=Pipeline(steps=[(&#x27;tvec&#x27;, TfidfVectorizer()),\n",
       "                                       (&#x27;to_dense&#x27;,\n",
       "                                        FunctionTransformer(accept_sparse=True,\n",
       "                                                            func=&lt;function convert_to_dense at 0x145bc3520&gt;)),\n",
       "                                       (&#x27;gss&#x27;, GaussianNB())]),\n",
       "             param_grid={&#x27;tvec__max_df&#x27;: [0.6, 0.65, 0.7],\n",
       "                         &#x27;tvec__max_features&#x27;: [5000, 6000, 7000, 8000, 9000],\n",
       "                         &#x27;tvec__min_df&#x27;: [5e-05, 0.0001],\n",
       "                         &#x27;tvec__ngram_range&#x27;: [(1, 1), (1, 2), (1, 3)],\n",
       "                         &#x27;tvec__stop_words&#x27;: [None, &#x27;english&#x27;]})</pre></div></div></div><div class=\"sk-parallel\"><div class=\"sk-parallel-item\"><div class=\"sk-item\"><div class=\"sk-label-container\"><div class=\"sk-label sk-toggleable\"><input class=\"sk-toggleable__control sk-hidden--visually\" id=\"sk-estimator-id-18\" type=\"checkbox\" ><label for=\"sk-estimator-id-18\" class=\"sk-toggleable__label sk-toggleable__label-arrow\">estimator: Pipeline</label><div class=\"sk-toggleable__content\"><pre>Pipeline(steps=[(&#x27;tvec&#x27;, TfidfVectorizer()),\n",
       "                (&#x27;to_dense&#x27;,\n",
       "                 FunctionTransformer(accept_sparse=True,\n",
       "                                     func=&lt;function convert_to_dense at 0x145bc3520&gt;)),\n",
       "                (&#x27;gss&#x27;, GaussianNB())])</pre></div></div></div><div class=\"sk-serial\"><div class=\"sk-item\"><div class=\"sk-serial\"><div class=\"sk-item\"><div class=\"sk-estimator sk-toggleable\"><input class=\"sk-toggleable__control sk-hidden--visually\" id=\"sk-estimator-id-19\" type=\"checkbox\" ><label for=\"sk-estimator-id-19\" class=\"sk-toggleable__label sk-toggleable__label-arrow\">TfidfVectorizer</label><div class=\"sk-toggleable__content\"><pre>TfidfVectorizer()</pre></div></div></div><div class=\"sk-item\"><div class=\"sk-estimator sk-toggleable\"><input class=\"sk-toggleable__control sk-hidden--visually\" id=\"sk-estimator-id-20\" type=\"checkbox\" ><label for=\"sk-estimator-id-20\" class=\"sk-toggleable__label sk-toggleable__label-arrow\">FunctionTransformer</label><div class=\"sk-toggleable__content\"><pre>FunctionTransformer(accept_sparse=True,\n",
       "                    func=&lt;function convert_to_dense at 0x145bc3520&gt;)</pre></div></div></div><div class=\"sk-item\"><div class=\"sk-estimator sk-toggleable\"><input class=\"sk-toggleable__control sk-hidden--visually\" id=\"sk-estimator-id-21\" type=\"checkbox\" ><label for=\"sk-estimator-id-21\" class=\"sk-toggleable__label sk-toggleable__label-arrow\">GaussianNB</label><div class=\"sk-toggleable__content\"><pre>GaussianNB()</pre></div></div></div></div></div></div></div></div></div></div></div></div>"
      ],
      "text/plain": [
       "GridSearchCV(cv=5,\n",
       "             estimator=Pipeline(steps=[('tvec', TfidfVectorizer()),\n",
       "                                       ('to_dense',\n",
       "                                        FunctionTransformer(accept_sparse=True,\n",
       "                                                            func=<function convert_to_dense at 0x145bc3520>)),\n",
       "                                       ('gss', GaussianNB())]),\n",
       "             param_grid={'tvec__max_df': [0.6, 0.65, 0.7],\n",
       "                         'tvec__max_features': [5000, 6000, 7000, 8000, 9000],\n",
       "                         'tvec__min_df': [5e-05, 0.0001],\n",
       "                         'tvec__ngram_range': [(1, 1), (1, 2), (1, 3)],\n",
       "                         'tvec__stop_words': [None, 'english']})"
      ]
     },
     "execution_count": 159,
     "metadata": {},
     "output_type": "execute_result"
    }
   ],
   "source": [
    "gs7.fit(censored_posts_train, y_train)\n",
    "\n",
    "gs8.fit(censored_posts_train, y_train)"
   ]
  },
  {
   "cell_type": "code",
   "execution_count": 160,
   "id": "319d60dd-0049-418e-b12f-14a4a3154f59",
   "metadata": {},
   "outputs": [
    {
     "name": "stdout",
     "output_type": "stream",
     "text": [
      "Train score for Gaussian CountVec: 0.9546675621222297\n",
      "Test score for Gaussian CountVec: 0.8333333333333334\n"
     ]
    }
   ],
   "source": [
    "print(f\"Train score for Gaussian CountVec: {gs7.score(censored_posts_train, y_train)}\")\n",
    "print(f\"Test score for Gaussian CountVec: {gs7.score(censored_posts_test, y_test)}\")"
   ]
  },
  {
   "cell_type": "code",
   "execution_count": 161,
   "id": "f6501e1d-abe8-4c88-9a14-fbf880d8b28e",
   "metadata": {},
   "outputs": [
    {
     "name": "stdout",
     "output_type": "stream",
     "text": [
      "Train score for Gaussian TfidfVec: 0.9617192746809939\n",
      "Test score for Gaussian TfidfVec: 0.8363636363636363\n"
     ]
    }
   ],
   "source": [
    "print(f\"Train score for Gaussian TfidfVec: {gs8.score(censored_posts_train, y_train)}\")\n",
    "print(f\"Test score for Gaussian TfidfVec: {gs8.score(censored_posts_test, y_test)}\")"
   ]
  },
  {
   "cell_type": "code",
   "execution_count": 162,
   "id": "39d37cb8-f0e2-4727-aeeb-1fba9fe57904",
   "metadata": {},
   "outputs": [
    {
     "name": "stdout",
     "output_type": "stream",
     "text": [
      "{'cvec__max_df': 0.6, 'cvec__max_features': 5000, 'cvec__min_df': 5e-05, 'cvec__ngram_range': (1, 1), 'cvec__stop_words': None}\n",
      "{'tvec__max_df': 0.6, 'tvec__max_features': 5000, 'tvec__min_df': 5e-05, 'tvec__ngram_range': (1, 1), 'tvec__stop_words': None}\n"
     ]
    }
   ],
   "source": [
    "print(gs7.best_params_)\n",
    "print(gs8.best_params_)"
   ]
  },
  {
   "cell_type": "code",
   "execution_count": 163,
   "id": "d21aca07-192a-42a6-aae1-0ea643d45bf8",
   "metadata": {},
   "outputs": [],
   "source": [
    "gs_model7 = gs7.best_estimator_\n",
    "gs_model8 = gs8.best_estimator_"
   ]
  },
  {
   "cell_type": "code",
   "execution_count": 164,
   "id": "ee26a25e-0227-4ba0-a2be-40ca346af15e",
   "metadata": {},
   "outputs": [
    {
     "data": {
      "text/html": [
       "<style>#sk-container-id-6 {color: black;}#sk-container-id-6 pre{padding: 0;}#sk-container-id-6 div.sk-toggleable {background-color: white;}#sk-container-id-6 label.sk-toggleable__label {cursor: pointer;display: block;width: 100%;margin-bottom: 0;padding: 0.3em;box-sizing: border-box;text-align: center;}#sk-container-id-6 label.sk-toggleable__label-arrow:before {content: \"▸\";float: left;margin-right: 0.25em;color: #696969;}#sk-container-id-6 label.sk-toggleable__label-arrow:hover:before {color: black;}#sk-container-id-6 div.sk-estimator:hover label.sk-toggleable__label-arrow:before {color: black;}#sk-container-id-6 div.sk-toggleable__content {max-height: 0;max-width: 0;overflow: hidden;text-align: left;background-color: #f0f8ff;}#sk-container-id-6 div.sk-toggleable__content pre {margin: 0.2em;color: black;border-radius: 0.25em;background-color: #f0f8ff;}#sk-container-id-6 input.sk-toggleable__control:checked~div.sk-toggleable__content {max-height: 200px;max-width: 100%;overflow: auto;}#sk-container-id-6 input.sk-toggleable__control:checked~label.sk-toggleable__label-arrow:before {content: \"▾\";}#sk-container-id-6 div.sk-estimator input.sk-toggleable__control:checked~label.sk-toggleable__label {background-color: #d4ebff;}#sk-container-id-6 div.sk-label input.sk-toggleable__control:checked~label.sk-toggleable__label {background-color: #d4ebff;}#sk-container-id-6 input.sk-hidden--visually {border: 0;clip: rect(1px 1px 1px 1px);clip: rect(1px, 1px, 1px, 1px);height: 1px;margin: -1px;overflow: hidden;padding: 0;position: absolute;width: 1px;}#sk-container-id-6 div.sk-estimator {font-family: monospace;background-color: #f0f8ff;border: 1px dotted black;border-radius: 0.25em;box-sizing: border-box;margin-bottom: 0.5em;}#sk-container-id-6 div.sk-estimator:hover {background-color: #d4ebff;}#sk-container-id-6 div.sk-parallel-item::after {content: \"\";width: 100%;border-bottom: 1px solid gray;flex-grow: 1;}#sk-container-id-6 div.sk-label:hover label.sk-toggleable__label {background-color: #d4ebff;}#sk-container-id-6 div.sk-serial::before {content: \"\";position: absolute;border-left: 1px solid gray;box-sizing: border-box;top: 0;bottom: 0;left: 50%;z-index: 0;}#sk-container-id-6 div.sk-serial {display: flex;flex-direction: column;align-items: center;background-color: white;padding-right: 0.2em;padding-left: 0.2em;position: relative;}#sk-container-id-6 div.sk-item {position: relative;z-index: 1;}#sk-container-id-6 div.sk-parallel {display: flex;align-items: stretch;justify-content: center;background-color: white;position: relative;}#sk-container-id-6 div.sk-item::before, #sk-container-id-6 div.sk-parallel-item::before {content: \"\";position: absolute;border-left: 1px solid gray;box-sizing: border-box;top: 0;bottom: 0;left: 50%;z-index: -1;}#sk-container-id-6 div.sk-parallel-item {display: flex;flex-direction: column;z-index: 1;position: relative;background-color: white;}#sk-container-id-6 div.sk-parallel-item:first-child::after {align-self: flex-end;width: 50%;}#sk-container-id-6 div.sk-parallel-item:last-child::after {align-self: flex-start;width: 50%;}#sk-container-id-6 div.sk-parallel-item:only-child::after {width: 0;}#sk-container-id-6 div.sk-dashed-wrapped {border: 1px dashed gray;margin: 0 0.4em 0.5em 0.4em;box-sizing: border-box;padding-bottom: 0.4em;background-color: white;}#sk-container-id-6 div.sk-label label {font-family: monospace;font-weight: bold;display: inline-block;line-height: 1.2em;}#sk-container-id-6 div.sk-label-container {text-align: center;}#sk-container-id-6 div.sk-container {/* jupyter's `normalize.less` sets `[hidden] { display: none; }` but bootstrap.min.css set `[hidden] { display: none !important; }` so we also need the `!important` here to be able to override the default hidden behavior on the sphinx rendered scikit-learn.org. See: https://github.com/scikit-learn/scikit-learn/issues/21755 */display: inline-block !important;position: relative;}#sk-container-id-6 div.sk-text-repr-fallback {display: none;}</style><div id=\"sk-container-id-6\" class=\"sk-top-container\"><div class=\"sk-text-repr-fallback\"><pre>Pipeline(steps=[(&#x27;tvec&#x27;,\n",
       "                 TfidfVectorizer(max_df=0.6, max_features=5000, min_df=5e-05)),\n",
       "                (&#x27;to_dense&#x27;,\n",
       "                 FunctionTransformer(accept_sparse=True,\n",
       "                                     func=&lt;function convert_to_dense at 0x145bc3520&gt;)),\n",
       "                (&#x27;gss&#x27;, GaussianNB())])</pre><b>In a Jupyter environment, please rerun this cell to show the HTML representation or trust the notebook. <br />On GitHub, the HTML representation is unable to render, please try loading this page with nbviewer.org.</b></div><div class=\"sk-container\" hidden><div class=\"sk-item sk-dashed-wrapped\"><div class=\"sk-label-container\"><div class=\"sk-label sk-toggleable\"><input class=\"sk-toggleable__control sk-hidden--visually\" id=\"sk-estimator-id-22\" type=\"checkbox\" ><label for=\"sk-estimator-id-22\" class=\"sk-toggleable__label sk-toggleable__label-arrow\">Pipeline</label><div class=\"sk-toggleable__content\"><pre>Pipeline(steps=[(&#x27;tvec&#x27;,\n",
       "                 TfidfVectorizer(max_df=0.6, max_features=5000, min_df=5e-05)),\n",
       "                (&#x27;to_dense&#x27;,\n",
       "                 FunctionTransformer(accept_sparse=True,\n",
       "                                     func=&lt;function convert_to_dense at 0x145bc3520&gt;)),\n",
       "                (&#x27;gss&#x27;, GaussianNB())])</pre></div></div></div><div class=\"sk-serial\"><div class=\"sk-item\"><div class=\"sk-estimator sk-toggleable\"><input class=\"sk-toggleable__control sk-hidden--visually\" id=\"sk-estimator-id-23\" type=\"checkbox\" ><label for=\"sk-estimator-id-23\" class=\"sk-toggleable__label sk-toggleable__label-arrow\">TfidfVectorizer</label><div class=\"sk-toggleable__content\"><pre>TfidfVectorizer(max_df=0.6, max_features=5000, min_df=5e-05)</pre></div></div></div><div class=\"sk-item\"><div class=\"sk-estimator sk-toggleable\"><input class=\"sk-toggleable__control sk-hidden--visually\" id=\"sk-estimator-id-24\" type=\"checkbox\" ><label for=\"sk-estimator-id-24\" class=\"sk-toggleable__label sk-toggleable__label-arrow\">FunctionTransformer</label><div class=\"sk-toggleable__content\"><pre>FunctionTransformer(accept_sparse=True,\n",
       "                    func=&lt;function convert_to_dense at 0x145bc3520&gt;)</pre></div></div></div><div class=\"sk-item\"><div class=\"sk-estimator sk-toggleable\"><input class=\"sk-toggleable__control sk-hidden--visually\" id=\"sk-estimator-id-25\" type=\"checkbox\" ><label for=\"sk-estimator-id-25\" class=\"sk-toggleable__label sk-toggleable__label-arrow\">GaussianNB</label><div class=\"sk-toggleable__content\"><pre>GaussianNB()</pre></div></div></div></div></div></div></div>"
      ],
      "text/plain": [
       "Pipeline(steps=[('tvec',\n",
       "                 TfidfVectorizer(max_df=0.6, max_features=5000, min_df=5e-05)),\n",
       "                ('to_dense',\n",
       "                 FunctionTransformer(accept_sparse=True,\n",
       "                                     func=<function convert_to_dense at 0x145bc3520>)),\n",
       "                ('gss', GaussianNB())])"
      ]
     },
     "execution_count": 164,
     "metadata": {},
     "output_type": "execute_result"
    }
   ],
   "source": [
    "gs_model7.fit(censored_posts_train, y_train)\n",
    "gs_model8.fit(censored_posts_train, y_train)"
   ]
  },
  {
   "cell_type": "code",
   "execution_count": 165,
   "id": "97ff2dd5-18ac-4342-ae7e-85dfd418aba4",
   "metadata": {},
   "outputs": [
    {
     "name": "stdout",
     "output_type": "stream",
     "text": [
      "0.9546675621222297\n",
      "0.8333333333333334\n"
     ]
    }
   ],
   "source": [
    "print(gs_model7.score(censored_posts_train, y_train))\n",
    "print(gs_model7.score(censored_posts_test, y_test))"
   ]
  },
  {
   "cell_type": "code",
   "execution_count": 166,
   "id": "c7d08b8a-8e30-4e3f-88f2-1e0f64214500",
   "metadata": {},
   "outputs": [
    {
     "name": "stdout",
     "output_type": "stream",
     "text": [
      "0.9617192746809939\n",
      "0.8363636363636363\n"
     ]
    }
   ],
   "source": [
    "print(gs_model8.score(censored_posts_train, y_train))\n",
    "print(gs_model8.score(censored_posts_test, y_test))"
   ]
  },
  {
   "cell_type": "code",
   "execution_count": 178,
   "id": "007be148-a53f-4250-8759-eb1633c8aa36",
   "metadata": {},
   "outputs": [
    {
     "name": "stdout",
     "output_type": "stream",
     "text": [
      "Specificity | 0.7379310344827587\n",
      "Sensitivity | 0.9081081081081082\n",
      "Accuracy | 0.833\n",
      "Precision | 0.816\n",
      "Miscalculation Rate | 0.167\n"
     ]
    },
    {
     "data": {
      "image/png": "[encoded data removed]",
      "text/plain": [
       "<Figure size 640x480 with 2 Axes>"
      ]
     },
     "metadata": {},
     "output_type": "display_data"
    }
   ],
   "source": [
    "# Get predictions gs7\n",
    "preds7 = gs_model7.predict(censored_posts_test)\n",
    "# Save confusion matrix values\n",
    "tn7, fp7, fn7, tp7 = confusion_matrix(y_test, preds7).ravel()\n",
    "\n",
    "# Get predictions gs2\n",
    "preds8 = gs_model8.predict(censored_posts_test)\n",
    "# Save confusion matrix values\n",
    "tn8, fp8, fn8, tp8 = confusion_matrix(y_test, preds8).ravel()\n",
    "\n",
    "# View confusion matrix\n",
    "ConfusionMatrixDisplay.from_estimator(gs_model7, censored_posts_test, y_test, cmap='Blues');\n",
    "\n",
    "# Calculate the specificity\n",
    "print(f\"Specificity | {tn7/(tn7+fp7)}\")\n",
    "\n",
    "# Calculate sensitivity\n",
    "print(f\"Sensitivity | {tp7/(tp7+fn7)}\")\n",
    "# Calculate Accuracy\n",
    "print(f\"Accuracy | {round((tp7+tn7)/(tp7+fp7+tn7+fn7),3)}\")\n",
    "# Calculate Precision\n",
    "print(f\"Precision | {round(tp7/(tp7+fp7),3)}\")\n",
    "# Calculate Miscalculation Rate\n",
    "print(f\"Miscalculation Rate | {round((fp7+fn7)/(tp7+fp7+tn7+fn7),3)}\")"
   ]
  },
  {
   "cell_type": "code",
   "execution_count": 186,
   "id": "7aa528d5-cdee-4b05-b744-c2e53ff5e911",
   "metadata": {},
   "outputs": [
    {
     "name": "stdout",
     "output_type": "stream",
     "text": [
      "Values being correctly classified: 168 democrat posts, 107 republican posts.\n",
      "Values being incorrectly classified: 17 democrat posts being predicted as republican posts, 38 republican posts being predicted as democrat posts.\n"
     ]
    }
   ],
   "source": [
    "print(f\"Values being correctly classified: {tp7} democrat posts, {tn7} republican posts.\")\n",
    "print(f\"Values being incorrectly classified: {fn7} democrat posts being predicted as republican posts, {fp7} republican posts being predicted as democrat posts.\")"
   ]
  },
  {
   "cell_type": "code",
   "execution_count": 179,
   "id": "54c15b02-b4dc-4f5a-a7f3-7f6b7b65d835",
   "metadata": {},
   "outputs": [
    {
     "name": "stdout",
     "output_type": "stream",
     "text": [
      "Specificity | 0.7586206896551724\n",
      "Sensitivity | 0.8972972972972973\n",
      "Accuracy | 0.836\n",
      "Precision | 0.826\n",
      "Miscalculation Rate | 0.164\n"
     ]
    },
    {
     "data": {
      "image/png": "[encoded data removed]",
      "text/plain": [
       "<Figure size 640x480 with 2 Axes>"
      ]
     },
     "metadata": {},
     "output_type": "display_data"
    }
   ],
   "source": [
    "# View confusion matrix\n",
    "ConfusionMatrixDisplay.from_estimator(gs_model8, censored_posts_test, y_test, cmap='Blues');\n",
    "\n",
    "# Calculate the specificity\n",
    "print(f\"Specificity | {tn8/(tn8+fp8)}\")\n",
    "\n",
    "# Calculate sensitivity\n",
    "print(f\"Sensitivity | {tp8/(tp8+fn8)}\")\n",
    "# Calculate Accuracy\n",
    "print(f\"Accuracy | {round((tp8+tn8)/(tp8+fp8+tn8+fn8),3)}\")\n",
    "# Calculate Precision\n",
    "print(f\"Precision | {round(tp8/(tp8+fp8),3)}\")\n",
    "# Calculate Miscalculation Rate\n",
    "print(f\"Miscalculation Rate | {round((fp8+fn8)/(tp8+fp8+tn8+fn8),3)}\")"
   ]
  },
  {
   "cell_type": "code",
   "execution_count": 187,
   "id": "68e0f43b-9ac2-4ddc-82e2-b643bc8c1621",
   "metadata": {},
   "outputs": [
    {
     "name": "stdout",
     "output_type": "stream",
     "text": [
      "Values being correctly classified: 166 democrat posts, 110 republican posts.\n",
      "Values being incorrectly classified: 19 democrat posts being predicted as republican posts, 35 republican posts being predicted as democrat posts.\n"
     ]
    }
   ],
   "source": [
    "print(f\"Values being correctly classified: {tp8} democrat posts, {tn8} republican posts.\")\n",
    "print(f\"Values being incorrectly classified: {fn8} democrat posts being predicted as republican posts, {fp8} republican posts being predicted as democrat posts.\")"
   ]
  },
  {
   "cell_type": "markdown",
   "id": "dd789c1e-756c-4932-b427-cc44fdd43afc",
   "metadata": {},
   "source": [
    "### None of these Naive Bayes classifiers outperformed Logistic Regression nor did they outperform the Support Vector Machines classifier. Thus, our chosen models are LR and SVM with their accompanying vectorizers (count vectorizer and tfidfvectorizer respectively). "
   ]
  },
  {
   "cell_type": "markdown",
   "id": "a9f3412c",
   "metadata": {},
   "source": [
    "# Bonus Section: USE SMOTE"
   ]
  },
  {
   "cell_type": "code",
   "execution_count": 169,
   "id": "bc8b56ae",
   "metadata": {},
   "outputs": [
    {
     "name": "stdout",
     "output_type": "stream",
     "text": [
      "Test Accuracy: 91.21%\n",
      "Best parameters for SVC:  {'C': 1, 'degree': 2, 'kernel': 'poly'}\n"
     ]
    }
   ],
   "source": [
    "from imblearn.pipeline import Pipeline\n",
    "from sklearn.model_selection import GridSearchCV\n",
    "from sklearn.svm import SVC\n",
    "from imblearn.over_sampling import SMOTE\n",
    "from sklearn.model_selection import train_test_split\n",
    "from sklearn.metrics import accuracy_score\n",
    "\n",
    "# Define a parameter grid for SVC\n",
    "param_grid_svm = {\n",
    "    'C': [0.001, 0.01, 0.1, 1, 10, 100],\n",
    "    'kernel': ['linear', 'rbf', 'poly'],\n",
    "    'degree': [2, 3, 4],  # Only applicable for 'poly' kernel\n",
    "}\n",
    "\n",
    "# Create a pipeline with SMOTE, SVC, and GridSearchCV\n",
    "pipeline = Pipeline([\n",
    "    ('smote', SMOTE(random_state=42)),\n",
    "    ('svm', GridSearchCV(SVC(), param_grid_svm, cv=5))\n",
    "])\n",
    "\n",
    "# Fit the pipeline\n",
    "pipeline.fit(X_train_tvec, y_train)\n",
    "\n",
    "# Predict on the test set\n",
    "y_pred = pipeline.predict(X_test_tvec)\n",
    "\n",
    "# Calculate and print the accuracy score\n",
    "accuracy = accuracy_score(y_test, y_pred)\n",
    "print(\"Test Accuracy: {:.2f}%\".format(accuracy * 100))\n",
    "\n",
    "# Access the best parameters found by GridSearchCV for SVC\n",
    "print(\"Best parameters for SVC: \", pipeline.named_steps['svm'].best_params_)\n"
   ]
  },
  {
   "cell_type": "markdown",
   "id": "29affdbc",
   "metadata": {},
   "source": [
    "### Ended up performing worse than the other SVC"
   ]
  },
  {
   "cell_type": "markdown",
   "id": "9216c641",
   "metadata": {},
   "source": [
    "### Try with Logistic as well"
   ]
  },
  {
   "cell_type": "code",
   "execution_count": 170,
   "id": "56a8a3f5",
   "metadata": {},
   "outputs": [
    {
     "name": "stdout",
     "output_type": "stream",
     "text": [
      "Test Accuracy: 90.30%\n",
      "Best parameters for Logistic Regression:  {'C': 0.001, 'max_iter': 5000, 'penalty': 'l2', 'tol': 0.001}\n"
     ]
    }
   ],
   "source": [
    "# Define a parameter grid for Logistic Regression\n",
    "param_grid_logreg = {\n",
    "    'C': [0.001, 0.01, 0.1, 1],\n",
    "    'penalty': ['l2'],\n",
    "    'max_iter': [5000, 7500, 10000],\n",
    "    'tol': [1e-3, 1e-4, 1e-5]\n",
    "}\n",
    "\n",
    "# Create a pipeline with SMOTE, Logistic Regression, and GridSearchCV\n",
    "pipeline = Pipeline([\n",
    "    ('smote', SMOTE(random_state=42)),\n",
    "    ('logreg', GridSearchCV(LogisticRegression(max_iter=10000), param_grid_logreg, cv=5))\n",
    "])\n",
    "\n",
    "# Fit the pipeline\n",
    "pipeline.fit(X_train_ss, y_train)\n",
    "\n",
    "# Predict on the test set\n",
    "y_pred = pipeline.predict(X_test_ss)\n",
    "\n",
    "# Calculate and print the accuracy score\n",
    "accuracy = accuracy_score(y_test, y_pred)\n",
    "print(\"Test Accuracy: {:.2f}%\".format(accuracy * 100))\n",
    "\n",
    "# Access the best parameters found by GridSearchCV for Logistic Regression\n",
    "print(\"Best parameters for Logistic Regression: \", pipeline.named_steps['logreg'].best_params_)"
   ]
  },
  {
   "cell_type": "markdown",
   "id": "dc8d1a07",
   "metadata": {},
   "source": [
    "### Ended up performing better than the other Log Reg"
   ]
  },
  {
   "cell_type": "code",
   "execution_count": 171,
   "id": "e389796d",
   "metadata": {},
   "outputs": [
    {
     "name": "stdout",
     "output_type": "stream",
     "text": [
      "TN: 136\n",
      "FP: 9\n",
      "FN: 23\n",
      "TP: 162\n"
     ]
    },
    {
     "data": {
      "image/png": "[encoded data removed]",
      "text/plain": [
       "<Figure size 640x480 with 2 Axes>"
      ]
     },
     "metadata": {},
     "output_type": "display_data"
    }
   ],
   "source": [
    "# View confusion matrix\n",
    "ConfusionMatrixDisplay.from_estimator(pipeline, X_test_ss, y_test, cmap='Purples');\n",
    "plt.title('Confusion Matrix for the Logistic Regression With SMOTE Predictions',fontsize=16, loc='center');\n",
    "\n",
    "print(find_cm(y_test, y_pred))"
   ]
  },
  {
   "cell_type": "code",
   "execution_count": 188,
   "id": "4d7bec50-1bff-48b7-90a6-32d63c6586b1",
   "metadata": {},
   "outputs": [
    {
     "name": "stdout",
     "output_type": "stream",
     "text": [
      "Values being correctly classified: 162 democrat posts, 136 republican posts.\n",
      "Values being incorrectly classified: 23 democrat posts being predicted as republican posts, 9 republican posts being predicted as democrat posts.\n"
     ]
    }
   ],
   "source": [
    "print(f\"Values being correctly classified: 162 democrat posts, 136 republican posts.\")\n",
    "print(f\"Values being incorrectly classified: 23 democrat posts being predicted as republican posts, 9 republican posts being predicted as democrat posts.\")"
   ]
  },
  {
   "cell_type": "code",
   "execution_count": 172,
   "id": "425084a1",
   "metadata": {},
   "outputs": [],
   "source": [
    "tn_op_lr, fp_op_lr, fn_op_lr, tp_op_lr = confusion_matrix(y_test, y_pred).ravel()\n"
   ]
  },
  {
   "cell_type": "code",
   "execution_count": 173,
   "id": "c588515e",
   "metadata": {},
   "outputs": [
    {
     "name": "stdout",
     "output_type": "stream",
     "text": [
      "Sensitivity | 0.876\n",
      "Specificity | 0.938\n",
      "Accuracy | 0.903\n",
      "Precision | 0.947\n",
      "Miscalculation Rate | 0.097\n"
     ]
    }
   ],
   "source": [
    "# Calculate Sensitivity\n",
    "print(f\"Sensitivity | {round(tp_op_lr/(tp_op_lr+fn_op_lr),3)}\")\n",
    "# Calculate the Specificity\n",
    "print(f\"Specificity | {round(tn_op_lr/(tn_op_lr+fp_op_lr),3)}\")\n",
    "# Calculate Accuracy\n",
    "print(f\"Accuracy | {round((tp_op_lr+tn_op_lr)/(tp_op_lr+fp_op_lr+tn_op_lr+fn_op_lr),3)}\")\n",
    "# Calculate Precision\n",
    "print(f\"Precision | {round(tp_op_lr/(tp_op_lr+fp_op_lr),3)}\")\n",
    "# Calculate Miscalculation Rate\n",
    "print(f\"Miscalculation Rate | {round((fp_op_lr+fn_op_lr)/(tp_op_lr+fp_op_lr+tn_op_lr+fn_op_lr),3)}\")"
   ]
  },
  {
   "cell_type": "markdown",
   "id": "0a91527a",
   "metadata": {},
   "source": [
    "### In this BONUS Section, `SMOTE` was utilized to attempt further optimization. Therefore, although the model with `SMOTE` and $\\textit{logistic\\,regression}$ outperformed the original $\\textit{logistic\\,regression}$ model, it still did not outperform $\\textit{SVM}$. "
   ]
  },
  {
   "cell_type": "markdown",
   "id": "45fbb21b-bb11-48ec-b13a-767940cef7a7",
   "metadata": {},
   "source": [
    "# Final Metric Table For Comparison"
   ]
  },
  {
   "cell_type": "code",
   "execution_count": 212,
   "id": "57525f0a-0ebc-43e3-ac90-89a1693a1549",
   "metadata": {},
   "outputs": [
    {
     "data": {
      "text/plain": [
       "'\\nprint(f\"Sensitivity | {round(tp_svm/(tp_svm+fn_svm),3)}\")\\n# Calculate the Specificity\\nprint(f\"Specificity | {round(tn_svm/(tn_svm+fp_svm),3)}\")\\n# Calculate Accuracy\\nprint(f\"Accuracy | {round((tp_svm+tn_svm)/(tp_svm+fp_svm+tn_svm+fn_svm),3)}\")\\n# Calculate Precision\\nprint(f\"Precision | {round(tp_svm/(tp_svm+fp_svm),3)}\")\\n# Calculate Miscalculation Rate\\nprint(f\"Miscalculation Rate | {round((fp_svm+fn_svm)/(tp_svm+fp_svm+tn_svm+fn_svm),3)}\")\\n'"
      ]
     },
     "execution_count": 212,
     "metadata": {},
     "output_type": "execute_result"
    }
   ],
   "source": [
    "# Create a dictionary with your metrics\n",
    "metrics_data = {\n",
    "    'Metric': ['Specificity', 'Sensitivity', 'Accuracy', 'Precision', 'Miscalculation Rate'],\n",
    "    'Value SMOTE and LR': [round(tn_op_lr/(tn_op_lr+fp_op_lr),3), round(tp_op_lr/(tp_op_lr+fn_op_lr),3), round((tp_op_lr+tn_op_lr)/(tp_op_lr+fp_op_lr+tn_op_lr+fn_op_lr),3), round(tp_op_lr/(tp_op_lr+fp_op_lr),3), round((fp_op_lr+fn_op_lr)/(tp_op_lr+fp_op_lr+tn_op_lr+fn_op_lr),3)],\n",
    "    'Gaussian NB TVEC' : [round(tn8/(tn8+fp8),3), round(tp8/(tp8+fn8),3), round((tp8+tn8)/(tp8+fp8+tn8+fn8),3), round(tp8/(tp8+fp8),3), round((fp8+fn8)/(tp8+fp8+tn8+fn8),3)],\n",
    "    'Gaussian NB CVEC' : [round(tn7/(tn7+fp7),3), round(tp7/(tp7+fn7),3), round((tp7+tn7)/(tp7+fp7+tn7+fn7),3), round(tp7/(tp7+fp7),3), round((fp7+fn7)/(tp7+fp7+tn7+fn7),3)],\n",
    "    'Multinomial NB TVEC' : [round(tn6/(tn6+fp6),3), round(tp6/(tp6+fn6),3), round((tp6+tn6)/(tp6+fp6+tn6+fn6),3), round(tp6/(tp6+fp6),3), round((fp6+fn6)/(tp6+fp6+tn6+fn6),3)],\n",
    "    'Multinomial NB CVEC' : [round(tn5/(tn5+fp5),3), round(tp5/(tp5+fn5),3), round((tp5+tn5)/(tp5+fp5+tn5+fn5),3), round(tp5/(tp5+fp5),3), round((fp5+fn5)/(tp5+fp5+tn5+fn5),3)],\n",
    "    'Bernoulli NB TVEC' : [round(tn4/(tn4+fp4),3), round(tp4/(tp4+fn4),3), round((tp4+tn4)/(tp4+fp4+tn4+fn4),3), round(tp4/(tp4+fp4),3), round((fp4+fn4)/(tp4+fp4+tn4+fn4),3)],\n",
    "    'Bernoulli NB CVEC' : [round(tn3/(tn3+fp3),3), round(tp3/(tp3+fn3),3), round((tp3+tn3)/(tp3+fp3+tn3+fn3),3), round(tp3/(tp3+fp3),3), round((fp3+fn3)/(tp3+fp3+tn3+fn3),3)],\n",
    "    'SVM TVEC' : [round(tn2/(tn2+fp2),2), round(tp2/(tp2+fn2),2), round((tp2+tn2)/(tp2+fp2+tn2+fn2),2), round(tp2/(tp2+fp2),2), round((fp2+fn2)/(tp2+fp2+tn2+fn2),2)],\n",
    "    'LR CVEC' : [round(tn/(tn+fp),3), round(tp/(tp+fn),3), round((tp+tn)/(tp+fp+tn+fn),3), round(tp/(tp+fp),3), round((fp+fn)/(tp+fp+tn+fn),3)]\n",
    "}\n",
    "\n",
    "# Create a DataFrame from the dictionary\n",
    "metrics_df = pd.DataFrame(metrics_data)\n",
    "\n",
    "\"\"\"\n",
    "print(f\"Sensitivity | {round(tp_svm/(tp_svm+fn_svm),3)}\")\n",
    "# Calculate the Specificity\n",
    "print(f\"Specificity | {round(tn_svm/(tn_svm+fp_svm),3)}\")\n",
    "# Calculate Accuracy\n",
    "print(f\"Accuracy | {round((tp_svm+tn_svm)/(tp_svm+fp_svm+tn_svm+fn_svm),3)}\")\n",
    "# Calculate Precision\n",
    "print(f\"Precision | {round(tp_svm/(tp_svm+fp_svm),3)}\")\n",
    "# Calculate Miscalculation Rate\n",
    "print(f\"Miscalculation Rate | {round((fp_svm+fn_svm)/(tp_svm+fp_svm+tn_svm+fn_svm),3)}\")\n",
    "\"\"\"\n"
   ]
  },
  {
   "cell_type": "code",
   "execution_count": 217,
   "id": "42ceb3fc-34a7-47c1-a941-5d3610906914",
   "metadata": {},
   "outputs": [
    {
     "data": {
      "text/html": [
       "<div>\n",
       "<style scoped>\n",
       "    .dataframe tbody tr th:only-of-type {\n",
       "        vertical-align: middle;\n",
       "    }\n",
       "\n",
       "    .dataframe tbody tr th {\n",
       "        vertical-align: top;\n",
       "    }\n",
       "\n",
       "    .dataframe thead th {\n",
       "        text-align: right;\n",
       "    }\n",
       "</style>\n",
       "<table border=\"1\" class=\"dataframe\">\n",
       "  <thead>\n",
       "    <tr style=\"text-align: right;\">\n",
       "      <th></th>\n",
       "      <th>Metric</th>\n",
       "      <th>Value SMOTE and LR</th>\n",
       "      <th>Gaussian NB TVEC</th>\n",
       "      <th>Gaussian NB CVEC</th>\n",
       "      <th>Multinomial NB TVEC</th>\n",
       "      <th>Multinomial NB CVEC</th>\n",
       "      <th>Bernoulli NB TVEC</th>\n",
       "      <th>Bernoulli NB CVEC</th>\n",
       "      <th>SVM TVEC</th>\n",
       "      <th>LR CVEC</th>\n",
       "    </tr>\n",
       "  </thead>\n",
       "  <tbody>\n",
       "    <tr>\n",
       "      <th>0</th>\n",
       "      <td>Specificity</td>\n",
       "      <td>0.938</td>\n",
       "      <td>0.759</td>\n",
       "      <td>0.738</td>\n",
       "      <td>0.876</td>\n",
       "      <td>0.834</td>\n",
       "      <td>0.828</td>\n",
       "      <td>0.828</td>\n",
       "      <td>0.90</td>\n",
       "      <td>0.869</td>\n",
       "    </tr>\n",
       "    <tr>\n",
       "      <th>1</th>\n",
       "      <td>Sensitivity</td>\n",
       "      <td>0.876</td>\n",
       "      <td>0.897</td>\n",
       "      <td>0.908</td>\n",
       "      <td>0.838</td>\n",
       "      <td>0.854</td>\n",
       "      <td>0.876</td>\n",
       "      <td>0.876</td>\n",
       "      <td>0.92</td>\n",
       "      <td>0.919</td>\n",
       "    </tr>\n",
       "    <tr>\n",
       "      <th>2</th>\n",
       "      <td>Accuracy</td>\n",
       "      <td>0.903</td>\n",
       "      <td>0.836</td>\n",
       "      <td>0.833</td>\n",
       "      <td>0.855</td>\n",
       "      <td>0.845</td>\n",
       "      <td>0.855</td>\n",
       "      <td>0.855</td>\n",
       "      <td>0.91</td>\n",
       "      <td>0.897</td>\n",
       "    </tr>\n",
       "    <tr>\n",
       "      <th>3</th>\n",
       "      <td>Precision</td>\n",
       "      <td>0.947</td>\n",
       "      <td>0.826</td>\n",
       "      <td>0.816</td>\n",
       "      <td>0.896</td>\n",
       "      <td>0.868</td>\n",
       "      <td>0.866</td>\n",
       "      <td>0.866</td>\n",
       "      <td>0.92</td>\n",
       "      <td>0.899</td>\n",
       "    </tr>\n",
       "    <tr>\n",
       "      <th>4</th>\n",
       "      <td>Miscalculation Rate</td>\n",
       "      <td>0.097</td>\n",
       "      <td>0.164</td>\n",
       "      <td>0.167</td>\n",
       "      <td>0.145</td>\n",
       "      <td>0.155</td>\n",
       "      <td>0.145</td>\n",
       "      <td>0.145</td>\n",
       "      <td>0.09</td>\n",
       "      <td>0.103</td>\n",
       "    </tr>\n",
       "  </tbody>\n",
       "</table>\n",
       "</div>"
      ],
      "text/plain": [
       "                Metric  Value SMOTE and LR  Gaussian NB TVEC  \\\n",
       "0          Specificity               0.938             0.759   \n",
       "1          Sensitivity               0.876             0.897   \n",
       "2             Accuracy               0.903             0.836   \n",
       "3            Precision               0.947             0.826   \n",
       "4  Miscalculation Rate               0.097             0.164   \n",
       "\n",
       "   Gaussian NB CVEC  Multinomial NB TVEC  Multinomial NB CVEC  \\\n",
       "0             0.738                0.876                0.834   \n",
       "1             0.908                0.838                0.854   \n",
       "2             0.833                0.855                0.845   \n",
       "3             0.816                0.896                0.868   \n",
       "4             0.167                0.145                0.155   \n",
       "\n",
       "   Bernoulli NB TVEC  Bernoulli NB CVEC  SVM TVEC  LR CVEC  \n",
       "0              0.828              0.828      0.90    0.869  \n",
       "1              0.876              0.876      0.92    0.919  \n",
       "2              0.855              0.855      0.91    0.897  \n",
       "3              0.866              0.866      0.92    0.899  \n",
       "4              0.145              0.145      0.09    0.103  "
      ]
     },
     "execution_count": 217,
     "metadata": {},
     "output_type": "execute_result"
    }
   ],
   "source": [
    "metrics_df"
   ]
  },
  {
   "cell_type": "markdown",
   "id": "6ba93f54-461a-4792-bac5-4f0b8657dead",
   "metadata": {},
   "source": [
    "### We are justified choosing SVM TVEC and LR CVEC as our models, as they optimize for specificity and precision while also having high accuracy and low misclassification rates"
   ]
  }
 ],
 "metadata": {
  "kernelspec": {
   "display_name": "Python 3 (ipykernel)",
   "language": "python",
   "name": "python3"
  },
  "language_info": {
   "codemirror_mode": {
    "name": "ipython",
    "version": 3
   },
   "file_extension": ".py",
   "mimetype": "text/x-python",
   "name": "python",
   "nbconvert_exporter": "python",
   "pygments_lexer": "ipython3",
   "version": "3.10.13"
  }
 },
 "nbformat": 4,
 "nbformat_minor": 5
}

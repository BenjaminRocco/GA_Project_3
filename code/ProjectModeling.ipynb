{
 "cells": [
  {
   "cell_type": "code",
   "execution_count": 759,
   "id": "7c1c2f38-f36d-4dba-baa9-0545eea20965",
   "metadata": {},
   "outputs": [],
   "source": [
    "import pandas as pd\n",
    "import numpy as np\n",
    "import re\n",
    "from nltk.corpus import stopwords # Import the stop word list\n",
    "import matplotlib.pyplot as plt\n",
    "from sklearn.model_selection import train_test_split, GridSearchCV, cross_val_score\n",
    "from sklearn.linear_model import LogisticRegression\n",
    "from sklearn.metrics import confusion_matrix, ConfusionMatrixDisplay\n",
    "from sklearn.svm import SVC\n",
    "from sklearn.preprocessing import StandardScaler\n",
    "from imblearn.pipeline import make_pipeline\n",
    "from imblearn.over_sampling import RandomOverSampler\n",
    "\n",
    "# Import CountVectorizer and TFIDFVectorizer from feature_extraction.text.\n",
    "from sklearn.feature_extraction.text import CountVectorizer, TfidfVectorizer"
   ]
  },
  {
   "cell_type": "markdown",
   "id": "0aa30beb",
   "metadata": {},
   "source": [
    "# Data Inspection Section\n",
    "\n",
    "###  Purpose of this section: Ensure that data was loaded into the notebook properly. Examine dimensions of dataframe to verify new webscrapes were appended properly. "
   ]
  },
  {
   "cell_type": "code",
   "execution_count": 760,
   "id": "775fe606-a935-480b-8667-c5ad045cb67a",
   "metadata": {},
   "outputs": [],
   "source": [
    "df = pd.read_csv('/Users/ben/Desktop/DSI_GA_Materials/project_3/data/final_df_to48.csv')\n",
    "# This one only TO 48 include 1-47 (including 1-48 nerfed scores/metrics) now we try 1-49 This nerfed as well which is curious try 1-50\n",
    "df_optimal = pd.read_csv('/Users/ben/Desktop/DSI_GA_Materials/project_3/data/final_df_to48.csv') \n",
    "# Current dataframe load is best subset of all data as new additions are causing decreases in metrics, \n",
    "# Possible moderator lapse or even increase in number of imposters (trolls) could be cause. \n",
    "# These files were `final_df_to49` through `final_df_to51`\n",
    "# Current optimal file : final_df_to48 (1/26)\n",
    "# final_df_to52 also suboptimal"
   ]
  },
  {
   "cell_type": "markdown",
   "id": "57641b05",
   "metadata": {},
   "source": [
    "#### View the dimensions of the dataframe is ensure posts were scraped and carried over correctly. "
   ]
  },
  {
   "cell_type": "code",
   "execution_count": 761,
   "id": "d603f000-9af7-4836-bbf2-a5f278722e61",
   "metadata": {},
   "outputs": [
    {
     "data": {
      "text/plain": [
       "(3397, 3)"
      ]
     },
     "execution_count": 761,
     "metadata": {},
     "output_type": "execute_result"
    }
   ],
   "source": [
    "df.shape"
   ]
  },
  {
   "cell_type": "code",
   "execution_count": 762,
   "id": "b6691c06",
   "metadata": {},
   "outputs": [
    {
     "data": {
      "text/plain": [
       "(3397, 3)"
      ]
     },
     "execution_count": 762,
     "metadata": {},
     "output_type": "execute_result"
    }
   ],
   "source": [
    "df_optimal.shape"
   ]
  },
  {
   "cell_type": "code",
   "execution_count": 798,
   "id": "95b5795f",
   "metadata": {},
   "outputs": [
    {
     "data": {
      "text/plain": [
       "1797"
      ]
     },
     "execution_count": 798,
     "metadata": {},
     "output_type": "execute_result"
    }
   ],
   "source": [
    "# Number of Democrat Posts\n",
    "len(df[df['subreddit'] == 1])"
   ]
  },
  {
   "cell_type": "code",
   "execution_count": 800,
   "id": "9a4d22eb",
   "metadata": {},
   "outputs": [
    {
     "data": {
      "text/plain": [
       "1600"
      ]
     },
     "execution_count": 800,
     "metadata": {},
     "output_type": "execute_result"
    }
   ],
   "source": [
    "# Number of Republican Posts\n",
    "len(df[df['subreddit'] == 0])"
   ]
  },
  {
   "cell_type": "markdown",
   "id": "a4876b30",
   "metadata": {},
   "source": [
    "#### The disparity between party post totals is minimal, proceed to cleaning section. "
   ]
  },
  {
   "cell_type": "markdown",
   "id": "1e182ef6-58ce-43b9-95cb-3088adc9b6cd",
   "metadata": {},
   "source": [
    "# Preliminary Cleaning Section\n",
    "\n",
    "### Purpose of this section:\n",
    "1. Instantiate the `train-test-test` split\n",
    "1. Clean the data using regular expressions and a custom censoring function\n",
    "1. Create stopwords that will be used in the modeling section"
   ]
  },
  {
   "cell_type": "code",
   "execution_count": 763,
   "id": "a3d29aab-1bbf-4e2c-b7ba-bf21e2eb9d2d",
   "metadata": {},
   "outputs": [],
   "source": [
    "# Create train_test_split.\n",
    "# 90 train size\n",
    "# Generate confusion matrices for these models after fitting and scoring. \n",
    "\n",
    "X_train, X_test, y_train, y_test = train_test_split(df['title'],\n",
    "                                                    df['subreddit'],\n",
    "                                                    train_size = 0.90,\n",
    "                                                    random_state = 42)"
   ]
  },
  {
   "cell_type": "code",
   "execution_count": 764,
   "id": "0bb0df54-e060-4602-bd9a-3c2d754667cd",
   "metadata": {},
   "outputs": [
    {
     "name": "stdout",
     "output_type": "stream",
     "text": [
      "There are 3397 posts.\n",
      "Cleaning and parsing the training set subreddit posts...\n",
      "Post 500 of 3397.\n",
      "Post 1000 of 3397.\n",
      "Post 1500 of 3397.\n",
      "Post 2000 of 3397.\n",
      "Post 2500 of 3397.\n",
      "Post 3000 of 3397.\n",
      "Cleaning and parsing the testing set subreddit posts...\n"
     ]
    }
   ],
   "source": [
    "def posts_to_words(train_data):\n",
    "    # Function to convert a raw post to a string of words\n",
    "    # The input is a single string (a raw subreddit title), and \n",
    "    # the output is a single string (a preprocessed subreddit post)\n",
    "    \n",
    "    # 1. Remove non-letters.\n",
    "    letters_only = re.sub(\"[^a-zA-Z]\", \" \", train_data)\n",
    "    \n",
    "    # 2. Convert to lower case, split into individual words.\n",
    "    words = letters_only.lower().split()\n",
    "    \n",
    "    # 3. In Python, searching a set is much faster than searching\n",
    "    # a list, so convert the stop words to a set.\n",
    "    stops = set(stopwords.words('english'))\n",
    "    \n",
    "    # 4. Remove stop words.\n",
    "    meaningful_words = [w for w in words if w not in stops]\n",
    "    \n",
    "    # 5. Join the words back into one string separated by space, \n",
    "    # and return the result.\n",
    "    return(\" \".join(meaningful_words))\n",
    "\n",
    "total_posts = df.shape[0]\n",
    "print(f'There are {total_posts} posts.')\n",
    "\n",
    "# Initialize an empty list to hold the clean reviews.\n",
    "clean_train_posts = []\n",
    "clean_test_posts = []\n",
    "\n",
    "print(\"Cleaning and parsing the training set subreddit posts...\")\n",
    "\n",
    "j = 0\n",
    "for train_posts in X_train:\n",
    "    # Convert review to words, then append to clean_train_reviews.\n",
    "    clean_train_posts.append(posts_to_words(train_posts))\n",
    "    \n",
    "    # If the index is divisible by 1000, print a message\n",
    "    if (j + 1) % 500 == 0:\n",
    "        print(f'Post {j + 1} of {total_posts}.')\n",
    "    \n",
    "    j += 1\n",
    "\n",
    "# Do the same for testing set.\n",
    "\n",
    "print(\"Cleaning and parsing the testing set subreddit posts...\")\n"
   ]
  },
  {
   "cell_type": "code",
   "execution_count": 765,
   "id": "b0821cfe",
   "metadata": {},
   "outputs": [
    {
     "name": "stdout",
     "output_type": "stream",
     "text": [
      "*****-*****-***** sandwich, I love a good ***** sandwich; vanilla ice ***** dessert.\n"
     ]
    }
   ],
   "source": [
    "# Censor function with regular expressions to eliminate variations of foul language\n",
    "def censor(text, banned):\n",
    "    for word in banned:\n",
    "        text = re.sub(rf'\\b{re.escape(word)}(?:\\w*)\\b', '*' * len(word), text, flags=re.IGNORECASE)\n",
    "    return text\n",
    "# Sample output\n",
    "print(censor('Chick-chick-Chicken sandwich, I love a good chicken sandwich; vanilla ice cream dessert.', ['chick', 'cream']))"
   ]
  },
  {
   "cell_type": "markdown",
   "id": "5eb16197",
   "metadata": {},
   "source": [
    "#### `censor` function performs adequately and is utilized in the following block of code."
   ]
  },
  {
   "cell_type": "code",
   "execution_count": 766,
   "id": "b7294430",
   "metadata": {},
   "outputs": [],
   "source": [
    "\n",
    "for test_posts in X_test:\n",
    "    # Convert review to words, then append to clean_train_reviews.\n",
    "    clean_test_posts.append(posts_to_words(test_posts))\n",
    "    \n",
    "    # If the index is divisible by 1000, print a message\n",
    "    if (j + 1) % 1000 == 0:\n",
    "        print(f'Post {j + 1} of {total_posts}.')\n",
    "        \n",
    "    j += 1\n",
    "\n",
    "clean_train_posts\n",
    "\n",
    "np.mean(len(clean_train_posts))\n",
    "\n",
    "# Applying censor function to each element in clean_train_posts\n",
    "censored_posts_train = [censor(post, ['shit', 'fuck']) if post else '' for post in clean_train_posts]\n",
    "# Please forgive the authors foul language! \n",
    "\n",
    "# Print the censored posts - commented out to reduce notebook length\n",
    "# for censored_post in censored_posts_train:\n",
    "#     print(censored_post)\n",
    "\n",
    "# Applying censor function to each element in clean_train_posts\n",
    "censored_posts_test = [censor(post, ['shit', 'fuck']) if post else '' for post in clean_test_posts]\n",
    "\n",
    "# Print the censored posts - Commented out to reduce notebook length\n",
    "# for censored_post in censored_posts_test:\n",
    "#     print(censored_post)"
   ]
  },
  {
   "cell_type": "markdown",
   "id": "8dca8810",
   "metadata": {},
   "source": [
    "#### Note: Emojis are being turned into blank character (''); when `censor` function is applied these lines are completely wiped out. The loss is minimal and its effect negligible in total performance, as will be seen in the following sections. "
   ]
  },
  {
   "cell_type": "markdown",
   "id": "52fd0eec",
   "metadata": {},
   "source": [
    "# Stopwords Section\n",
    "\n",
    "#### Purpose: Gain a list of stopwords that will make a difference in the analysis. "
   ]
  },
  {
   "cell_type": "code",
   "execution_count": 767,
   "id": "3d9ae28a",
   "metadata": {},
   "outputs": [],
   "source": [
    "# Instantiate the transformer.\n",
    "tvec = TfidfVectorizer()"
   ]
  },
  {
   "cell_type": "code",
   "execution_count": 768,
   "id": "63e01d57",
   "metadata": {},
   "outputs": [
    {
     "data": {
      "image/png": "[encoded data removed]",
      "text/plain": [
       "<Figure size 640x480 with 1 Axes>"
      ]
     },
     "metadata": {},
     "output_type": "display_data"
    }
   ],
   "source": [
    "# convert training data to dataframe\n",
    "X_train_df = pd.DataFrame(tvec.fit_transform(clean_train_posts).todense(), \n",
    "                          columns=tvec.get_feature_names_out())\n",
    "\n",
    "# View top 50 occuring words\n",
    "X_train_df.sum().sort_values(ascending=False).head(10).plot(kind='barh');\n",
    "plt.title('Top 10 Words in Censored DataFrame');\n",
    "plt.xlabel('Frequency Count (Integers)');"
   ]
  },
  {
   "cell_type": "markdown",
   "id": "bbc6855e",
   "metadata": {},
   "source": [
    "#### A realistic interpretation of this bargraph would be that leaving these words in will provide important context within the subreddit posts, so creating a custom stopwords list and excluding them may not be beneficial. This was substantiated with gridsearch parameter analysis that has been removed from the final working version of this code. "
   ]
  },
  {
   "cell_type": "code",
   "execution_count": 769,
   "id": "98ace52b",
   "metadata": {},
   "outputs": [],
   "source": [
    "# Add your custom stopwords to the English stopwords list\n",
    "english_stopwords = stopwords.words('english')\n",
    "custom_stopwords  = [\n",
    "    'trump', 'biden', 'new', 'gop', 'democrats', 'texas', 'house', 'court', 'republicans',\n",
    "    'says', 'abortion', 'state', 'election', 'president', 'border', 'ballot', 'donald', 'hunter',\n",
    "    'florida', 'us', 'haley', 'republican', 'supreme', 'people', 'could', 'iowa', 'campaign',\n",
    "    'democracy', 'white', 'vote', 'santos', 'illegal', 'rep', 'case', 'colorado', 'joe', 'get',\n",
    "    'voters', 'congress', 'george', 'democratic', 'right', 'nikki', 'would', 'america', 'senate',\n",
    "    'poll', 'jan', 'bill', 'primary'\n",
    "]\n",
    "\n",
    "# Combine the two lists of stopwords using the + operator\n",
    "combined_stopwords = english_stopwords + custom_stopwords"
   ]
  },
  {
   "cell_type": "markdown",
   "id": "4c344905",
   "metadata": {},
   "source": [
    "#### Previously, redelved into the regex aspect of things and worked with the `censor` function. Stopwords were explored but yielded no meaningful results and have been left in the code for viewership reference."
   ]
  },
  {
   "cell_type": "markdown",
   "id": "f151f62f-ca99-4b0a-874d-497fa27793fa",
   "metadata": {},
   "source": [
    "# Modeling Section"
   ]
  },
  {
   "cell_type": "markdown",
   "id": "c3892fd7-086a-403e-9c82-7759d7c33a09",
   "metadata": {},
   "source": [
    "# Baseline accuracy\n",
    "Calculate baseline accuracy in order to tell if model is better than null model (predicting the plurality class)."
   ]
  },
  {
   "cell_type": "code",
   "execution_count": 770,
   "id": "51904273-26a0-4a0d-b1e4-dfcb9e33bda4",
   "metadata": {},
   "outputs": [
    {
     "data": {
      "text/plain": [
       "subreddit\n",
       "1    0.528996\n",
       "0    0.471004\n",
       "Name: proportion, dtype: float64"
      ]
     },
     "execution_count": 770,
     "metadata": {},
     "output_type": "execute_result"
    }
   ],
   "source": [
    "#null model dem 1 rep 0\n",
    "df['subreddit'].value_counts(normalize=True)"
   ]
  },
  {
   "cell_type": "code",
   "execution_count": 771,
   "id": "d0927364-360b-4df5-a46c-e4c9e3ee6118",
   "metadata": {},
   "outputs": [
    {
     "data": {
      "text/plain": [
       "subreddit\n",
       "1    0.524043\n",
       "0    0.475957\n",
       "Name: proportion, dtype: float64"
      ]
     },
     "execution_count": 771,
     "metadata": {},
     "output_type": "execute_result"
    }
   ],
   "source": [
    "# Baseline prediction dem 1 rep 0\n",
    "y_train.value_counts(normalize=True)"
   ]
  },
  {
   "cell_type": "code",
   "execution_count": 772,
   "id": "2cc5fc18-3417-46a7-a2da-74d1f3bf0a22",
   "metadata": {},
   "outputs": [
    {
     "name": "stdout",
     "output_type": "stream",
     "text": [
      "Difference metric | 0.00495\n"
     ]
    }
   ],
   "source": [
    "print(f\"Difference metric | {round(np.abs(np.mean(df['subreddit'])-np.mean(y_train)), 5)}\")"
   ]
  },
  {
   "cell_type": "markdown",
   "id": "afe2783d-c38a-4cd5-8238-0f9b09aca78c",
   "metadata": {},
   "source": [
    "Absolute difference: ($\\sim0.5\\%$). "
   ]
  },
  {
   "cell_type": "markdown",
   "id": "9938f8db-669a-42a5-9a7d-9bfdd4f79f4e",
   "metadata": {},
   "source": [
    "# Logistic Regression Section "
   ]
  },
  {
   "cell_type": "markdown",
   "id": "d1faa0e8-6329-4c38-a7b7-7336497fb948",
   "metadata": {},
   "source": [
    "### Proceeded with `GridSearchCV` and found some optimal choices for CVec then utilized these parameters in a well-defined function along with Logistic Regression fitting."
   ]
  },
  {
   "cell_type": "code",
   "execution_count": 773,
   "id": "ee2d3096",
   "metadata": {},
   "outputs": [],
   "source": [
    "# # Example pipeline \n",
    "\n",
    "# pipe3 = Pipeline([\n",
    "#     ('cvec', CountVectorizer()),\n",
    "#     ('lr',LogisticRegression())\n",
    "# ])\n",
    "\n",
    "# pipe4 = Pipeline([\n",
    "#     ('tvec', TfidfVectorizer()),\n",
    "#     ('lr',LogisticRegression())\n",
    "# ])\n",
    "\n",
    "# pipe_params3 = {'cvec__max_features': list(np.arange(5000, 10000, 1000)),\n",
    "#                'cvec__ngram_range': [(1,1), (1,2), (1,3)],\n",
    "#                 'cvec__min_df': [0.00005, 0.0001],\n",
    "#                 'cvec__max_df': [0.6,0.65,0.7],\n",
    "#                'cvec__stop_words': [None, 'english','combined_stopwords']\n",
    "#               }\n",
    "\n",
    "# pipe_params4 = {'tvec__max_features' : list(np.arange(5000, 10000, 1000)),\n",
    "#                'tvec__ngram_range' : [(1, 1), (1, 2), (1,3)],\n",
    "#                 'tvec__min_df': [0.00005, 0.0001],\n",
    "#                 'tvec__max_df': [0.6,0.65,0.7],\n",
    "#                 'tvec__stop_words': [None, 'english','combined_stopwords']\n",
    "#               }\n",
    "\n",
    "# # Instantiate GridSearchCV.\n",
    "\n",
    "# gs3 = GridSearchCV(pipe3, # what object are we optimizing?\n",
    "#                   param_grid=pipe_params3, # what parameters values are we searching?\n",
    "#                   cv=5) # 5-fold cross-validation.\n",
    "\n",
    "# gs4 = GridSearchCV(pipe4, # what object are we optimizing?\n",
    "#                   param_grid=pipe_params4, # what parameters values are we searching?\n",
    "#                   cv=5) # 5-fold cross-validation.\n",
    "\n",
    "# gs3.fit(censored_posts_train, y_train)\n",
    "\n",
    "# gs4.fit(censored_posts_train, y_train)"
   ]
  },
  {
   "cell_type": "markdown",
   "id": "c7dd113c",
   "metadata": {},
   "source": [
    "#### Performed a `GridSearch` (not shown) to find optimal features to create the best-performing CVEC, as this performed better than TVec in conjunction to the logistic regression during accuracy comparisons between test and train scores (not shown)."
   ]
  },
  {
   "cell_type": "code",
   "execution_count": 774,
   "id": "32cd97a8",
   "metadata": {},
   "outputs": [],
   "source": [
    "best_cvec = CountVectorizer(\n",
    "    max_df=0.6, \n",
    "    max_features=9000, \n",
    "    min_df=5e-05, # The optimal value is 5e05\n",
    "    ngram_range=(1, 2), \n",
    "    stop_words = None # The optimal parameter is None\n",
    ")"
   ]
  },
  {
   "cell_type": "markdown",
   "id": "fa14ef1a",
   "metadata": {},
   "source": [
    "During `GridSearch` it was revealed that optimal stopwords parameter was `None`, thus, the custom list of stopwords were not utilized. "
   ]
  },
  {
   "cell_type": "markdown",
   "id": "d6ada006",
   "metadata": {},
   "source": [
    "#### Transform the censored posts using the best performing CountVectorizer."
   ]
  },
  {
   "cell_type": "code",
   "execution_count": 775,
   "id": "fb3e0e44",
   "metadata": {},
   "outputs": [],
   "source": [
    "X_train_cvec = best_cvec.fit_transform(censored_posts_train)\n",
    "X_test_cvec =  best_cvec.transform(censored_posts_test)"
   ]
  },
  {
   "cell_type": "markdown",
   "id": "143a8cf8",
   "metadata": {},
   "source": [
    "### Scale data"
   ]
  },
  {
   "cell_type": "code",
   "execution_count": 776,
   "id": "fb5e3bee",
   "metadata": {},
   "outputs": [],
   "source": [
    "ss = StandardScaler(with_mean=False)\n",
    "\n",
    "X_train_ss = ss.fit_transform(X_train_cvec)\n",
    "X_test_ss = ss.transform(X_test_cvec)\n"
   ]
  },
  {
   "cell_type": "markdown",
   "id": "466ed812",
   "metadata": {},
   "source": [
    "## Optimize Logistic Regression by utilizing a GridSearch Algorithm"
   ]
  },
  {
   "cell_type": "markdown",
   "id": "ea762f6f",
   "metadata": {},
   "source": [
    "### Search for a better $C$ value, where $C$ is the inverse of regularization strength $\\alpha$; inverse of regularization strength. A Higher $C$ value means lower regularization. Smaller $C$ value means higher regularization. Increase regularization because increasing regularization is a better technique than reducing the number of features to overcome the overfitting problem."
   ]
  },
  {
   "cell_type": "code",
   "execution_count": 777,
   "id": "e789a3ff",
   "metadata": {},
   "outputs": [
    {
     "name": "stdout",
     "output_type": "stream",
     "text": [
      "Best parameters:  {'C': 0.1}\n"
     ]
    }
   ],
   "source": [
    "from sklearn.model_selection import GridSearchCV\n",
    "param_grid = {'C': [0.001, 0.01, 0.1, 1, 10, 100]}\n",
    "grid_search = GridSearchCV(LogisticRegression(max_iter=10000, penalty='l1', solver='liblinear'), param_grid, cv=5)\n",
    "grid_search.fit(X_train_ss, y_train)\n",
    "\n",
    "print(\"Best parameters: \", grid_search.best_params_)"
   ]
  },
  {
   "cell_type": "markdown",
   "id": "63476ba7",
   "metadata": {},
   "source": [
    "### Optimize with the Oversampler - Will not proceed as there were only infinitesimally small benefits and the nature of data collection cannot be captured with an oversampler. Utilize SMOTE in BONUS section at the end of this notebook. \n",
    "#### In other words, adding more data through increasing webscrapes may produce certain data that will skew the model due to the nature of the data itself, so-called \"imposters\" of either political camp, and so oversampling would lead to an inadequate representation of the data.  "
   ]
  },
  {
   "cell_type": "code",
   "execution_count": 778,
   "id": "249ecb26",
   "metadata": {},
   "outputs": [],
   "source": [
    "# Parameter grid for Logistic Regression\n",
    "# param_grid = {'C': [0.001, 0.01, 0.1, 1, 10, 100]}\n",
    "\n",
    "# # Create a pipeline with RandomOverSampler and GridSearchCV\n",
    "# pipe = make_pipeline(\n",
    "#     RandomOverSampler(sampling_strategy=\"all\", random_state=42),\n",
    "#     GridSearchCV(\n",
    "#         LogisticRegression(max_iter=10000, penalty='l1', solver='liblinear'),\n",
    "#         param_grid,\n",
    "#         cv=5\n",
    "#     )\n",
    "# )\n",
    "\n",
    "# # Fit the pipeline\n",
    "# pipe.fit(X_train_ss, y_train)\n",
    "\n",
    "# # Access the best parameters found by GridSearchCV\n",
    "# print(\"Best parameters: \", pipe.named_steps['gridsearchcv'].best_params_)"
   ]
  },
  {
   "cell_type": "markdown",
   "id": "f4c46da7",
   "metadata": {},
   "source": [
    "### Print out Train and Test Scores"
   ]
  },
  {
   "cell_type": "code",
   "execution_count": 779,
   "id": "16212f76",
   "metadata": {},
   "outputs": [
    {
     "name": "stdout",
     "output_type": "stream",
     "text": [
      "Train Accuracy Score | 0.986\n",
      "Test Accuracy Score | 0.909\n"
     ]
    }
   ],
   "source": [
    "print(f\"Train Accuracy Score | {round(grid_search.score(X_train_ss, y_train),3)}\")\n",
    "print(f\"Test Accuracy Score | {round(grid_search.score(X_test_ss, y_test),3)}\")"
   ]
  },
  {
   "cell_type": "code",
   "execution_count": 780,
   "id": "091b84ea-05c4-47a8-906e-e8c3a70f279b",
   "metadata": {},
   "outputs": [
    {
     "name": "stdout",
     "output_type": "stream",
     "text": [
      "TN: 125\n",
      "FP: 20\n",
      "FN: 11\n",
      "TP: 184\n"
     ]
    },
    {
     "data": {
      "image/png": "[encoded data removed]",
      "text/plain": [
       "<Figure size 640x480 with 2 Axes>"
      ]
     },
     "metadata": {},
     "output_type": "display_data"
    }
   ],
   "source": [
    "# Get predictions from optimal LR model\n",
    "preds = grid_search.predict(X_test_ss)\n",
    "# Save confusion matrix values\n",
    "tn, fp, fn, tp = confusion_matrix(y_test, preds).ravel()\n",
    "\n",
    "# Generate values of confusion matrix for reference\n",
    "def find_cm(y_test, preds):\n",
    "    tn, fp, fn, tp = confusion_matrix(y_test, preds).ravel()\n",
    "    \n",
    "    return f\"TN: {tn}\\nFP: {fp}\\nFN: {fn}\\nTP: {tp}\" \n",
    "    \n",
    "# View confusion matrix\n",
    "ConfusionMatrixDisplay.from_estimator(grid_search, X_test_ss, y_test, cmap='Blues');\n",
    "plt.title('Confusion Matrix for the Logistic Regression Predictions',fontsize=16, loc='center');\n",
    "\n",
    "print(find_cm(y_test, preds))"
   ]
  },
  {
   "cell_type": "markdown",
   "id": "aaba9621",
   "metadata": {},
   "source": [
    "### These figures will inform how the classification metrics results will materialize"
   ]
  },
  {
   "cell_type": "code",
   "execution_count": 781,
   "id": "d62d3e5c",
   "metadata": {},
   "outputs": [
    {
     "name": "stdout",
     "output_type": "stream",
     "text": [
      "Sensitivity | 0.944\n",
      "Specificity | 0.862\n",
      "Accuracy | 0.909\n",
      "Precision | 0.902\n",
      "Miscalculation Rate | 0.091\n"
     ]
    }
   ],
   "source": [
    "# Calculate Sensitivity\n",
    "print(f\"Sensitivity | {round(tp/(tp+fn),3)}\")\n",
    "# Calculate the Specificity\n",
    "print(f\"Specificity | {round(tn/(tn+fp),3)}\")\n",
    "# Calculate Accuracy\n",
    "print(f\"Accuracy | {round((tp+tn)/(tp+fp+tn+fn),3)}\")\n",
    "# Calculate Precision\n",
    "print(f\"Precision | {round(tp/(tp+fp),3)}\")\n",
    "# Calculate Miscalculation Rate\n",
    "print(f\"Miscalculation Rate | {round((fp+fn)/(tp+fp+tn+fn),3)}\")"
   ]
  },
  {
   "cell_type": "markdown",
   "id": "0a25ef99",
   "metadata": {},
   "source": [
    "### Since the goal of the model is to prioritize sensitivity, this result is desired. \n",
    "\n",
    "In other words, the positive class is whether the post belonged to the `democrats` subreddit class, denoted by a $1$, therefore, the goal is the achieve a result that yields a high probability of correctly predicting an \"actual\" positive example. \n",
    "\n",
    "Precision is also also high, that is, the probability that the model is correct when it predicts an example to be in the positive class. In this value, a desired result is accomplished."
   ]
  },
  {
   "cell_type": "markdown",
   "id": "928e85dd-c4d1-45cb-a337-0eeaeff0e724",
   "metadata": {},
   "source": [
    "# Support Vector Machine (SVM) Section\n",
    "\n",
    "### Disclaimer: This model performed well, and outperformed $\\textit{Naive Bayes}$ statistical models and $\\textit{logistic regression}$, with train in upper 90s and test in low 90s. The other models, aside from $\\textit{logistic regression}$, have been excluded for brevity.  "
   ]
  },
  {
   "cell_type": "markdown",
   "id": "83460579",
   "metadata": {},
   "source": [
    "#### Performed a `GridSearch` (not shown) to find optimal features to create the best-performing TVEC, as this performed better than CVec in conjunction to the SVM during accuracy comparisons between test and train scores (not shown)."
   ]
  },
  {
   "cell_type": "markdown",
   "id": "e04e60a0",
   "metadata": {},
   "source": []
  },
  {
   "cell_type": "code",
   "execution_count": 782,
   "id": "247eb308",
   "metadata": {},
   "outputs": [],
   "source": [
    "# # Example pipeline \n",
    "\n",
    "# pipe3 = Pipeline([\n",
    "#     ('cvec', CountVectorizer()),\n",
    "#     ('svm',SVC())\n",
    "# ])\n",
    "\n",
    "# pipe4 = Pipeline([\n",
    "#     ('tvec', TfidfVectorizer()),\n",
    "#     ('svm',SVC())\n",
    "# ])\n",
    "\n",
    "# pipe_params3 = {'cvec__max_features': list(np.arange(5000, 10000, 1000)),\n",
    "#                'cvec__ngram_range': [(1,1), (1,2), (1,3)],\n",
    "#                 'cvec__min_df': [0.00005, 0.0001],\n",
    "#                 'cvec__max_df': [0.6,0.65,0.7],\n",
    "#                'cvec__stop_words': [None, 'english','combined_stopwords']\n",
    "#               }\n",
    "\n",
    "# pipe_params4 = {'tvec__max_features' : list(np.arange(5000, 10000, 1000)),\n",
    "#                'tvec__ngram_range' : [(1, 1), (1, 2), (1,3)],\n",
    "#                 'tvec__min_df': [0.00005, 0.0001],\n",
    "#                 'tvec__max_df': [0.6,0.65,0.7],\n",
    "#                 'tvec__stop_words': [None, 'english','combined_stopwords']\n",
    "#               }\n",
    "\n",
    "# # Instantiate GridSearchCV.\n",
    "\n",
    "# gs3 = GridSearchCV(pipe3, # what object are we optimizing?\n",
    "#                   param_grid=pipe_params3, # what parameters values are we searching?\n",
    "#                   cv=5) # 5-fold cross-validation.\n",
    "\n",
    "# gs4 = GridSearchCV(pipe4, # what object are we optimizing?\n",
    "#                   param_grid=pipe_params4, # what parameters values are we searching?\n",
    "#                   cv=5) # 5-fold cross-validation.\n",
    "\n",
    "# gs3.fit(censored_posts_train, y_train)\n",
    "\n",
    "# gs4.fit(censored_posts_train, y_train)"
   ]
  },
  {
   "cell_type": "code",
   "execution_count": 783,
   "id": "41e88fce",
   "metadata": {},
   "outputs": [],
   "source": [
    "best_tvec = TfidfVectorizer(\n",
    "    max_df=0.6, \n",
    "    max_features=8000, \n",
    "    min_df=5e-05,\n",
    "    ngram_range=(1, 2), \n",
    "    stop_words = 'english'\n",
    ")"
   ]
  },
  {
   "cell_type": "markdown",
   "id": "33baff11",
   "metadata": {},
   "source": [
    "#### Transform the censored posts using the best performing TFIDFVectorizer."
   ]
  },
  {
   "cell_type": "code",
   "execution_count": 784,
   "id": "6665ba17",
   "metadata": {},
   "outputs": [],
   "source": [
    "X_train_tvec = best_tvec.fit_transform(censored_posts_train)\n",
    "X_test_tvec =  best_tvec.transform(censored_posts_test)"
   ]
  },
  {
   "cell_type": "code",
   "execution_count": 785,
   "id": "54b61e08",
   "metadata": {},
   "outputs": [],
   "source": [
    "# Do not Use for this Model (Scores and Metrics Decreased)\n",
    "# ss = StandardScaler(with_mean=False)\n",
    "\n",
    "# X_train_ss = ss.fit_transform(X_train_tvec)\n",
    "# X_test_ss = ss.transform(X_test_tvec)"
   ]
  },
  {
   "cell_type": "code",
   "execution_count": 786,
   "id": "932a6ee4",
   "metadata": {},
   "outputs": [
    {
     "name": "stdout",
     "output_type": "stream",
     "text": [
      "Best parameters:  {'C': 0.1}\n"
     ]
    }
   ],
   "source": [
    "# Define a parameter grid\n",
    "param_grid = {\n",
    "    'C': [0.001, 0.01, 0.1, 1, 10, 100],\n",
    "    'kernel': ['linear', 'rbf', 'poly'],\n",
    "    'degree': [2, 3, 4],  # Only applicable for 'poly' kernel\n",
    "}\n",
    "\n",
    "# Create the grid search\n",
    "grid_search_svm = GridSearchCV(SVC(), param_grid, cv=5)\n",
    "grid_search_svm.fit(X_train_tvec, y_train)\n",
    "\n",
    "# Print the best parameters\n",
    "print(\"Best parameters: \", grid_search.best_params_)"
   ]
  },
  {
   "cell_type": "markdown",
   "id": "e86fc376",
   "metadata": {},
   "source": [
    "### Optimize with RandomOverSampler \n",
    "#### It performed poorly compared with regular gridsearch so keep grid_search_svm"
   ]
  },
  {
   "cell_type": "code",
   "execution_count": 787,
   "id": "3bcb6019",
   "metadata": {},
   "outputs": [],
   "source": [
    "# # Define a parameter grid for SVC\n",
    "# param_grid_svm = {\n",
    "#     'C': [0.001, 0.01, 0.1, 1, 10, 100],\n",
    "#     'kernel': ['linear', 'rbf', 'poly'],\n",
    "#     'degree': [2, 3, 4],  # Only applicable for 'poly' kernel\n",
    "# }\n",
    "\n",
    "# # Create the pipeline with RandomOverSampler and GridSearchCV for SVC\n",
    "# pipe_svm = make_pipeline(\n",
    "#     RandomOverSampler(sampling_strategy=\"all\", random_state=42),\n",
    "#     GridSearchCV(SVC(), param_grid_svm, cv=5)\n",
    "# )\n",
    "\n",
    "# # Fit the pipeline\n",
    "# pipe_svm.fit(X_train_tvec, y_train)\n",
    "\n",
    "# # Access the best parameters found by GridSearchCV for SVC\n",
    "# print(\"Best parameters for SVC: \", pipe_svm.named_steps['gridsearchcv'].best_params_)"
   ]
  },
  {
   "cell_type": "code",
   "execution_count": 788,
   "id": "28b97724",
   "metadata": {},
   "outputs": [],
   "source": [
    "# print(f\"Train score for SVM Tvec: {pipe_svm.score(X_train_tvec,y_train)}\")\n",
    "# print(f\"Test score for SVM Tvec: {pipe_svm.score(X_test_tvec,y_test)}\")"
   ]
  },
  {
   "cell_type": "code",
   "execution_count": 789,
   "id": "f71f6f88",
   "metadata": {},
   "outputs": [
    {
     "name": "stdout",
     "output_type": "stream",
     "text": [
      "Train Accuracy Score | 0.995\n",
      "Test Accuracy Score | 0.921\n"
     ]
    }
   ],
   "source": [
    "print(f\"Train Accuracy Score | {round(grid_search_svm.score(X_train_tvec, y_train),3)}\")\n",
    "print(f\"Test Accuracy Score | {round(grid_search_svm.score(X_test_tvec, y_test),3)}\")"
   ]
  },
  {
   "cell_type": "markdown",
   "id": "cf858f06",
   "metadata": {},
   "source": [
    "### These figures will inform how the classification metrics results will materialize"
   ]
  },
  {
   "cell_type": "code",
   "execution_count": 790,
   "id": "9093d6df-8c11-40b8-91e0-7685593a034f",
   "metadata": {},
   "outputs": [
    {
     "name": "stdout",
     "output_type": "stream",
     "text": [
      "TN: 132\n",
      "FP: 13\n",
      "FN: 14\n",
      "TP: 181\n"
     ]
    },
    {
     "data": {
      "image/png": "[encoded data removed]",
      "text/plain": [
       "<Figure size 640x480 with 2 Axes>"
      ]
     },
     "metadata": {},
     "output_type": "display_data"
    }
   ],
   "source": [
    "# Get predictions svm\n",
    "preds_svm = grid_search_svm.predict(X_test_tvec)\n",
    "\n",
    "# Save confusion matrix values\n",
    "tn_svm, fp_svm, fn_svm, tp_svm = confusion_matrix(y_test, preds10).ravel()\n",
    "\n",
    "# View confusion matrix\n",
    "ConfusionMatrixDisplay.from_estimator(grid_search_svm, X_test_tvec, y_test, cmap='Reds');\n",
    "plt.title('Confusion Matrix for the Support Vector Machines Predictions', fontsize=16, loc='center');\n",
    "\n",
    "# Generate values of confusion matrix for reference\n",
    "print(find_cm(y_test, preds_svm))"
   ]
  },
  {
   "cell_type": "code",
   "execution_count": 791,
   "id": "32092fbb",
   "metadata": {},
   "outputs": [
    {
     "name": "stdout",
     "output_type": "stream",
     "text": [
      "Sensitivity | 0.928\n",
      "Specificity | 0.91\n",
      "Accuracy | 0.921\n",
      "Precision | 0.933\n",
      "Miscalculation Rate | 0.079\n"
     ]
    }
   ],
   "source": [
    "# Calculate Sensitivity\n",
    "print(f\"Sensitivity | {round(tp_svm/(tp_svm+fn_svm),3)}\")\n",
    "# Calculate the Specificity\n",
    "print(f\"Specificity | {round(tn_svm/(tn_svm+fp_svm),3)}\")\n",
    "# Calculate Accuracy\n",
    "print(f\"Accuracy | {round((tp_svm+tn_svm)/(tp_svm+fp_svm+tn_svm+fn_svm),3)}\")\n",
    "# Calculate Precision\n",
    "print(f\"Precision | {round(tp_svm/(tp_svm+fp_svm),3)}\")\n",
    "# Calculate Miscalculation Rate\n",
    "print(f\"Miscalculation Rate | {round((fp_svm+fn_svm)/(tp_svm+fp_svm+tn_svm+fn_svm),3)}\")"
   ]
  },
  {
   "cell_type": "markdown",
   "id": "05f61f35",
   "metadata": {},
   "source": [
    "### Since the goal of the model is to prioritize sensitivity, this result is desired. \n",
    "\n",
    "In other words, the positive class is whether the post belonged to the `democrats` subreddit class, denoted by a $1$, therefore, the goal is to achieve a result that yields a high probability of correctly predicting an \"actual\" positive example. \n",
    "\n",
    "Precision is also high, that is, the probability that the model is correct when it predicts an example to be in the positive class. For this value, a desired outcome is accomplished.\n",
    "\n",
    "Accuracy, the percentage of observations correctly predicted within the test class, has peaked at $90\\%$, so another highly appealing result has been achieved. \n",
    "\n",
    "Here, $\\textit{SVM}$ has outperformed $\\textit{logistic regression}$ in nearly all of the aforementioned classification metrics; thus $\\textit{SVM}$ is the optimal model at differentiating between the two subreddit classes. "
   ]
  },
  {
   "cell_type": "markdown",
   "id": "a9f3412c",
   "metadata": {},
   "source": [
    "# Bonus Section: USE SMOTE"
   ]
  },
  {
   "cell_type": "code",
   "execution_count": 792,
   "id": "bc8b56ae",
   "metadata": {},
   "outputs": [
    {
     "name": "stdout",
     "output_type": "stream",
     "text": [
      "Test Accuracy: 90.59%\n",
      "Best parameters for SVC:  {'C': 1, 'degree': 2, 'kernel': 'poly'}\n"
     ]
    }
   ],
   "source": [
    "from imblearn.pipeline import Pipeline\n",
    "from sklearn.model_selection import GridSearchCV\n",
    "from sklearn.svm import SVC\n",
    "from imblearn.over_sampling import SMOTE\n",
    "from sklearn.model_selection import train_test_split\n",
    "from sklearn.metrics import accuracy_score\n",
    "\n",
    "# Define a parameter grid for SVC\n",
    "param_grid_svm = {\n",
    "    'C': [0.001, 0.01, 0.1, 1, 10, 100],\n",
    "    'kernel': ['linear', 'rbf', 'poly'],\n",
    "    'degree': [2, 3, 4],  # Only applicable for 'poly' kernel\n",
    "}\n",
    "\n",
    "# Create a pipeline with SMOTE, SVC, and GridSearchCV\n",
    "pipeline = Pipeline([\n",
    "    ('smote', SMOTE(random_state=42)),\n",
    "    ('svm', GridSearchCV(SVC(), param_grid_svm, cv=5))\n",
    "])\n",
    "\n",
    "# Fit the pipeline\n",
    "pipeline.fit(X_train_tvec, y_train)\n",
    "\n",
    "# Predict on the test set\n",
    "y_pred = pipeline.predict(X_test_tvec)\n",
    "\n",
    "# Calculate and print the accuracy score\n",
    "accuracy = accuracy_score(y_test, y_pred)\n",
    "print(\"Test Accuracy: {:.2f}%\".format(accuracy * 100))\n",
    "\n",
    "# Access the best parameters found by GridSearchCV for SVC\n",
    "print(\"Best parameters for SVC: \", pipeline.named_steps['svm'].best_params_)\n"
   ]
  },
  {
   "cell_type": "markdown",
   "id": "29affdbc",
   "metadata": {},
   "source": [
    "### Ended up performing worse than the other SVC"
   ]
  },
  {
   "cell_type": "markdown",
   "id": "9216c641",
   "metadata": {},
   "source": [
    "### Try with Logistic as well"
   ]
  },
  {
   "cell_type": "code",
   "execution_count": 793,
   "id": "56a8a3f5",
   "metadata": {},
   "outputs": [
    {
     "name": "stdout",
     "output_type": "stream",
     "text": [
      "Test Accuracy: 91.18%\n",
      "Best parameters for Logistic Regression:  {'C': 0.001, 'max_iter': 5000, 'penalty': 'l2', 'tol': 0.001}\n"
     ]
    }
   ],
   "source": [
    "# Define a parameter grid for Logistic Regression\n",
    "param_grid_logreg = {\n",
    "    'C': [0.001, 0.01, 0.1, 1],\n",
    "    'penalty': ['l2'],\n",
    "    'max_iter': [5000, 7500, 10000],\n",
    "    'tol': [1e-3, 1e-4, 1e-5]\n",
    "}\n",
    "\n",
    "# Create a pipeline with SMOTE, Logistic Regression, and GridSearchCV\n",
    "pipeline = Pipeline([\n",
    "    ('smote', SMOTE(random_state=42)),\n",
    "    ('logreg', GridSearchCV(LogisticRegression(max_iter=10000), param_grid_logreg, cv=5))\n",
    "])\n",
    "\n",
    "# Fit the pipeline\n",
    "pipeline.fit(X_train_ss, y_train)\n",
    "\n",
    "# Predict on the test set\n",
    "y_pred = pipeline.predict(X_test_ss)\n",
    "\n",
    "# Calculate and print the accuracy score\n",
    "accuracy = accuracy_score(y_test, y_pred)\n",
    "print(\"Test Accuracy: {:.2f}%\".format(accuracy * 100))\n",
    "\n",
    "# Access the best parameters found by GridSearchCV for Logistic Regression\n",
    "print(\"Best parameters for Logistic Regression: \", pipeline.named_steps['logreg'].best_params_)"
   ]
  },
  {
   "cell_type": "markdown",
   "id": "dc8d1a07",
   "metadata": {},
   "source": [
    "### Ended up performing better than the other Log Reg"
   ]
  },
  {
   "cell_type": "code",
   "execution_count": 794,
   "id": "e389796d",
   "metadata": {},
   "outputs": [
    {
     "name": "stdout",
     "output_type": "stream",
     "text": [
      "TN: 132\n",
      "FP: 13\n",
      "FN: 17\n",
      "TP: 178\n"
     ]
    },
    {
     "data": {
      "image/png": "[encoded data removed]",
      "text/plain": [
       "<Figure size 640x480 with 2 Axes>"
      ]
     },
     "metadata": {},
     "output_type": "display_data"
    }
   ],
   "source": [
    "# View confusion matrix\n",
    "ConfusionMatrixDisplay.from_estimator(pipeline, X_test_ss, y_test, cmap='Purples');\n",
    "plt.title('Confusion Matrix for the Logistic Regression With SMOTE Predictions',fontsize=16, loc='center');\n",
    "\n",
    "print(find_cm(y_test, y_pred))"
   ]
  },
  {
   "cell_type": "code",
   "execution_count": 795,
   "id": "425084a1",
   "metadata": {},
   "outputs": [],
   "source": [
    "tn_op_lr, fp_op_lr, fn_op_lr, tp_op_lr = confusion_matrix(y_test, y_pred).ravel()\n"
   ]
  },
  {
   "cell_type": "code",
   "execution_count": 796,
   "id": "c588515e",
   "metadata": {},
   "outputs": [
    {
     "name": "stdout",
     "output_type": "stream",
     "text": [
      "Sensitivity | 0.913\n",
      "Specificity | 0.91\n",
      "Accuracy | 0.912\n",
      "Precision | 0.932\n",
      "Miscalculation Rate | 0.088\n"
     ]
    }
   ],
   "source": [
    "# Calculate Sensitivity\n",
    "print(f\"Sensitivity | {round(tp_op_lr/(tp_op_lr+fn_op_lr),3)}\")\n",
    "# Calculate the Specificity\n",
    "print(f\"Specificity | {round(tn_op_lr/(tn_op_lr+fp_op_lr),3)}\")\n",
    "# Calculate Accuracy\n",
    "print(f\"Accuracy | {round((tp_op_lr+tn_op_lr)/(tp_op_lr+fp_op_lr+tn_op_lr+fn_op_lr),3)}\")\n",
    "# Calculate Precision\n",
    "print(f\"Precision | {round(tp_op_lr/(tp_op_lr+fp_op_lr),3)}\")\n",
    "# Calculate Miscalculation Rate\n",
    "print(f\"Miscalculation Rate | {round((fp_op_lr+fn_op_lr)/(tp_op_lr+fp_op_lr+tn_op_lr+fn_op_lr),3)}\")"
   ]
  },
  {
   "cell_type": "markdown",
   "id": "0a91527a",
   "metadata": {},
   "source": [
    "### In this BONUS Section, `SMOTE` was utilized to attempt further optimization. Therefore, although the model with `SMOTE` and $\\textit{logistic\\,regression}$ outperformed the original $\\textit{logistic\\,regression}$ model, it still did not outperform $\\textit{SVM}$. "
   ]
  }
 ],
 "metadata": {
  "kernelspec": {
   "display_name": "Python 3 (ipykernel)",
   "language": "python",
   "name": "python3"
  },
  "language_info": {
   "codemirror_mode": {
    "name": "ipython",
    "version": 3
   },
   "file_extension": ".py",
   "mimetype": "text/x-python",
   "name": "python",
   "nbconvert_exporter": "python",
   "pygments_lexer": "ipython3",
   "version": "3.11.5"
  }
 },
 "nbformat": 4,
 "nbformat_minor": 5
}

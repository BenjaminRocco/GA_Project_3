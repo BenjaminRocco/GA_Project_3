{
 "cells": [
  {
   "cell_type": "code",
   "execution_count": 109,
   "metadata": {},
   "outputs": [],
   "source": [
    "# import praw\n",
    "from praw_file_new import * \n",
    "\"\"\" \n",
    "replace with your praw.ini file, author is encountering an error using personal praw.ini\n",
    "\"\"\"\n",
    "import pandas as pd"
   ]
  },
  {
   "cell_type": "markdown",
   "metadata": {},
   "source": [
    "### Manually define variables from this praw imitation file"
   ]
  },
  {
   "cell_type": "code",
   "execution_count": 110,
   "metadata": {},
   "outputs": [],
   "source": [
    "client_id_file = client_id"
   ]
  },
  {
   "cell_type": "code",
   "execution_count": 111,
   "metadata": {},
   "outputs": [],
   "source": [
    "client_secret_file = client_secret"
   ]
  },
  {
   "cell_type": "code",
   "execution_count": 112,
   "metadata": {},
   "outputs": [],
   "source": [
    "user_agent_file = user_agent"
   ]
  },
  {
   "cell_type": "markdown",
   "metadata": {},
   "source": [
    "### Single function for scraping with users credentials passed"
   ]
  },
  {
   "cell_type": "code",
   "execution_count": 113,
   "metadata": {},
   "outputs": [],
   "source": [
    "import praw\n",
    "import pandas as pd\n",
    "\n",
    "def scrape_subreddit_posts(client_id, client_secret, user_agent, dem_sub='democrats', rep_sub='Republican', limit=1000):\n",
    "    # Instantiate Reddit object using credentials\n",
    "    reddit = praw.Reddit(\n",
    "        client_id=client_id,\n",
    "        client_secret=client_secret,\n",
    "        user_agent=user_agent\n",
    "    )\n",
    "\n",
    "    # Scrape posts from Democratic subreddit\n",
    "    dem_posts = reddit.subreddit(dem_sub).new(limit=limit)\n",
    "    posts_list_dem = []\n",
    "    for post in dem_posts:\n",
    "        posts_list_dem.append({\n",
    "            'title': post.title,\n",
    "            'selftext': post.selftext,\n",
    "            'subreddit': post.subreddit,\n",
    "            'created_utc': post.created_utc,\n",
    "            'name': post.name\n",
    "        })\n",
    "\n",
    "    # Scrape posts from Republican subreddit\n",
    "    rep_posts = reddit.subreddit(rep_sub).new(limit=limit)\n",
    "    posts_list_rep = []\n",
    "    for post in rep_posts:\n",
    "        posts_list_rep.append({\n",
    "            'title': post.title,\n",
    "            'selftext': post.selftext,\n",
    "            'subreddit': post.subreddit,\n",
    "            'created_utc': post.created_utc,\n",
    "            'name': post.name\n",
    "        })\n",
    "\n",
    "    # Create DataFrames for both Democratic and Republican posts\n",
    "    df_dem = pd.DataFrame(posts_list_dem)\n",
    "    df_rep = pd.DataFrame(posts_list_rep)\n",
    "\n",
    "    return df_dem, df_rep\n"
   ]
  },
  {
   "cell_type": "markdown",
   "metadata": {},
   "source": [
    "### Scrape by calling function and setting equal to dataframes for each subreddit"
   ]
  },
  {
   "cell_type": "code",
   "execution_count": 114,
   "metadata": {},
   "outputs": [],
   "source": [
    "\n",
    "df_dem, df_rep = scrape_subreddit_posts(client_id=client_id_file , client_secret=client_secret_file , user_agent= user_agent_file)\n",
    "\n",
    "# Now df_dem and df_rep contain DataFrames of posts from Democratic and Republican subreddits respectively."
   ]
  },
  {
   "cell_type": "markdown",
   "metadata": {},
   "source": [
    "### Verify Shape"
   ]
  },
  {
   "cell_type": "code",
   "execution_count": 115,
   "metadata": {},
   "outputs": [
    {
     "name": "stdout",
     "output_type": "stream",
     "text": [
      "(997, 5)\n",
      "(990, 5)\n"
     ]
    }
   ],
   "source": [
    "print(df_dem.shape)\n",
    "print(df_rep.shape)"
   ]
  },
  {
   "cell_type": "markdown",
   "metadata": {},
   "source": [
    "### Save Output with similar convention as version 1 notebook"
   ]
  },
  {
   "cell_type": "code",
   "execution_count": 116,
   "metadata": {},
   "outputs": [],
   "source": [
    "# # DONT FORGET TO CHANGE THE NUMBER ASSOC. W/ D AND R\n",
    "df_dem.to_csv('../data/df_d54.csv', index=False) #ran: 11:05 AM EST 03/15/2024 ; always have this here to denote the scrape \n",
    "df_rep.to_csv('../data/df_r54.csv', index=False)"
   ]
  }
 ],
 "metadata": {
  "kernelspec": {
   "display_name": "Python 3 (ipykernel)",
   "language": "python",
   "name": "python3"
  },
  "language_info": {
   "codemirror_mode": {
    "name": "ipython",
    "version": 3
   },
   "file_extension": ".py",
   "mimetype": "text/x-python",
   "name": "python",
   "nbconvert_exporter": "python",
   "pygments_lexer": "ipython3",
   "version": "3.10.13"
  }
 },
 "nbformat": 4,
 "nbformat_minor": 4
}

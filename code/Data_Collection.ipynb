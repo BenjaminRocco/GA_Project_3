{
 "cells": [
  {
   "cell_type": "markdown",
   "id": "fc2bf4ee-a9d4-4725-9c3e-d03e2b60ba5d",
   "metadata": {},
   "source": [
    "### Imports"
   ]
  },
  {
   "cell_type": "code",
   "execution_count": 47,
   "id": "b2dc8998-dcbc-4e3a-995c-04b60efdab6d",
   "metadata": {},
   "outputs": [],
   "source": [
    "import praw\n",
    "import pandas as pd\n"
   ]
  },
  {
   "cell_type": "markdown",
   "id": "43ae2d7f",
   "metadata": {},
   "source": [
    "### Instantiate PRAW"
   ]
  },
  {
   "cell_type": "code",
   "execution_count": 48,
   "id": "6408c94f-9396-482a-b0c7-86f18e2a812e",
   "metadata": {},
   "outputs": [],
   "source": [
    "# Reddit API credentials\n",
    "client_id='8sFJh4nD2kPv9xYlR3bIiA'\n",
    "client_secret ='4oUcR7sT1wXvQpN8zA2yH6kL3jD9gB'\n",
    "user_agent = '5fGj9sK1rH7iP3vQ6nM8bD2zA4'\n",
    "\n",
    "''' Sample parameters to enter during a submission \n",
    "REMOVE CLIENT_ID, CLIENT_SECRET, USER_AGENT AND REPLACE WITH THE FOLLOWING:\n",
    "(randomly generated string literals the length of each expected parameter):  \n",
    "client_id='8sFJh4nD2kPv9xYlR3bIiA'\n",
    "client_secret ='4oUcR7sT1wXvQpN8zA2yH6kL3jD9gB'\n",
    "user_agent = '5fGj9sK1rH7iP3vQ6nM8bD2zA4'\n",
    "'''\n",
    "\n",
    "# Instantiate Reddit object using credentials\n",
    "reddit = praw.Reddit(\n",
    "    client_id=client_id,\n",
    "    client_secret=client_secret,\n",
    "    user_agent=user_agent\n",
    ")\n",
    "\n",
    "# print(len(client_id))\n",
    "# print(len(client_secret))\n",
    "# print(len(user_agent))"
   ]
  },
  {
   "cell_type": "markdown",
   "id": "e5fe3a5f-bf84-489c-966e-8459bf5f3fda",
   "metadata": {},
   "source": [
    "### Subreddit titles"
   ]
  },
  {
   "cell_type": "code",
   "execution_count": 49,
   "id": "a83dc631-41d5-4483-8e9d-a248fd95c64b",
   "metadata": {},
   "outputs": [],
   "source": [
    "my_dem_sub = 'democrats'\n",
    "my_rep_sub = 'Republican'"
   ]
  },
  {
   "cell_type": "markdown",
   "id": "b50d225b-d9b7-4050-b3a8-0f6f2b612ee1",
   "metadata": {},
   "source": [
    "### Run following for subreddit titles"
   ]
  },
  {
   "cell_type": "code",
   "execution_count": 50,
   "id": "c9f9c737-6667-40ed-a519-184671b9dd7e",
   "metadata": {},
   "outputs": [],
   "source": [
    "my_dem_posts = reddit.subreddit(my_dem_sub).new(limit=1000)\n",
    "my_rep_posts = reddit.subreddit(my_rep_sub).new(limit=1000)\n",
    "\n",
    "# posts_list_dem = []\n",
    "# posts_list_rep = []\n",
    "\n",
    "for post in my_dem_posts:\n",
    "    posts_list_dem.append(\n",
    "        {\n",
    "        'title': post.title,\n",
    "        'selftext': post.subreddit,\n",
    "        'subreddit': post.subreddit,\n",
    "        'created_utc': post.created_utc,\n",
    "        'name':post.name\n",
    "        }\n",
    "    )\n",
    "\n",
    "for post in my_rep_posts:\n",
    "    posts_list_rep.append(\n",
    "        {\n",
    "        'title': post.title,\n",
    "        'selftext': post.subreddit,\n",
    "        'subreddit': post.subreddit,\n",
    "        'created_utc': post.created_utc,\n",
    "        'name':post.name\n",
    "        }\n",
    "    )\n",
    "\n",
    "        "
   ]
  },
  {
   "cell_type": "markdown",
   "id": "35e51b2c",
   "metadata": {},
   "source": [
    "### Run following for posts to dataframe"
   ]
  },
  {
   "cell_type": "code",
   "execution_count": 51,
   "id": "1bb1a1d2-e9b6-49d4-bb5d-62a2de1edd3b",
   "metadata": {},
   "outputs": [],
   "source": [
    "df_dem = pd.DataFrame(posts_list_dem)\n",
    "df_rep = pd.DataFrame(posts_list_rep)\n"
   ]
  },
  {
   "cell_type": "markdown",
   "id": "62dfc53a",
   "metadata": {},
   "source": [
    "### Examine the dataframe dimensions"
   ]
  },
  {
   "cell_type": "code",
   "execution_count": 52,
   "id": "9567c694",
   "metadata": {},
   "outputs": [
    {
     "name": "stdout",
     "output_type": "stream",
     "text": [
      "(4963, 5)\n",
      "(4953, 5)\n"
     ]
    }
   ],
   "source": [
    "print(df_dem.shape)\n",
    "print(df_rep.shape)"
   ]
  },
  {
   "cell_type": "markdown",
   "id": "48aba656",
   "metadata": {},
   "source": [
    "### Manually Increment Datafile format: `df_d#` and `df_r#` represent the `democrats` and `Republican` subreddit scrapes, respectively. "
   ]
  },
  {
   "cell_type": "code",
   "execution_count": 53,
   "id": "248ddecf-2d19-45f0-a7d1-abdaa7001206",
   "metadata": {},
   "outputs": [],
   "source": [
    "# # DONT FORGET TO CHANGE THE NUMBER ASSOC. W/ D AND R\n",
    "df_dem.to_csv('../data/df_d52.csv', index=False) #ran: 4:46 PM EST 01/27/2023 ; always have this here to denote the scrape \n",
    "df_rep.to_csv('../data/df_r52.csv', index=False)"
   ]
  }
 ],
 "metadata": {
  "kernelspec": {
   "display_name": "Python 3 (ipykernel)",
   "language": "python",
   "name": "python3"
  },
  "language_info": {
   "codemirror_mode": {
    "name": "ipython",
    "version": 3
   },
   "file_extension": ".py",
   "mimetype": "text/x-python",
   "name": "python",
   "nbconvert_exporter": "python",
   "pygments_lexer": "ipython3",
   "version": "3.11.5"
  }
 },
 "nbformat": 4,
 "nbformat_minor": 5
}
